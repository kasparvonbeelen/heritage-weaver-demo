{
 "cells": [
  {
   "cell_type": "code",
   "execution_count": 1,
   "id": "a9d3708f",
   "metadata": {},
   "outputs": [],
   "source": [
    "%load_ext autoreload\n",
    "%autoreload 2"
   ]
  },
  {
   "cell_type": "code",
   "execution_count": 6,
   "id": "61ba9982",
   "metadata": {},
   "outputs": [],
   "source": [
    "import chromadb\n",
    "import json\n",
    "import pandas as pd\n",
    "from chromadb.utils.data_loaders import ImageLoader\n",
    "from tools.embedding_tools import SigLIPEmbedder\n",
    "from tools.weaving_tools import plot_query_results, get_query_results\n",
    "import scipy.spatial as sp\n",
    "import seaborn as sns\n",
    "import numpy as np\n",
    "import random\n",
    "sns.set()"
   ]
  },
  {
   "cell_type": "code",
   "execution_count": 7,
   "id": "17914f6d",
   "metadata": {},
   "outputs": [],
   "source": [
    "def plot_record_pair(record_pair):\n",
    "    fig, axes = plt.subplots(1, 2, figsize=(15, 7.5))\n",
    "    \n",
    "    for i in range(2):\n",
    "        record = collection_df[collection_df.record_id==record_pair[i]]\n",
    "        img_path = record.img_path.values[0]\n",
    "        description = soft_wrap_text(record.description.values[0])\n",
    "        img = Image.open(img_path)\n",
    "        axes[i].imshow(img)\n",
    "        axes[i].set_title(description, fontsize = 18)\n",
    "        axes[i].axis('off')\n",
    "         \n",
    "    plt.show()"
   ]
  },
  {
   "cell_type": "code",
   "execution_count": 8,
   "id": "775b753a",
   "metadata": {},
   "outputs": [
    {
     "data": {
      "text/plain": [
       "(5132, 37219)"
      ]
     },
     "execution_count": 8,
     "metadata": {},
     "output_type": "execute_result"
    }
   ],
   "source": [
    "checkpoint = 'google/siglip-base-patch16-224'\n",
    "\n",
    "siglip_embedder = SigLIPEmbedder(checkpoint)\n",
    "\n",
    "client = chromadb.PersistentClient(path=\"ce_comms_db\")\n",
    "\n",
    "data_loader = ImageLoader()\n",
    "\n",
    "collection_db = client.get_or_create_collection(name=\"ce_comms_db\", \n",
    "                                             metadata={\"hnsw:space\": \"cosine\"},\n",
    "                                             embedding_function=siglip_embedder, \n",
    "                                             data_loader=data_loader\n",
    "                                            )\n",
    "\n",
    "collection_df = pd.read_csv('data/communications_data.csv')\n",
    "collection_df.shape[0], collection_db.count()"
   ]
  },
  {
   "cell_type": "markdown",
   "id": "d46bf85b",
   "metadata": {},
   "source": [
    "# Retrieval Annotation"
   ]
  },
  {
   "cell_type": "code",
   "execution_count": 9,
   "id": "cbd0ef53",
   "metadata": {},
   "outputs": [],
   "source": [
    "from tools.annotation_tools import plot_by_record\n",
    "import requests\n",
    "import time\n",
    "from pathlib import Path\n",
    "from io import BytesIO"
   ]
  },
  {
   "cell_type": "code",
   "execution_count": 10,
   "id": "fe16f71d",
   "metadata": {},
   "outputs": [],
   "source": [
    "out_path = Path('annotations')\n",
    "out_path.mkdir(exist_ok=True)"
   ]
  },
  {
   "cell_type": "code",
   "execution_count": null,
   "id": "6eccbe9c",
   "metadata": {},
   "outputs": [],
   "source": [
    "plt.ioff() # turn off default inline plotting\n",
    "\n",
    "# filters = {\n",
    "#     \"$and\": [\n",
    "#         {\n",
    "#             \"input_modality\": {\n",
    "#                 \"$eq\": \"text\"\n",
    "#             }\n",
    "#         },\n",
    "#         {\n",
    "#             \"collection\": {\n",
    "#                 \"$eq\" : \"smg\"\n",
    "#             }\n",
    "#         }\n",
    "#     ]\n",
    "# }\n",
    "\n",
    "modality = \"image\"\n",
    "filters = {\"input_modality\": modality}\n",
    "top_n = 100\n",
    "annotator = 'NK'"
   ]
  },
  {
   "cell_type": "code",
   "execution_count": null,
   "id": "53e47312",
   "metadata": {},
   "outputs": [],
   "source": [
    "query = 'very steampunk'\n",
    "results = collection_db.query(query_texts=[query],where=filters, n_results=top_n)"
   ]
  },
  {
   "cell_type": "code",
   "execution_count": null,
   "id": "b2a6c8b4",
   "metadata": {},
   "outputs": [],
   "source": [
    "import torch\n",
    "from PIL import Image\n",
    "import requests\n",
    "from transformers import SamModel, SamProcessor"
   ]
  },
  {
   "cell_type": "code",
   "execution_count": null,
   "id": "8ce46d3b",
   "metadata": {},
   "outputs": [],
   "source": []
  },
  {
   "cell_type": "code",
   "execution_count": null,
   "id": "1bbc9dc9",
   "metadata": {},
   "outputs": [],
   "source": [
    "device = \"cpu\" \n",
    "model = SamModel.from_pretrained(\"facebook/sam-vit-huge\").to(device)\n",
    "processor = SamProcessor.from_pretrained(\"facebook/sam-vit-huge\")"
   ]
  },
  {
   "cell_type": "code",
   "execution_count": null,
   "id": "cc50c046",
   "metadata": {},
   "outputs": [],
   "source": [
    "# functions taken from\n",
    "def show_points_on_image(raw_image, input_points, input_labels=None):\n",
    "    plt.figure(figsize=(10,10))\n",
    "    plt.imshow(raw_image)\n",
    "    input_points = np.array(input_points)\n",
    "    if input_labels is None:\n",
    "        labels = np.ones_like(input_points[:, 0])\n",
    "    else:\n",
    "        labels = np.array(input_labels)\n",
    "    show_points(input_points, labels, plt.gca())\n",
    "    plt.axis('on')\n",
    "    plt.show()\n",
    "    \n",
    "def show_points(coords, labels, ax, marker_size=375):\n",
    "    pos_points = coords[labels==1]\n",
    "    neg_points = coords[labels==0]\n",
    "    ax.scatter(pos_points[:, 0], pos_points[:, 1], color='green', marker='*', s=marker_size, edgecolor='white', linewidth=1.25)\n",
    "    ax.scatter(neg_points[:, 0], neg_points[:, 1], color='red', marker='*', s=marker_size, edgecolor='white', linewidth=1.25)\n",
    "\n",
    "def show_masks_on_image(raw_image, masks, scores):\n",
    "    if len(masks.shape) == 4:\n",
    "        masks = masks.squeeze()\n",
    "    if scores.shape[0] == 1:\n",
    "        scores = scores.squeeze()\n",
    "\n",
    "    nb_predictions = scores.shape[-1]\n",
    "    fig, axes = plt.subplots(1, nb_predictions, figsize=(15, 15))\n",
    "\n",
    "    for i, (mask, score) in enumerate(zip(masks, scores)):\n",
    "        mask = mask.cpu().detach()\n",
    "        axes[i].imshow(np.array(raw_image))\n",
    "        show_mask(mask, axes[i])\n",
    "        axes[i].title.set_text(f\"Mask {i+1}, Score: {score.item():.3f}\")\n",
    "        axes[i].axis(\"off\")\n",
    "    plt.show()\n",
    "    \n",
    "def show_mask(mask, ax, random_color=False):\n",
    "    if random_color:\n",
    "        color = np.concatenate([np.random.random(3), np.array([0.6])], axis=0)\n",
    "    else:\n",
    "        color = np.array([30/255, 144/255, 255/255, 0.6])\n",
    "    h, w = mask.shape[-2:]\n",
    "    mask_image = mask.reshape(h, w, 1) * color.reshape(1, 1, -1)\n",
    "    ax.imshow(mask_image)"
   ]
  },
  {
   "cell_type": "code",
   "execution_count": null,
   "id": "31b2d4bf",
   "metadata": {},
   "outputs": [],
   "source": [
    "raw_image"
   ]
  },
  {
   "cell_type": "code",
   "execution_count": null,
   "id": "e7d3d4de",
   "metadata": {},
   "outputs": [],
   "source": [
    "#img_url = \"https://i.pinimg.com/originals/98/8c/2a/988c2a6dc0155e2aa1cf66142e85acf4.jpg\"\n",
    "#img_url = \"https://i.pinimg.com/736x/43/32/18/433218ccd63087a6ba0c66336777a8cb.jpg\"\n",
    "img_url = 'https://image1.masterfile.com/getImage/ODQ2LTA1NjQ4NDM1ZW4uMDAwMDAwMDA=ADoG02/846-05648435en_Masterfile.jpg'\n",
    "img_url = 'https://media.istockphoto.com/id/891337926/photo/beautiful-woman-with-vintage-phone.jpg?s=170667a&w=0&k=20&c=xXFnMliS5aWx4vOZIwnm6HaOW71HFCvYNTCKnO9rFRs='\n",
    "#img_url = 'http://www.digitalarchives.bt.com/Calmview/GetImage.ashx?db=Catalog&type=default&fname=TCB_417_E54315.jpg'\n",
    "#input_points = [[[420, 550]]] # 2D location of a window in the image\n",
    "input_points = [[[2000,1000],[2500,800]]]\n",
    "#input_points = [[[300,275],[200,250],[166,200],[140,140]]]\n",
    "#input_points = [[[410,450],[250,400]]]\n",
    "raw_image = Image.open(requests.get(img_url, stream=True).raw).convert(\"RGB\")\n",
    "#raw_image = Image.open('/Users/kasparbeelen/Downloads/image.jpeg')\n",
    "show_points_on_image(raw_image,input_points[0])"
   ]
  },
  {
   "cell_type": "code",
   "execution_count": null,
   "id": "11433135",
   "metadata": {},
   "outputs": [],
   "source": []
  },
  {
   "cell_type": "code",
   "execution_count": null,
   "id": "fe560ba1",
   "metadata": {},
   "outputs": [],
   "source": [
    "inputs = processor(raw_image, input_points=input_points, return_tensors=\"pt\").to(device)\n",
    "with torch.no_grad():\n",
    "    outputs = model(**inputs)\n",
    "\n",
    "masks = processor.image_processor.post_process_masks(\n",
    "    outputs.pred_masks.cpu(), inputs[\"original_sizes\"].cpu(), inputs[\"reshaped_input_sizes\"].cpu()\n",
    ")\n",
    "scores = outputs.iou_scores"
   ]
  },
  {
   "cell_type": "code",
   "execution_count": null,
   "id": "89baed28",
   "metadata": {},
   "outputs": [],
   "source": [
    "masks[0].shape"
   ]
  },
  {
   "cell_type": "code",
   "execution_count": null,
   "id": "583f742f",
   "metadata": {},
   "outputs": [],
   "source": [
    "show_masks_on_image(raw_image, masks[0], scores)"
   ]
  },
  {
   "cell_type": "code",
   "execution_count": null,
   "id": "cf36a799",
   "metadata": {},
   "outputs": [],
   "source": [
    "last_mask = masks[0].squeeze(0)[1,:,:]"
   ]
  },
  {
   "cell_type": "code",
   "execution_count": null,
   "id": "9fdc6a5b",
   "metadata": {},
   "outputs": [],
   "source": [
    "masked_image = np.copy(raw_image)\n",
    "\n",
    "    # Apply mask to each channel of the image\n",
    "for i in range(3):  # assuming RGB image\n",
    "    # Blank out pixels where mask is False\n",
    "    masked_image[:, :, i] = np.where(last_mask[:, :] == False, 255, masked_image[:, :, i])\n"
   ]
  },
  {
   "cell_type": "code",
   "execution_count": null,
   "id": "7e4760e1",
   "metadata": {},
   "outputs": [],
   "source": [
    "plt.figure(figsize=(10, 5))\n",
    "plt.subplot(1, 2, 1)\n",
    "plt.imshow(raw_image)\n",
    "plt.title('Original Image')\n",
    "plt.axis('off')\n",
    "\n",
    "plt.subplot(1, 2, 2)\n",
    "plt.imshow(masked_image)\n",
    "plt.title('Masked Image')\n",
    "plt.axis('off')\n",
    "\n",
    "plt.show()"
   ]
  },
  {
   "cell_type": "code",
   "execution_count": null,
   "id": "fddf48c2",
   "metadata": {},
   "outputs": [],
   "source": [
    "#https://huggingface.co/spaces/merve/OWLSAM\n",
    "img = Image.fromarray(masked_image)\n",
    "img.save('test.jpg')\n",
    "img = Image.open('test.jpg')\n",
    "img"
   ]
  },
  {
   "cell_type": "code",
   "execution_count": null,
   "id": "93187e79",
   "metadata": {},
   "outputs": [],
   "source": [
    "#root =  '/Users/kasparbeelen/Documents/CongruenceEngine/heritage-weaver/'\n",
    "\n",
    "def label_studio_export(img_url, collection_df):\n",
    "    results = collection_db.query(query_images=[img_url],n_results=top_n) # where=filters, \n",
    "    query_df = plot_query_results(results, collection_df)\n",
    "    query_df['target_img'] = query_df.img_url#.apply(lambda x: root + x)\n",
    "    query_df['source_img'] =  img_url\n",
    "    query_df[['target_img','source_img','record_id','description']].to_csv('test_labelstudio.csv')\n",
    "    \n",
    "label_studio_export(collection_df.iloc[1001].img_url,collection_df)"
   ]
  },
  {
   "cell_type": "code",
   "execution_count": null,
   "id": "28101b16",
   "metadata": {},
   "outputs": [],
   "source": [
    "!open ."
   ]
  },
  {
   "cell_type": "code",
   "execution_count": null,
   "id": "cdde8c68",
   "metadata": {},
   "outputs": [],
   "source": [
    "img = collection_df.iloc[10].img_path"
   ]
  },
  {
   "cell_type": "code",
   "execution_count": null,
   "id": "4c6cb2fb",
   "metadata": {},
   "outputs": [],
   "source": [
    "results['metadatas']"
   ]
  },
  {
   "cell_type": "code",
   "execution_count": null,
   "id": "5feeb64f",
   "metadata": {},
   "outputs": [],
   "source": [
    "# query = 'https://i.ebayimg.com/images/g/4SUAAOSwOelisbt4/s-l1600.jpg'\n",
    "# response = requests.get(query)\n",
    "#img = Image.open(BytesIO(response.content))\n",
    "results = collection_db.query(query_images=[img],n_results=top_n) # where=filters, "
   ]
  },
  {
   "cell_type": "code",
   "execution_count": null,
   "id": "1e0eef86",
   "metadata": {},
   "outputs": [],
   "source": [
    "query_df"
   ]
  },
  {
   "cell_type": "code",
   "execution_count": null,
   "id": "52f5651d",
   "metadata": {},
   "outputs": [],
   "source": [
    "query_df = plot_query_results(results, collection_df)\n",
    "inputs = list(query_df.to_records()); len(inputs)"
   ]
  },
  {
   "cell_type": "code",
   "execution_count": null,
   "id": "85d91e48",
   "metadata": {},
   "outputs": [],
   "source": [
    "img"
   ]
  },
  {
   "cell_type": "code",
   "execution_count": null,
   "id": "535eafa0",
   "metadata": {},
   "outputs": [],
   "source": [
    "labels = []\n",
    "\n",
    "widget = ipyannotations.generic.ClassLabeller(\n",
    "        options=['relevant', 'not relevant'], allow_freetext=False,\n",
    "        display_function=plot_by_record)\n",
    "\n",
    "\n",
    "def store_annotations(entity_annotation):\n",
    "    labels.append(entity_annotation)\n",
    "    try:\n",
    "        widget.display(inputs.pop(0))\n",
    "    except IndexError:\n",
    "        print(\"Finished.\")\n",
    "        \n",
    "widget.on_submit(store_annotations)\n",
    "widget.display(inputs.pop(0))\n",
    "widget"
   ]
  },
  {
   "cell_type": "code",
   "execution_count": null,
   "id": "cc633e2d",
   "metadata": {},
   "outputs": [],
   "source": [
    "query_df['labels'] = labels[:top_n]\n",
    "query_df['query'] = query\n",
    "query_df['modality'] = modality\n",
    "query_df.to_csv(out_path / f'{annotator}_{time.time()}.csv')"
   ]
  },
  {
   "cell_type": "markdown",
   "id": "3b221faf",
   "metadata": {},
   "source": [
    "# Link Annotation"
   ]
  },
  {
   "cell_type": "code",
   "execution_count": null,
   "id": "dade6949",
   "metadata": {},
   "outputs": [],
   "source": [
    "annotator = 'KB'\n",
    "num_annotations = 10\n",
    "to_annotate = edges[:num_annotations]\n",
    "coll1, coll2 = 'smg','nms'\n",
    "modality1, modality2 = 'image', 'image'\n",
    "percentile = 99.5\n",
    "randomize = True"
   ]
  },
  {
   "cell_type": "code",
   "execution_count": null,
   "id": "c6171b1d",
   "metadata": {},
   "outputs": [],
   "source": [
    "filter_smg = {\n",
    "    \"$and\": [\n",
    "        {\n",
    "            \"input_modality\": {\n",
    "                \"$eq\": modality1\n",
    "            }\n",
    "        },\n",
    "        {\n",
    "            \"collection\": {\n",
    "                \"$eq\" : coll1\n",
    "            }\n",
    "        }\n",
    "    ]\n",
    "}\n",
    "\n",
    "\n",
    "smg_data = collection_db.get(\n",
    "                where=filter_smg,\n",
    "                include=['embeddings','metadatas']\n",
    "\n",
    "                    )\n",
    "\n",
    "filter_nms = {\n",
    "    \"$and\": [\n",
    "        {\n",
    "            \"input_modality\": {\n",
    "                \"$eq\": modality2\n",
    "            }\n",
    "        },\n",
    "        {\n",
    "            \"collection\": {\n",
    "                \"$eq\" : coll2\n",
    "            }\n",
    "        }\n",
    "    ]\n",
    "}\n",
    "\n",
    "nms_data = collection_db.get(\n",
    "                where=filter_nms,\n",
    "                include=['embeddings','metadatas']\n",
    "            )"
   ]
  },
  {
   "cell_type": "code",
   "execution_count": null,
   "id": "ba990f91",
   "metadata": {},
   "outputs": [],
   "source": [
    "smg_ids = smg_data['ids']\n",
    "nms_ids = nms_data['ids']\n",
    "\n",
    "smg_rids = [record['record_id'] for record in smg_data['metadatas']]\n",
    "nms_rids = [record['record_id'] for record in nms_data['metadatas']]\n",
    "\n",
    "smg_emb = np.matrix(smg_data['embeddings'])\n",
    "nms_emb = np.matrix(nms_data['embeddings'])\n",
    "image_similarities = 1 - sp.distance.cdist(smg_emb,nms_emb, 'cosine')\n",
    "\n",
    "threshold = np.percentile(image_similarities.reshape(-1), percentile) ; threshold\n",
    "\n",
    "image_similarities[image_similarities >= threshold] = 1\n",
    "image_similarities[image_similarities < threshold] = 0\n",
    "\n",
    "sns.set(rc={'figure.figsize':(15.7,12.27)})\n",
    "\n",
    "sns.heatmap(image_similarities, cmap= sns.cm.rocket_r)"
   ]
  },
  {
   "cell_type": "code",
   "execution_count": null,
   "id": "83b5c76f",
   "metadata": {},
   "outputs": [],
   "source": [
    "#image_similarities.sum(axis=1).sum()/(image_similarities.shape[0]*image_similarities.shape[1])"
   ]
  },
  {
   "cell_type": "code",
   "execution_count": null,
   "id": "3bc273aa",
   "metadata": {},
   "outputs": [],
   "source": [
    "smg_node_ids = list(np.where(image_similarities.sum(axis=1) > 0)[0])\n",
    "nms_node_ids = list(np.where(image_similarities.sum(axis=0) > 0)[0])\n",
    "\n",
    "smg_mapping = {i:j for i,j in zip(range(len(smg_data['embeddings'])),smg_rids)}\n",
    "nms_mapping = {i:j for i,j in zip(range(len(nms_data['embeddings'])),nms_rids)}"
   ]
  },
  {
   "cell_type": "code",
   "execution_count": null,
   "id": "999968a2",
   "metadata": {},
   "outputs": [],
   "source": [
    "edges = [(smg_mapping[i],nms_mapping[j]) for i,j in zip(*np.where(image_similarities > 0))]"
   ]
  },
  {
   "cell_type": "code",
   "execution_count": null,
   "id": "f77b4427",
   "metadata": {},
   "outputs": [],
   "source": [
    "print(len(edges))"
   ]
  },
  {
   "cell_type": "code",
   "execution_count": null,
   "id": "f86c4f56",
   "metadata": {},
   "outputs": [],
   "source": [
    "if randomize:\n",
    "    random.shuffle(edges)\n",
    "img_pairs = edges[:num_annotations]"
   ]
  },
  {
   "cell_type": "code",
   "execution_count": null,
   "id": "8d8639d3",
   "metadata": {},
   "outputs": [],
   "source": [
    "labels = []\n",
    "\n",
    "widget = ipyannotations.generic.ClassLabeller(\n",
    "        options=['link', 'no link'], allow_freetext=True,\n",
    "        display_function=plot_record_pair)\n",
    "\n",
    "\n",
    "def store_annotations(entity_annotation):\n",
    "    labels.append(entity_annotation)\n",
    "    try:\n",
    "        widget.display(img_pairs.pop(0))\n",
    "    except IndexError:\n",
    "        print(\"Finished.\")\n",
    "widget.on_submit(store_annotations)\n",
    "widget.display(img_pairs.pop(0))\n",
    "widget\n"
   ]
  },
  {
   "cell_type": "code",
   "execution_count": null,
   "id": "43273b32",
   "metadata": {},
   "outputs": [],
   "source": [
    "annotations_df = pd.DataFrame(to_annotate, columns=['coll1','coll2'])\n",
    "annotations_df['labels'] = labels[:num_annotations]"
   ]
  },
  {
   "cell_type": "code",
   "execution_count": null,
   "id": "a9237569",
   "metadata": {},
   "outputs": [],
   "source": [
    "for varname, var in [('coll1_name',coll1), ('coll2_name',coll2), ('modality1',modality1), ('modality2',modality2)]:\n",
    "    annotations_df[varname] = var"
   ]
  },
  {
   "cell_type": "code",
   "execution_count": null,
   "id": "36bf6609",
   "metadata": {},
   "outputs": [],
   "source": [
    "annotations_df"
   ]
  },
  {
   "cell_type": "code",
   "execution_count": null,
   "id": "9f7d8a47",
   "metadata": {},
   "outputs": [],
   "source": [
    "annotations_df.to_csv(out_path / f'{annotator}_{time.time()}')"
   ]
  },
  {
   "cell_type": "code",
   "execution_count": null,
   "id": "5856e7c0",
   "metadata": {},
   "outputs": [],
   "source": []
  }
 ],
 "metadata": {
  "kernelspec": {
   "display_name": "heritageweaverv",
   "language": "python",
   "name": "heritageweaverv"
  },
  "language_info": {
   "codemirror_mode": {
    "name": "ipython",
    "version": 3
   },
   "file_extension": ".py",
   "mimetype": "text/x-python",
   "name": "python",
   "nbconvert_exporter": "python",
   "pygments_lexer": "ipython3",
   "version": "3.9.18"
  }
 },
 "nbformat": 4,
 "nbformat_minor": 5
}
