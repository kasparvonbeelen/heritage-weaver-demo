{
 "cells": [
  {
   "cell_type": "code",
   "execution_count": 1,
   "id": "a9d3708f",
   "metadata": {},
   "outputs": [],
   "source": [
    "%load_ext autoreload\n",
    "%autoreload 2"
   ]
  },
  {
   "cell_type": "code",
   "execution_count": 5,
   "id": "61ba9982",
   "metadata": {},
   "outputs": [],
   "source": [
    "import time\n",
    "from pathlib import Path\n",
    "import pandas as pd\n",
    "from PIL import Image\n",
    "from weavingtools.annotation_tools import *\n",
    "from weavingtools.linkage_tools import *\n",
    "from weavingtools.embedding_tools import *\n",
    "import scipy.spatial as sp\n",
    "import ipyannotations.generic\n",
    "import matplotlib.pyplot as plt\n",
    "import seaborn as sns\n",
    "import numpy as np\n",
    "import random\n",
    "sns.set()"
   ]
  },
  {
   "cell_type": "code",
   "execution_count": 3,
   "id": "17914f6d",
   "metadata": {},
   "outputs": [],
   "source": [
    "def plot_record_pair(record_pair):\n",
    "    fig, axes = plt.subplots(1, 2, figsize=(15, 7.5))\n",
    "    \n",
    "    for i in range(2):\n",
    "       \n",
    "        record = collection_df[collection_df.record_id==record_pair[i]]\n",
    "        print(record.record_id.values[0])\n",
    "        img_path = record.img_path.values[0]\n",
    "        description = soft_wrap_text(record.record_id.values[0] + ' '  + record.description.values[0])\n",
    "        img = Image.open(img_path)\n",
    "        #img.resize((250, 2500))\n",
    "        axes[i].imshow(img)\n",
    "        axes[i].set_title(description, fontsize = 18)\n",
    "        axes[i].axis('off')\n",
    "         \n",
    "    plt.show()\n",
    "\n"
   ]
  },
  {
   "cell_type": "code",
   "execution_count": 6,
   "id": "6c6fcd1a",
   "metadata": {},
   "outputs": [],
   "source": [
    "collection_db = load_db(\"hw\",'heritage_weaver','google/siglip-base-patch16-224')\n",
    "collection_df = pd.read_csv('data/heritage_weaver_data.csv')\n",
    "out_path = Path('annotations')\n",
    "out_path.mkdir(exist_ok=True)"
   ]
  },
  {
   "cell_type": "markdown",
   "id": "d46bf85b",
   "metadata": {},
   "source": [
    "## Retrieval Based on Text Prompts"
   ]
  },
  {
   "cell_type": "code",
   "execution_count": 38,
   "id": "cbd0ef53",
   "metadata": {},
   "outputs": [],
   "source": [
    "\n",
    "top_n = 20\n",
    "annotator = 'KB'"
   ]
  },
  {
   "cell_type": "code",
   "execution_count": 39,
   "id": "6eccbe9c",
   "metadata": {},
   "outputs": [],
   "source": [
    "query = 'a radio transistor'\n",
    "experiment = '1'"
   ]
  },
  {
   "cell_type": "code",
   "execution_count": 40,
   "id": "b1cb80e4",
   "metadata": {},
   "outputs": [],
   "source": [
    "# retrieve records\n",
    "if experiment == '1':\n",
    "    filters = {'modality':'image'}\n",
    "elif experiment == '2':\n",
    "    filters = {'modality':'text'}\n",
    "elif experiment == '3':\n",
    "    filters = {}\n",
    "results = collection_db.query(query_texts=[query],where=filters, n_results=top_n)\n",
    "query_df = get_query_results(results, source='img_path') # collection_df,\n",
    "inputs = list(query_df.to_records())\n"
   ]
  },
  {
   "cell_type": "code",
   "execution_count": 41,
   "id": "87fb4048",
   "metadata": {},
   "outputs": [
    {
     "data": {
      "application/vnd.jupyter.widget-view+json": {
       "model_id": "0768a6207e4842b7b0996cc05d91cc88",
       "version_major": 2,
       "version_minor": 0
      },
      "text/plain": [
       "ClassLabeller(children=(Box(children=(Output(layout=Layout(margin='auto', min_height='50px')),), layout=Layout…"
      ]
     },
     "execution_count": 41,
     "metadata": {},
     "output_type": "execute_result"
    },
    {
     "name": "stdout",
     "output_type": "stream",
     "text": [
      "Finished.\n"
     ]
    }
   ],
   "source": [
    "labels = []\n",
    "\n",
    "widget = ipyannotations.generic.ClassLabeller(\n",
    "        options=['relevant', 'not relevant'], allow_freetext=False,\n",
    "        display_function=plot_by_record)\n",
    "\n",
    "\n",
    "def store_annotations(entity_annotation):\n",
    "    labels.append(entity_annotation)\n",
    "    try:\n",
    "        widget.display(inputs.pop(0))\n",
    "    except IndexError:\n",
    "        print(\"Finished.\")\n",
    "        \n",
    "widget.on_submit(store_annotations)\n",
    "widget.display(inputs.pop(0))\n",
    "widget"
   ]
  },
  {
   "cell_type": "code",
   "execution_count": 42,
   "id": "7ea61991",
   "metadata": {},
   "outputs": [
    {
     "data": {
      "text/plain": [
       "((20, 7), 20)"
      ]
     },
     "execution_count": 42,
     "metadata": {},
     "output_type": "execute_result"
    }
   ],
   "source": [
    "query_df.shape,len(labels)"
   ]
  },
  {
   "cell_type": "code",
   "execution_count": 43,
   "id": "53e47312",
   "metadata": {},
   "outputs": [],
   "source": [
    "query_df['labels'] = labels[:top_n]\n",
    "query_df['query'] = query\n",
    "query_df['experiment'] = experiment\n",
    "query_df.to_csv(out_path / f'{annotator}_{time.time()}.csv')\n",
    "#results = collection_db.query(query_texts=[query],where=filters, n_results=top_n)"
   ]
  },
  {
   "cell_type": "code",
   "execution_count": null,
   "id": "3f83f937-bf10-40e4-bd31-04d18932427e",
   "metadata": {},
   "outputs": [],
   "source": [
    "# #Visual prompting optional at the moment, integrate later\n",
    "# idx = 4\n",
    "# record = collection_df.iloc[idx]\n",
    "# results = collection_db.query(query_uris=[record.img_path],n_results=top_n, where=filters) # \n",
    "# #Image.open(record.img_path)\n",
    "# query_df = plot_query_results(results, collection_df,source='img_path')"
   ]
  },
  {
   "cell_type": "markdown",
   "id": "3b221faf",
   "metadata": {},
   "source": [
    "# Link Annotation"
   ]
  },
  {
   "cell_type": "code",
   "execution_count": 44,
   "id": "dade6949",
   "metadata": {},
   "outputs": [],
   "source": [
    "annotator = 'KB'\n",
    "num_annotations = 10\n",
    "coll1, coll2 = 'smg','nms'\n",
    "percentile = 99.0  #99.95 | False\n",
    "threshold = 0.8\n",
    "randomize = True\n"
   ]
  },
  {
   "cell_type": "code",
   "execution_count": 45,
   "id": "9f83bd89",
   "metadata": {},
   "outputs": [],
   "source": [
    "experiment = '1'"
   ]
  },
  {
   "cell_type": "code",
   "execution_count": 46,
   "id": "c97474b9",
   "metadata": {},
   "outputs": [
    {
     "name": "stdout",
     "output_type": "stream",
     "text": [
      "Get inputs...\n",
      "7 7\n",
      "Compute similarities...\n",
      "--- Get similarities ---\n",
      "--- Using 0.759627968792046 as threshold ---\n",
      "--- Aggregate similarities by record ---\n",
      "--- Threshold similarities and binarize ---\n",
      "Retrieve edges...\n"
     ]
    },
    {
     "data": {
      "text/plain": [
       "103268"
      ]
     },
     "execution_count": 46,
     "metadata": {},
     "output_type": "execute_result"
    }
   ],
   "source": [
    "if experiment == '1':\n",
    "    modality1, modality2 = 'image','image'\n",
    "    agg_func = 'max' \n",
    "elif experiment == '2':\n",
    "    modality1, modality2 = 'text','text' \n",
    "    agg_func = 'max' \n",
    "elif experiment == '3':\n",
    "    modality1, modality2 = 'text','text' \n",
    "    experiment_id = '3'\n",
    "    agg_func = 'mean' \n",
    "\n",
    "edges, image_similarities, inputs = get_edges(collection_db,coll1,coll2, modality1, modality2, agg_func,percentile, threshold ); len(edges)"
   ]
  },
  {
   "cell_type": "code",
   "execution_count": 47,
   "id": "7f7507e7-74d7-4c32-bc9e-568e22908ef5",
   "metadata": {},
   "outputs": [],
   "source": [
    "if experiment == '4':\n",
    "    image_edges, similarities, inputs = get_edges(collection_db,coll1,coll2, 'image','image', 'max', 99.5  , threshold )\n",
    "    text_edges, similarities, inputs =  get_edges(collection_db,coll1,coll2, 'text','text', 'max', 99.5  , threshold )\n",
    "    edges = list(set(image_edges).intersection(set(text_edges))); len(edges)"
   ]
  },
  {
   "cell_type": "code",
   "execution_count": 48,
   "id": "9b2dc1c4-4029-4207-aecf-110351f44705",
   "metadata": {},
   "outputs": [
    {
     "data": {
      "application/vnd.jupyter.widget-view+json": {
       "model_id": "7e4bf8f909d94e7b9b19e10f64cc5b15",
       "version_major": 2,
       "version_minor": 0
      },
      "text/plain": [
       "ClassLabeller(children=(Box(children=(Output(layout=Layout(margin='auto', min_height='50px')),), layout=Layout…"
      ]
     },
     "execution_count": 48,
     "metadata": {},
     "output_type": "execute_result"
    },
    {
     "name": "stdout",
     "output_type": "stream",
     "text": [
      "Finished.\n"
     ]
    }
   ],
   "source": [
    "if randomize:\n",
    "    random.seed(42)\n",
    "    random.shuffle(edges)\n",
    "img_pairs = edges[:num_annotations]\n",
    "to_annotate = img_pairs.copy()\n",
    "\n",
    "labels = []\n",
    "\n",
    "widget = ipyannotations.generic.ClassLabeller(\n",
    "        options=['same object', 'same category', 'same materials','no link'], allow_freetext=True,\n",
    "        display_function=plot_record_pair)\n",
    "\n",
    "\n",
    "def store_annotations(entity_annotation):\n",
    "    labels.append(entity_annotation)\n",
    "    try:\n",
    "        widget.display(img_pairs.pop(0))\n",
    "    except IndexError:\n",
    "        print(\"Finished.\")\n",
    "widget.on_submit(store_annotations)\n",
    "widget.display(img_pairs.pop(0))\n",
    "widget\n"
   ]
  },
  {
   "cell_type": "code",
   "execution_count": 49,
   "id": "9190d594-839e-4427-9c48-3ed0d4b604b3",
   "metadata": {},
   "outputs": [],
   "source": [
    "annotations_df = pd.DataFrame(to_annotate, columns=['coll1','coll2'])\n",
    "annotations_df['labels'] = labels[:num_annotations]\n",
    "annotations_df['experiment'] = experiment\n",
    "annotations_df.to_csv(out_path / f'{annotator}_{time.time()}')"
   ]
  },
  {
   "cell_type": "markdown",
   "id": "d27fef44-4251-4b5d-8694-dee8b6db107e",
   "metadata": {},
   "source": [
    "# Fin."
   ]
  }
 ],
 "metadata": {
  "kernelspec": {
   "display_name": "Python 3 (ipykernel)",
   "language": "python",
   "name": "python3"
  },
  "language_info": {
   "codemirror_mode": {
    "name": "ipython",
    "version": 3
   },
   "file_extension": ".py",
   "mimetype": "text/x-python",
   "name": "python",
   "nbconvert_exporter": "python",
   "pygments_lexer": "ipython3",
   "version": "3.9.18"
  }
 },
 "nbformat": 4,
 "nbformat_minor": 5
}
