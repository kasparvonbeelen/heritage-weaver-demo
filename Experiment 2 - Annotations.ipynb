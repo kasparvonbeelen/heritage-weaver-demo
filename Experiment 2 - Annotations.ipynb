{
 "cells": [
  {
   "cell_type": "code",
   "execution_count": 44,
   "id": "a9d3708f",
   "metadata": {},
   "outputs": [
    {
     "name": "stdout",
     "output_type": "stream",
     "text": [
      "The autoreload extension is already loaded. To reload it, use:\n",
      "  %reload_ext autoreload\n"
     ]
    }
   ],
   "source": [
    "%load_ext autoreload\n",
    "%autoreload 2"
   ]
  },
  {
   "cell_type": "code",
   "execution_count": 45,
   "id": "61ba9982",
   "metadata": {},
   "outputs": [],
   "source": [
    "import time\n",
    "from pathlib import Path\n",
    "import pandas as pd\n",
    "from PIL import Image\n",
    "from weavingtools.annotation_tools import *\n",
    "from weavingtools.weaving_tools import *\n",
    "import scipy.spatial as sp\n",
    "import ipyannotations.generic\n",
    "import matplotlib.pyplot as plt\n",
    "import seaborn as sns\n",
    "import numpy as np\n",
    "import random\n",
    "sns.set()"
   ]
  },
  {
   "cell_type": "code",
   "execution_count": 46,
   "id": "17914f6d",
   "metadata": {},
   "outputs": [],
   "source": [
    "def plot_record_pair(record_pair):\n",
    "    fig, axes = plt.subplots(1, 2, figsize=(15, 7.5))\n",
    "    \n",
    "    for i in range(2):\n",
    "       \n",
    "        record = collection_df[collection_df.record_id==record_pair[i]]\n",
    "        print(record.record_id.values[0])\n",
    "        img_path = record.img_path.values[0]\n",
    "        description = soft_wrap_text(record.record_id.values[0] + ' '  + record.description.values[0])\n",
    "        img = Image.open(img_path)\n",
    "        #img.resize((250, 2500))\n",
    "        axes[i].imshow(img)\n",
    "        axes[i].set_title(description, fontsize = 18)\n",
    "        axes[i].axis('off')\n",
    "         \n",
    "    plt.show()\n",
    "\n"
   ]
  },
  {
   "cell_type": "code",
   "execution_count": 47,
   "id": "6c6fcd1a",
   "metadata": {},
   "outputs": [],
   "source": [
    "collection_db = load_db(\"ce_comms_db\",'google/siglip-base-patch16-224')\n",
    "collection_df = pd.read_csv('data/communications_data.csv')\n",
    "out_path = Path('annotations')\n",
    "out_path.mkdir(exist_ok=True)"
   ]
  },
  {
   "cell_type": "markdown",
   "id": "d46bf85b",
   "metadata": {},
   "source": [
    "## Retrieval Based on Text Prompts"
   ]
  },
  {
   "cell_type": "code",
   "execution_count": 5,
   "id": "cbd0ef53",
   "metadata": {},
   "outputs": [],
   "source": [
    "\n",
    "top_n = 20\n",
    "annotator = 'KB'"
   ]
  },
  {
   "cell_type": "code",
   "execution_count": 6,
   "id": "6eccbe9c",
   "metadata": {},
   "outputs": [],
   "source": [
    "query = 'a radio transistor'\n",
    "experiment = '1'"
   ]
  },
  {
   "cell_type": "code",
   "execution_count": 12,
   "id": "b1cb80e4",
   "metadata": {},
   "outputs": [],
   "source": [
    "# retrieve records\n",
    "if experiment == '1':\n",
    "    filters = {'input_modality':'image'}\n",
    "elif experiment == '2':\n",
    "    filters = {'input_modality':'text'}\n",
    "elif experiment == '3':\n",
    "    filters = {}\n",
    "results = collection_db.query(query_texts=[query],where=filters, n_results=top_n)\n",
    "query_df = get_query_results(results, collection_df, source='img_path')\n",
    "inputs = list(query_df.to_records())\n"
   ]
  },
  {
   "cell_type": "code",
   "execution_count": null,
   "id": "8537acc8",
   "metadata": {},
   "outputs": [],
   "source": []
  },
  {
   "cell_type": "code",
   "execution_count": 13,
   "id": "87fb4048",
   "metadata": {},
   "outputs": [
    {
     "data": {
      "application/vnd.jupyter.widget-view+json": {
       "model_id": "97e52e8975ad4f26bb1aa2d001d96a81",
       "version_major": 2,
       "version_minor": 0
      },
      "text/plain": [
       "ClassLabeller(children=(Box(children=(Output(layout=Layout(margin='auto', min_height='50px')),), layout=Layout…"
      ]
     },
     "execution_count": 13,
     "metadata": {},
     "output_type": "execute_result"
    }
   ],
   "source": [
    "labels = []\n",
    "\n",
    "widget = ipyannotations.generic.ClassLabeller(\n",
    "        options=['relevant', 'not relevant'], allow_freetext=False,\n",
    "        display_function=plot_by_record)\n",
    "\n",
    "\n",
    "def store_annotations(entity_annotation):\n",
    "    labels.append(entity_annotation)\n",
    "    try:\n",
    "        widget.display(inputs.pop(0))\n",
    "    except IndexError:\n",
    "        print(\"Finished.\")\n",
    "        \n",
    "widget.on_submit(store_annotations)\n",
    "widget.display(inputs.pop(0))\n",
    "widget"
   ]
  },
  {
   "cell_type": "code",
   "execution_count": 14,
   "id": "53e47312",
   "metadata": {},
   "outputs": [
    {
     "ename": "ValueError",
     "evalue": "Length of values (8) does not match length of index (22)",
     "output_type": "error",
     "traceback": [
      "\u001b[0;31m---------------------------------------------------------------------------\u001b[0m",
      "\u001b[0;31mValueError\u001b[0m                                Traceback (most recent call last)",
      "Cell \u001b[0;32mIn[14], line 1\u001b[0m\n\u001b[0;32m----> 1\u001b[0m query_df[\u001b[38;5;124m'\u001b[39m\u001b[38;5;124mlabels\u001b[39m\u001b[38;5;124m'\u001b[39m] \u001b[38;5;241m=\u001b[39m labels[:top_n]\n\u001b[1;32m      2\u001b[0m query_df[\u001b[38;5;124m'\u001b[39m\u001b[38;5;124mquery\u001b[39m\u001b[38;5;124m'\u001b[39m] \u001b[38;5;241m=\u001b[39m query\n\u001b[1;32m      3\u001b[0m query_df[\u001b[38;5;124m'\u001b[39m\u001b[38;5;124mexperiment\u001b[39m\u001b[38;5;124m'\u001b[39m] \u001b[38;5;241m=\u001b[39m experiment\n",
      "File \u001b[0;32m~/anaconda3/envs/heritageweaver/lib/python3.9/site-packages/pandas/core/frame.py:3612\u001b[0m, in \u001b[0;36mDataFrame.__setitem__\u001b[0;34m(self, key, value)\u001b[0m\n\u001b[1;32m   3609\u001b[0m     \u001b[38;5;28mself\u001b[39m\u001b[38;5;241m.\u001b[39m_setitem_array([key], value)\n\u001b[1;32m   3610\u001b[0m \u001b[38;5;28;01melse\u001b[39;00m:\n\u001b[1;32m   3611\u001b[0m     \u001b[38;5;66;03m# set column\u001b[39;00m\n\u001b[0;32m-> 3612\u001b[0m     \u001b[38;5;28;43mself\u001b[39;49m\u001b[38;5;241;43m.\u001b[39;49m\u001b[43m_set_item\u001b[49m\u001b[43m(\u001b[49m\u001b[43mkey\u001b[49m\u001b[43m,\u001b[49m\u001b[43m \u001b[49m\u001b[43mvalue\u001b[49m\u001b[43m)\u001b[49m\n",
      "File \u001b[0;32m~/anaconda3/envs/heritageweaver/lib/python3.9/site-packages/pandas/core/frame.py:3784\u001b[0m, in \u001b[0;36mDataFrame._set_item\u001b[0;34m(self, key, value)\u001b[0m\n\u001b[1;32m   3774\u001b[0m \u001b[38;5;28;01mdef\u001b[39;00m \u001b[38;5;21m_set_item\u001b[39m(\u001b[38;5;28mself\u001b[39m, key, value) \u001b[38;5;241m-\u001b[39m\u001b[38;5;241m>\u001b[39m \u001b[38;5;28;01mNone\u001b[39;00m:\n\u001b[1;32m   3775\u001b[0m \u001b[38;5;250m    \u001b[39m\u001b[38;5;124;03m\"\"\"\u001b[39;00m\n\u001b[1;32m   3776\u001b[0m \u001b[38;5;124;03m    Add series to DataFrame in specified column.\u001b[39;00m\n\u001b[1;32m   3777\u001b[0m \n\u001b[0;32m   (...)\u001b[0m\n\u001b[1;32m   3782\u001b[0m \u001b[38;5;124;03m    ensure homogeneity.\u001b[39;00m\n\u001b[1;32m   3783\u001b[0m \u001b[38;5;124;03m    \"\"\"\u001b[39;00m\n\u001b[0;32m-> 3784\u001b[0m     value \u001b[38;5;241m=\u001b[39m \u001b[38;5;28;43mself\u001b[39;49m\u001b[38;5;241;43m.\u001b[39;49m\u001b[43m_sanitize_column\u001b[49m\u001b[43m(\u001b[49m\u001b[43mvalue\u001b[49m\u001b[43m)\u001b[49m\n\u001b[1;32m   3786\u001b[0m     \u001b[38;5;28;01mif\u001b[39;00m (\n\u001b[1;32m   3787\u001b[0m         key \u001b[38;5;129;01min\u001b[39;00m \u001b[38;5;28mself\u001b[39m\u001b[38;5;241m.\u001b[39mcolumns\n\u001b[1;32m   3788\u001b[0m         \u001b[38;5;129;01mand\u001b[39;00m value\u001b[38;5;241m.\u001b[39mndim \u001b[38;5;241m==\u001b[39m \u001b[38;5;241m1\u001b[39m\n\u001b[1;32m   3789\u001b[0m         \u001b[38;5;129;01mand\u001b[39;00m \u001b[38;5;129;01mnot\u001b[39;00m is_extension_array_dtype(value)\n\u001b[1;32m   3790\u001b[0m     ):\n\u001b[1;32m   3791\u001b[0m         \u001b[38;5;66;03m# broadcast across multiple columns if necessary\u001b[39;00m\n\u001b[1;32m   3792\u001b[0m         \u001b[38;5;28;01mif\u001b[39;00m \u001b[38;5;129;01mnot\u001b[39;00m \u001b[38;5;28mself\u001b[39m\u001b[38;5;241m.\u001b[39mcolumns\u001b[38;5;241m.\u001b[39mis_unique \u001b[38;5;129;01mor\u001b[39;00m \u001b[38;5;28misinstance\u001b[39m(\u001b[38;5;28mself\u001b[39m\u001b[38;5;241m.\u001b[39mcolumns, MultiIndex):\n",
      "File \u001b[0;32m~/anaconda3/envs/heritageweaver/lib/python3.9/site-packages/pandas/core/frame.py:4509\u001b[0m, in \u001b[0;36mDataFrame._sanitize_column\u001b[0;34m(self, value)\u001b[0m\n\u001b[1;32m   4506\u001b[0m     \u001b[38;5;28;01mreturn\u001b[39;00m _reindex_for_setitem(value, \u001b[38;5;28mself\u001b[39m\u001b[38;5;241m.\u001b[39mindex)\n\u001b[1;32m   4508\u001b[0m \u001b[38;5;28;01mif\u001b[39;00m is_list_like(value):\n\u001b[0;32m-> 4509\u001b[0m     \u001b[43mcom\u001b[49m\u001b[38;5;241;43m.\u001b[39;49m\u001b[43mrequire_length_match\u001b[49m\u001b[43m(\u001b[49m\u001b[43mvalue\u001b[49m\u001b[43m,\u001b[49m\u001b[43m \u001b[49m\u001b[38;5;28;43mself\u001b[39;49m\u001b[38;5;241;43m.\u001b[39;49m\u001b[43mindex\u001b[49m\u001b[43m)\u001b[49m\n\u001b[1;32m   4510\u001b[0m \u001b[38;5;28;01mreturn\u001b[39;00m sanitize_array(value, \u001b[38;5;28mself\u001b[39m\u001b[38;5;241m.\u001b[39mindex, copy\u001b[38;5;241m=\u001b[39m\u001b[38;5;28;01mTrue\u001b[39;00m, allow_2d\u001b[38;5;241m=\u001b[39m\u001b[38;5;28;01mTrue\u001b[39;00m)\n",
      "File \u001b[0;32m~/anaconda3/envs/heritageweaver/lib/python3.9/site-packages/pandas/core/common.py:531\u001b[0m, in \u001b[0;36mrequire_length_match\u001b[0;34m(data, index)\u001b[0m\n\u001b[1;32m    527\u001b[0m \u001b[38;5;250m\u001b[39m\u001b[38;5;124;03m\"\"\"\u001b[39;00m\n\u001b[1;32m    528\u001b[0m \u001b[38;5;124;03mCheck the length of data matches the length of the index.\u001b[39;00m\n\u001b[1;32m    529\u001b[0m \u001b[38;5;124;03m\"\"\"\u001b[39;00m\n\u001b[1;32m    530\u001b[0m \u001b[38;5;28;01mif\u001b[39;00m \u001b[38;5;28mlen\u001b[39m(data) \u001b[38;5;241m!=\u001b[39m \u001b[38;5;28mlen\u001b[39m(index):\n\u001b[0;32m--> 531\u001b[0m     \u001b[38;5;28;01mraise\u001b[39;00m \u001b[38;5;167;01mValueError\u001b[39;00m(\n\u001b[1;32m    532\u001b[0m         \u001b[38;5;124m\"\u001b[39m\u001b[38;5;124mLength of values \u001b[39m\u001b[38;5;124m\"\u001b[39m\n\u001b[1;32m    533\u001b[0m         \u001b[38;5;124mf\u001b[39m\u001b[38;5;124m\"\u001b[39m\u001b[38;5;124m(\u001b[39m\u001b[38;5;132;01m{\u001b[39;00m\u001b[38;5;28mlen\u001b[39m(data)\u001b[38;5;132;01m}\u001b[39;00m\u001b[38;5;124m) \u001b[39m\u001b[38;5;124m\"\u001b[39m\n\u001b[1;32m    534\u001b[0m         \u001b[38;5;124m\"\u001b[39m\u001b[38;5;124mdoes not match length of index \u001b[39m\u001b[38;5;124m\"\u001b[39m\n\u001b[1;32m    535\u001b[0m         \u001b[38;5;124mf\u001b[39m\u001b[38;5;124m\"\u001b[39m\u001b[38;5;124m(\u001b[39m\u001b[38;5;132;01m{\u001b[39;00m\u001b[38;5;28mlen\u001b[39m(index)\u001b[38;5;132;01m}\u001b[39;00m\u001b[38;5;124m)\u001b[39m\u001b[38;5;124m\"\u001b[39m\n\u001b[1;32m    536\u001b[0m     )\n",
      "\u001b[0;31mValueError\u001b[0m: Length of values (8) does not match length of index (22)"
     ]
    }
   ],
   "source": [
    "query_df['labels'] = labels[:top_n]\n",
    "query_df['query'] = query\n",
    "query_df['experiment'] = experiment\n",
    "query_df.to_csv(out_path / f'{annotator}_{time.time()}.csv')\n",
    "#results = collection_db.query(query_texts=[query],where=filters, n_results=top_n)"
   ]
  },
  {
   "cell_type": "code",
   "execution_count": null,
   "id": "3f83f937-bf10-40e4-bd31-04d18932427e",
   "metadata": {},
   "outputs": [],
   "source": [
    "# #Visual prompting optional at the moment, integrate later\n",
    "# idx = 4\n",
    "# record = collection_df.iloc[idx]\n",
    "# results = collection_db.query(query_uris=[record.img_path],n_results=top_n, where=filters) # \n",
    "# #Image.open(record.img_path)\n",
    "# query_df = plot_query_results(results, collection_df,source='img_path')"
   ]
  },
  {
   "cell_type": "markdown",
   "id": "3b221faf",
   "metadata": {},
   "source": [
    "# Link Annotation"
   ]
  },
  {
   "cell_type": "code",
   "execution_count": 15,
   "id": "dade6949",
   "metadata": {},
   "outputs": [],
   "source": [
    "annotator = 'KB'\n",
    "num_annotations = 10\n",
    "coll1, coll2 = 'smg','nms'\n",
    "percentile = 99.0  #99.95 | False\n",
    "threshold = 0.8\n",
    "randomize = True\n"
   ]
  },
  {
   "cell_type": "code",
   "execution_count": 16,
   "id": "9f83bd89",
   "metadata": {},
   "outputs": [],
   "source": [
    "experiment = '1'"
   ]
  },
  {
   "cell_type": "code",
   "execution_count": 17,
   "id": "c97474b9",
   "metadata": {},
   "outputs": [
    {
     "name": "stdout",
     "output_type": "stream",
     "text": [
      "Get inputs...\n",
      "Compute similarities...\n",
      "--- Get similarities ---\n",
      "--- Using 0.7886772588821934 as threshold ---\n",
      "--- Aggregate similarities by record ---\n",
      "--- Threshold similarities and binarize ---\n",
      "Retrieve edges...\n"
     ]
    },
    {
     "data": {
      "text/plain": [
       "27513"
      ]
     },
     "execution_count": 17,
     "metadata": {},
     "output_type": "execute_result"
    }
   ],
   "source": [
    "if experiment == '1':\n",
    "    modality1, modality2 = 'image','image'\n",
    "    agg_func = 'max' \n",
    "elif experiment == '2':\n",
    "    modality1, modality2 = 'text','text' \n",
    "    agg_func = 'max' \n",
    "elif experiment == '3':\n",
    "    modality1, modality2 = 'text','text' \n",
    "    experiment_id = '3'\n",
    "    agg_func = 'mean' \n",
    "\n",
    "edges, image_similarities, inputs = get_edges(collection_db,coll1,coll2, modality1, modality2, agg_func,percentile, threshold ); len(edges)"
   ]
  },
  {
   "cell_type": "code",
   "execution_count": 18,
   "id": "7f7507e7-74d7-4c32-bc9e-568e22908ef5",
   "metadata": {},
   "outputs": [],
   "source": [
    "if experiment == '4':\n",
    "    image_edges, similarities, inputs = get_edges(collection_db,coll1,coll2, 'image','image', 'max', 99.5  , threshold )\n",
    "    text_edges, similarities, inputs =  get_edges(collection_db,coll1,coll2, 'text','text', 'max', 99.5  , threshold )\n",
    "    edges = list(set(image_edges).intersection(set(text_edges))); len(edges)"
   ]
  },
  {
   "cell_type": "code",
   "execution_count": 19,
   "id": "9b2dc1c4-4029-4207-aecf-110351f44705",
   "metadata": {},
   "outputs": [
    {
     "data": {
      "application/vnd.jupyter.widget-view+json": {
       "model_id": "2476fd1d73ac4e988e66948022f98ffb",
       "version_major": 2,
       "version_minor": 0
      },
      "text/plain": [
       "ClassLabeller(children=(Box(children=(Output(layout=Layout(margin='auto', min_height='50px')),), layout=Layout…"
      ]
     },
     "execution_count": 19,
     "metadata": {},
     "output_type": "execute_result"
    }
   ],
   "source": [
    "if randomize:\n",
    "    random.seed(42)\n",
    "    random.shuffle(edges)\n",
    "img_pairs = edges[:num_annotations]\n",
    "to_annotate = img_pairs.copy()\n",
    "\n",
    "labels = []\n",
    "\n",
    "widget = ipyannotations.generic.ClassLabeller(\n",
    "        options=['same object', 'same category', 'same materials','no link'], allow_freetext=True,\n",
    "        display_function=plot_record_pair)\n",
    "\n",
    "\n",
    "def store_annotations(entity_annotation):\n",
    "    labels.append(entity_annotation)\n",
    "    try:\n",
    "        widget.display(img_pairs.pop(0))\n",
    "    except IndexError:\n",
    "        print(\"Finished.\")\n",
    "widget.on_submit(store_annotations)\n",
    "widget.display(img_pairs.pop(0))\n",
    "widget\n"
   ]
  },
  {
   "cell_type": "code",
   "execution_count": 22,
   "id": "9190d594-839e-4427-9c48-3ed0d4b604b3",
   "metadata": {},
   "outputs": [],
   "source": [
    "annotations_df = pd.DataFrame(to_annotate, columns=['coll1','coll2'])\n",
    "annotations_df['labels'] = labels[:num_annotations]\n",
    "annotations_df['experiment'] = experiment\n",
    "annotations_df.to_csv(out_path / f'{annotator}_{time.time()}')"
   ]
  },
  {
   "cell_type": "markdown",
   "id": "d27fef44-4251-4b5d-8694-dee8b6db107e",
   "metadata": {},
   "source": [
    "# Fin."
   ]
  }
 ],
 "metadata": {
  "kernelspec": {
   "display_name": "Python 3 (ipykernel)",
   "language": "python",
   "name": "python3"
  },
  "language_info": {
   "codemirror_mode": {
    "name": "ipython",
    "version": 3
   },
   "file_extension": ".py",
   "mimetype": "text/x-python",
   "name": "python",
   "nbconvert_exporter": "python",
   "pygments_lexer": "ipython3",
   "version": "3.9.18"
  }
 },
 "nbformat": 4,
 "nbformat_minor": 5
}
