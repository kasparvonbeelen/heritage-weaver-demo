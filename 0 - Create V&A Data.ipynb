{
 "cells": [
  {
   "cell_type": "code",
   "execution_count": 13,
   "id": "e340cb63",
   "metadata": {},
   "outputs": [
    {
     "name": "stdout",
     "output_type": "stream",
     "text": [
      "The autoreload extension is already loaded. To reload it, use:\n",
      "  %reload_ext autoreload\n"
     ]
    }
   ],
   "source": [
    "%load_ext autoreload\n",
    "%autoreload 2"
   ]
  },
  {
   "cell_type": "code",
   "execution_count": 46,
   "id": "5660bc1e",
   "metadata": {},
   "outputs": [],
   "source": [
    "from tools.weaving_tools import VACollection\n",
    "import json"
   ]
  },
  {
   "cell_type": "code",
   "execution_count": 101,
   "id": "2d3d1889",
   "metadata": {},
   "outputs": [],
   "source": [
    "va = VACollection()"
   ]
  },
  {
   "cell_type": "code",
   "execution_count": 98,
   "id": "95447206",
   "metadata": {},
   "outputs": [],
   "source": [
    "queries = json.load(open('data/keywords.json'))\n",
    "for q in queries:\n",
    "    va.fetch_records_api(q, page_size=100)"
   ]
  },
  {
   "cell_type": "code",
   "execution_count": 63,
   "id": "0de56b3b",
   "metadata": {},
   "outputs": [
    {
     "name": "stdout",
     "output_type": "stream",
     "text": [
      "307\n",
      "19590\n"
     ]
    },
    {
     "data": {
      "application/vnd.jupyter.widget-view+json": {
       "model_id": "6068ad6327314f6b84932b7206b5259e",
       "version_major": 2,
       "version_minor": 0
      },
      "text/plain": [
       "  0%|          | 0/19590 [00:00<?, ?it/s]"
      ]
     },
     "metadata": {},
     "output_type": "display_data"
    }
   ],
   "source": [
    "va.fetch_records()"
   ]
  },
  {
   "cell_type": "code",
   "execution_count": 102,
   "id": "e9a8f3ab",
   "metadata": {},
   "outputs": [],
   "source": [
    "va.to_csv()"
   ]
  },
  {
   "cell_type": "code",
   "execution_count": 100,
   "id": "a6c15a18",
   "metadata": {},
   "outputs": [
    {
     "data": {
      "application/vnd.jupyter.widget-view+json": {
       "model_id": "7315cc9506f245829f48e54e6ae3ddf5",
       "version_major": 2,
       "version_minor": 0
      },
      "text/plain": [
       "0it [00:00, ?it/s]"
      ]
     },
     "metadata": {},
     "output_type": "display_data"
    }
   ],
   "source": [
    "va.fetch_images()"
   ]
  },
  {
   "cell_type": "code",
   "execution_count": 103,
   "id": "0569f41f",
   "metadata": {},
   "outputs": [
    {
     "data": {
      "text/plain": [
       "12204"
      ]
     },
     "execution_count": 103,
     "metadata": {},
     "output_type": "execute_result"
    }
   ],
   "source": [
    "va.df.downloaded.sum()"
   ]
  },
  {
   "cell_type": "code",
   "execution_count": 104,
   "id": "4911f2e5",
   "metadata": {},
   "outputs": [],
   "source": [
    "va.filter_records()"
   ]
  },
  {
   "cell_type": "code",
   "execution_count": 105,
   "id": "d44f5558",
   "metadata": {},
   "outputs": [
    {
     "data": {
      "text/plain": [
       "(12204, 9)"
      ]
     },
     "execution_count": 105,
     "metadata": {},
     "output_type": "execute_result"
    }
   ],
   "source": [
    "va.df.shape"
   ]
  },
  {
   "cell_type": "code",
   "execution_count": null,
   "id": "3a406425",
   "metadata": {},
   "outputs": [],
   "source": []
  }
 ],
 "metadata": {
  "kernelspec": {
   "display_name": "ner-al",
   "language": "python",
   "name": "ner-al"
  },
  "language_info": {
   "codemirror_mode": {
    "name": "ipython",
    "version": 3
   },
   "file_extension": ".py",
   "mimetype": "text/x-python",
   "name": "python",
   "nbconvert_exporter": "python",
   "pygments_lexer": "ipython3",
   "version": "3.9.16"
  }
 },
 "nbformat": 4,
 "nbformat_minor": 5
}
