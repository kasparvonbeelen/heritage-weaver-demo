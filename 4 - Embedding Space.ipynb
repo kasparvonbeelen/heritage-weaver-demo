{
 "cells": [
  {
   "cell_type": "markdown",
   "id": "1062ad1f",
   "metadata": {},
   "source": [
    "# Exploring Embedding Spaces"
   ]
  },
  {
   "cell_type": "markdown",
   "id": "35be7dbb",
   "metadata": {},
   "source": [
    "## Load database"
   ]
  },
  {
   "cell_type": "code",
   "execution_count": 2,
   "id": "d0846e53",
   "metadata": {},
   "outputs": [],
   "source": [
    "%load_ext autoreload\n",
    "%autoreload 2"
   ]
  },
  {
   "cell_type": "code",
   "execution_count": 3,
   "id": "de4b1901",
   "metadata": {},
   "outputs": [],
   "source": [
    "import chromadb\n",
    "from tqdm.notebook import tqdm\n",
    "from pyvis.network import Network\n",
    "from random import shuffle"
   ]
  },
  {
   "cell_type": "code",
   "execution_count": 6,
   "id": "c5970131",
   "metadata": {},
   "outputs": [],
   "source": [
    "from nomic import atlas\n",
    "import numpy as np"
   ]
  },
  {
   "cell_type": "code",
   "execution_count": 7,
   "id": "4fc5b581",
   "metadata": {},
   "outputs": [],
   "source": [
    "%%bash\n",
    "nomic login pyKINnSOXSivweuAXxprY7j8NtVFI88WC7AeE3BnLAmQZ"
   ]
  },
  {
   "cell_type": "code",
   "execution_count": 8,
   "id": "ac917a1f",
   "metadata": {},
   "outputs": [],
   "source": [
    "client = chromadb.PersistentClient(path=\"ce_vector_db\")\n",
    "db = client.get_or_create_collection(name=\"congruence_engine\")"
   ]
  },
  {
   "cell_type": "code",
   "execution_count": 9,
   "id": "79f335e2",
   "metadata": {},
   "outputs": [
    {
     "data": {
      "text/plain": [
       "11863"
      ]
     },
     "execution_count": 9,
     "metadata": {},
     "output_type": "execute_result"
    }
   ],
   "source": [
    "db.count()"
   ]
  },
  {
   "cell_type": "code",
   "execution_count": 36,
   "id": "203186ff",
   "metadata": {},
   "outputs": [],
   "source": [
    "data = db.get()\n",
    "ids = data['ids']"
   ]
  },
  {
   "cell_type": "code",
   "execution_count": 37,
   "id": "b4ede48c",
   "metadata": {},
   "outputs": [],
   "source": [
    "embeddings, metadata = [],[]"
   ]
  },
  {
   "cell_type": "code",
   "execution_count": 38,
   "id": "19e37641",
   "metadata": {},
   "outputs": [
    {
     "data": {
      "application/vnd.jupyter.widget-view+json": {
       "model_id": "0e61c6b99bea49b0ba65e54396ca4438",
       "version_major": 2,
       "version_minor": 0
      },
      "text/plain": [
       "0it [00:00, ?it/s]"
      ]
     },
     "metadata": {},
     "output_type": "display_data"
    }
   ],
   "source": [
    "for i,idx in tqdm(enumerate(ids)):\n",
    "    el = db.get(ids=[idx], include=['embeddings','metadatas','documents'])\n",
    "    embeddings.append(el['embeddings'][0])\n",
    "    metadata.append({ 'collection':el['metadatas'][0]['collection'],\n",
    "                     'name': idx,\n",
    "                     'id': str(i),\n",
    "                     'url':el['metadatas'][0]['img_url'],\n",
    "                    })"
   ]
  },
  {
   "cell_type": "code",
   "execution_count": 39,
   "id": "5c14442f",
   "metadata": {},
   "outputs": [
    {
     "data": {
      "text/plain": [
       "(11863, 512)"
      ]
     },
     "execution_count": 39,
     "metadata": {},
     "output_type": "execute_result"
    }
   ],
   "source": [
    "embeddings = np.array(embeddings)\n",
    "embeddings.shape"
   ]
  },
  {
   "cell_type": "code",
   "execution_count": 40,
   "id": "3f7c9cae",
   "metadata": {},
   "outputs": [
    {
     "data": {
      "text/plain": [
       "11863"
      ]
     },
     "execution_count": 40,
     "metadata": {},
     "output_type": "execute_result"
    }
   ],
   "source": [
    "len(metadata)"
   ]
  },
  {
   "cell_type": "code",
   "execution_count": 41,
   "id": "ef0ec047",
   "metadata": {},
   "outputs": [
    {
     "name": "stderr",
     "output_type": "stream",
     "text": [
      "\u001b[32m2023-10-24 17:35:41.666\u001b[0m | \u001b[1mINFO    \u001b[0m | \u001b[36mnomic.project\u001b[0m:\u001b[36m_create_project\u001b[0m:\u001b[36m790\u001b[0m - \u001b[1mCreating project `CE Map 2` in organization `kasparvonbeelen`\u001b[0m\n",
      "\u001b[32m2023-10-24 17:35:42.760\u001b[0m | \u001b[1mINFO    \u001b[0m | \u001b[36mnomic.atlas\u001b[0m:\u001b[36mmap_embeddings\u001b[0m:\u001b[36m108\u001b[0m - \u001b[1mUploading embeddings to Atlas.\u001b[0m\n",
      "4it [00:01,  2.08it/s]                                                          \n",
      "\u001b[32m2023-10-24 17:35:44.754\u001b[0m | \u001b[1mINFO    \u001b[0m | \u001b[36mnomic.project\u001b[0m:\u001b[36m_add_data\u001b[0m:\u001b[36m1422\u001b[0m - \u001b[1mUpload succeeded.\u001b[0m\n",
      "\u001b[32m2023-10-24 17:35:44.755\u001b[0m | \u001b[1mINFO    \u001b[0m | \u001b[36mnomic.atlas\u001b[0m:\u001b[36mmap_embeddings\u001b[0m:\u001b[36m127\u001b[0m - \u001b[1mEmbedding upload succeeded.\u001b[0m\n",
      "\u001b[32m2023-10-24 17:35:46.296\u001b[0m | \u001b[1mINFO    \u001b[0m | \u001b[36mnomic.project\u001b[0m:\u001b[36mcreate_index\u001b[0m:\u001b[36m1132\u001b[0m - \u001b[1mCreated map `CE Map 2` in project `CE Map 2`: https://atlas.nomic.ai/map/d93b8cd8-7949-4f90-aa70-c8df6cc77f01/71ce6eb9-4d83-4920-a7a6-8d5beb59822e\u001b[0m\n",
      "\u001b[32m2023-10-24 17:35:46.298\u001b[0m | \u001b[1mINFO    \u001b[0m | \u001b[36mnomic.atlas\u001b[0m:\u001b[36mmap_embeddings\u001b[0m:\u001b[36m140\u001b[0m - \u001b[1mCE Map 2: https://atlas.nomic.ai/map/d93b8cd8-7949-4f90-aa70-c8df6cc77f01/71ce6eb9-4d83-4920-a7a6-8d5beb59822e\u001b[0m\n"
     ]
    }
   ],
   "source": [
    "project = atlas.map_embeddings(embeddings=embeddings,\n",
    "                                data=metadata,\n",
    "                                id_field='id',\n",
    "                                name='CE Map 2',\n",
    "                                colorable_fields=['collection'],\n",
    "                                reset_project_if_exists=True)"
   ]
  },
  {
   "cell_type": "markdown",
   "id": "0f499756",
   "metadata": {},
   "source": [
    "# Fin."
   ]
  },
  {
   "cell_type": "code",
   "execution_count": null,
   "id": "5b1154fa",
   "metadata": {},
   "outputs": [],
   "source": []
  }
 ],
 "metadata": {
  "kernelspec": {
   "display_name": "ner-al",
   "language": "python",
   "name": "ner-al"
  },
  "language_info": {
   "codemirror_mode": {
    "name": "ipython",
    "version": 3
   },
   "file_extension": ".py",
   "mimetype": "text/x-python",
   "name": "python",
   "nbconvert_exporter": "python",
   "pygments_lexer": "ipython3",
   "version": "3.9.16"
  }
 },
 "nbformat": 4,
 "nbformat_minor": 5
}
