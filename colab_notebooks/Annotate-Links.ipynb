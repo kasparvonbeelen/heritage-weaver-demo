{
 "cells": [
  {
   "cell_type": "code",
   "execution_count": null,
   "id": "09dee98c-294d-4d9a-a7e1-a21e39b3433d",
   "metadata": {},
   "outputs": [],
   "source": [
    "# We clone all the code and tools from GitHub to this Notebook\n",
    "!git clone -b 2-vdb https://github.com/kasparvonbeelen/heritageweaver.git\n",
    "!sh /content/heritageweaver/create_env.sh"
   ]
  },
  {
   "cell_type": "code",
   "execution_count": null,
   "id": "9f063fde-f454-45e4-98c7-b8dcf5804b7b",
   "metadata": {},
   "outputs": [],
   "source": [
    "# # we need to restart the session\n",
    "# # to load the updated Pillow version\n",
    "import os\n",
    "os.kill(os.getpid(), 9)"
   ]
  },
  {
   "cell_type": "code",
   "execution_count": null,
   "id": "bbfcaada-a067-49eb-8a45-3558dabbffc8",
   "metadata": {},
   "outputs": [],
   "source": [
    "import chromadb, random, requests\n",
    "import ipyannotations.generic\n",
    "import matplotlib.pyplot as plt\n",
    "import seaborn as sns\n",
    "import numpy as np\n",
    "from PIL import Image\n",
    "import io\n",
    "import time\n",
    "from pathlib import Path\n",
    "import time\n",
    "from heritageweaver.weavingtools.annotation_tools import *\n",
    "from heritageweaver.weavingtools.linkage_tools import *\n",
    "from heritageweaver.weavingtools.embedding_tools import *\n",
    "out_path = Path('/content/annotations')\n",
    "out_path.mkdir(exist_ok=True)\n",
    "sns.set()"
   ]
  },
  {
   "cell_type": "markdown",
   "id": "df2818a0",
   "metadata": {},
   "source": [
    "# Load data"
   ]
  },
  {
   "cell_type": "code",
   "execution_count": null,
   "id": "4a8bee58-558a-40d6-b16f-3986209ceacd",
   "metadata": {},
   "outputs": [],
   "source": [
    "\n",
    "def plot_record_pair(record_pair):\n",
    "    fig, axes = plt.subplots(1, 2, figsize=(15, 7.5))\n",
    "    \n",
    "    for i in range(2):\n",
    "        record = collection_df[collection_df.record_id==record_pair[i]]\n",
    "        img_path = record.img_url.values[0]\n",
    "        description = soft_wrap_text(record.record_id.values[0] + ' '  + record.description.values[0])\n",
    "        try:\n",
    "          img = Image.open(requests.get(img_path,  stream=True).raw,).convert('RGB')\n",
    "        except:\n",
    "          try:\n",
    "            # 'https://www.nms.ac.uk/search.axd?command=getcontent&server=Detail&value='\n",
    "            # 'https://www.nms.ac.uk/api/axiell?command=getcontent&server=Detail&value='\n",
    "            img_path = 'https://www.nms.ac.uk/api/axiell?command=getcontent&server=Detail&value=' + img_path.split('value=')[-1]\n",
    "            data = requests.get(img_path)\n",
    "            img = Image.open(io.BytesIO(bytes(data.content)))\n",
    "            img.thumbnail((224, 224))\n",
    "          except:\n",
    "            print(img_path)\n",
    "            img = Image.open('./heritageweaver/data/No_Image_Available.jpg').convert(\"RGB\")\n",
    "        axes[i].imshow(img)\n",
    "        axes[i].set_title(description, fontsize = 18)\n",
    "        axes[i].axis('off')\n",
    "         \n",
    "    plt.show()"
   ]
  },
  {
   "cell_type": "code",
   "execution_count": null,
   "id": "7c37a214",
   "metadata": {},
   "outputs": [],
   "source": [
    "collection_db = load_db(\"hw\",\"heritage_weaver\",'google/siglip-base-patch16-224')\n",
    "collection_df = pd.read_csv('/content/heritageweaver/data/heritage_weaver_data.csv')"
   ]
  },
  {
   "cell_type": "markdown",
   "id": "8753deba",
   "metadata": {},
   "source": [
    "# General Settings"
   ]
  },
  {
   "cell_type": "code",
   "execution_count": null,
   "id": "b350c993",
   "metadata": {},
   "outputs": [],
   "source": [
    "annotator = 'KB'\n",
    "num_annotations = 25\n",
    "randomize = True\n",
    "threshold = 0.5 # this will be ignored as we define the percentiles parameter\n",
    "coll1, coll2 = 'smg','nms'"
   ]
  },
  {
   "cell_type": "markdown",
   "id": "ceea61c7",
   "metadata": {},
   "source": [
    "# Set experiment parameters"
   ]
  },
  {
   "cell_type": "markdown",
   "id": "ffe88c5f",
   "metadata": {},
   "source": [
    "## Experiment 1\n",
    "\n",
    "Linking based on image similarity"
   ]
  },
  {
   "cell_type": "code",
   "execution_count": null,
   "id": "ebbde559-e442-49bf-893a-d9b5f9118427",
   "metadata": {},
   "outputs": [],
   "source": [
    "modality1, modality2 = 'image','image' #'image' | 'image' #\n",
    "experiment_id = '1'\n",
    "agg_func = 'max' # mean or max\n",
    "percentile = 99  #99.95 | False\n",
    "edges, similarities, inputs = get_edges(collection_db,coll1,coll2, modality1, modality2, agg_func,percentile, threshold ); len(edges)"
   ]
  },
  {
   "cell_type": "markdown",
   "id": "2324acf8",
   "metadata": {},
   "source": [
    "## Experiment 2\n",
    "\n",
    "Linking based on textual similarity. We link similarities in 95th percentile. We us \"max\" as aggregation function"
   ]
  },
  {
   "cell_type": "code",
   "execution_count": null,
   "id": "e923b2ab",
   "metadata": {},
   "outputs": [],
   "source": [
    "modality1, modality2 = 'text','text' #'image' | 'image' #\n",
    "experiment_id = '2'\n",
    "agg_func = 'max' # mean or max\n",
    "percentile = 99.5  #99.95 | False\n",
    "edges, similarities, inputs = get_edges(collection_db,coll1,coll2, modality1, modality2, agg_func,percentile, threshold ); len(edges)"
   ]
  },
  {
   "cell_type": "markdown",
   "id": "34b43ff4",
   "metadata": {},
   "source": [
    "## Experiment 3\n",
    "\n",
    "Linking based on textual similarity. We link similarities in 95th percentile. We us mean as aggregation function"
   ]
  },
  {
   "cell_type": "code",
   "execution_count": null,
   "id": "7e36e023",
   "metadata": {},
   "outputs": [],
   "source": [
    "modality1, modality2 = 'text','text' #'image' | 'image' #\n",
    "experiment_id = '3'\n",
    "agg_func = 'mean' # mean or max\n",
    "percentile = 99  #99.95 | False\n",
    "edges, similarities, inputs = get_edges(collection_db,coll1,coll2, modality1, modality2, agg_func,percentile, threshold ); len(edges)"
   ]
  },
  {
   "cell_type": "markdown",
   "id": "7a0bc65c",
   "metadata": {},
   "source": [
    "## Experiment 4\n",
    "\n",
    "Linking based on textual similarity. We link similarities in 95th percentile. We us mean as aggregation function"
   ]
  },
  {
   "cell_type": "code",
   "execution_count": null,
   "id": "6a37266c",
   "metadata": {},
   "outputs": [],
   "source": [
    "modality1, modality2 = 'image','image' #'image' | 'image' #\n",
    "experiment_id = '4'\n",
    "agg_func = 'max' # mean or max\n",
    "percentile = 99.5  #99.95 | False\n",
    "image_edges, similarities, inputs = get_edges(collection_db,coll1,coll2, modality1, modality2, agg_func,percentile, threshold ); len(image_edges)"
   ]
  },
  {
   "cell_type": "code",
   "execution_count": null,
   "id": "b240e4e4",
   "metadata": {},
   "outputs": [],
   "source": [
    "modality1, modality2 = 'text','text' #'image' | 'image' #\n",
    "agg_func = 'max' # mean or max\n",
    "percentile = 99  #99.95 | False\n",
    "text_edges, similarities, inputs = get_edges(collection_db,coll1,coll2, modality1, modality2, agg_func,percentile, threshold ); len(text_edges)"
   ]
  },
  {
   "cell_type": "code",
   "execution_count": null,
   "id": "e6f43e9b",
   "metadata": {},
   "outputs": [],
   "source": [
    "edges = list(set(image_edges).intersection(set(text_edges))); len(edges)"
   ]
  },
  {
   "cell_type": "markdown",
   "id": "98150761",
   "metadata": {},
   "source": [
    "# Annotate"
   ]
  },
  {
   "cell_type": "code",
   "execution_count": null,
   "id": "052cb386-d570-4590-b9d7-b1ac32e81a7c",
   "metadata": {},
   "outputs": [],
   "source": [
    "if randomize:\n",
    "    random.shuffle(edges)\n",
    "img_pairs = edges[:num_annotations]\n",
    "to_annotate = img_pairs.copy()\n",
    "labels = []\n",
    "\n",
    "widget = ipyannotations.generic.ClassLabeller(\n",
    "        options=['same object', 'similar object', 'same category of thing', 'unrelated'],, allow_freetext=True,\n",
    "        display_function=plot_record_pair)\n",
    "\n",
    "\n",
    "def store_annotations(entity_annotation):\n",
    "    labels.append(entity_annotation)\n",
    "    try:\n",
    "        widget.display(img_pairs.pop(0))\n",
    "    except IndexError:\n",
    "        print(\"Finished.\")\n",
    "widget.on_submit(store_annotations)\n",
    "widget.display(img_pairs.pop(0))\n",
    "widget\n"
   ]
  },
  {
   "cell_type": "markdown",
   "id": "7ffccc6b",
   "metadata": {},
   "source": [
    "# Save annotations"
   ]
  },
  {
   "cell_type": "code",
   "execution_count": null,
   "id": "82900409-f842-42d7-aa16-a85b43e09f3b",
   "metadata": {},
   "outputs": [],
   "source": [
    "annotations_df = pd.DataFrame(to_annotate, columns=['coll1','coll2'])\n",
    "annotations_df['labels'] = labels[:num_annotations]\n",
    "annotations_df['experiment_id'] = experiment_id\n",
    "for varname, var in [('coll1_name',coll1), ('coll2_name',coll2), ('modality1',modality1), ('modality2',modality2)]:\n",
    "    annotations_df[varname] = var\n",
    "annotations_df.to_csv(out_path / f'{annotator}_{time.time()}')"
   ]
  },
  {
   "attachments": {},
   "cell_type": "markdown",
   "id": "156fd331-88f4-489b-90d2-93c5f9c3b1d1",
   "metadata": {},
   "source": [
    "# Fin."
   ]
  }
 ],
 "metadata": {
  "kernelspec": {
   "display_name": "heritageweaverv",
   "language": "python",
   "name": "heritageweaverv"
  },
  "language_info": {
   "codemirror_mode": {
    "name": "ipython",
    "version": 3
   },
   "file_extension": ".py",
   "mimetype": "text/x-python",
   "name": "python",
   "nbconvert_exporter": "python",
   "pygments_lexer": "ipython3",
   "version": "3.9.18"
  }
 },
 "nbformat": 4,
 "nbformat_minor": 5
}
