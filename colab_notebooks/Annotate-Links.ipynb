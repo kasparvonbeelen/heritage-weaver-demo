{
 "cells": [
  {
   "cell_type": "code",
   "execution_count": null,
   "id": "09dee98c-294d-4d9a-a7e1-a21e39b3433d",
   "metadata": {},
   "outputs": [],
   "source": [
    "# We clone all the code and tools from GitHub to this Notebook\n",
    "!git clone -b 2-vdb https://github.com/kasparvonbeelen/heritageweaver.git\n",
    "!sh create_env.sh"
   ]
  },
  {
   "cell_type": "code",
   "execution_count": null,
   "id": "cb16d3da-a83f-43f9-84e6-81a12df48dbb",
   "metadata": {},
   "outputs": [],
   "source": [
    "# we need pillow version of 10.2.0\n",
    "# we will uninstall the older version first\n",
    "#!pip uninstall -y Pillow"
   ]
  },
  {
   "cell_type": "code",
   "execution_count": null,
   "id": "d184d690-adbb-4429-a4bb-cb9cdf939952",
   "metadata": {},
   "outputs": [],
   "source": [
    "# %cd /content/heritageweaver/"
   ]
  },
  {
   "cell_type": "code",
   "execution_count": null,
   "id": "edc0981a-2442-4765-8f30-cb0930e96dd7",
   "metadata": {},
   "outputs": [],
   "source": [
    "# %pip install -qr requirements.txt"
   ]
  },
  {
   "cell_type": "code",
   "execution_count": null,
   "id": "0ec5b75b-5709-42bc-8d02-95dd2007ae5f",
   "metadata": {},
   "outputs": [],
   "source": [
    "# # we need to restart the session\n",
    "# # to load the updated Pillow version\n",
    "# import os\n",
    "# os.kill(os.getpid(), 9)"
   ]
  },
  {
   "cell_type": "code",
   "execution_count": null,
   "id": "96783712-e85c-405d-b458-450aa55e2339",
   "metadata": {},
   "outputs": [],
   "source": [
    "# import PIL\n",
    "# print(PIL.__version__)\n",
    "# # this should print 10.2.0. If it doesn't, then restart your runtime:\n",
    "# # Menu > Runtime > Restart session"
   ]
  },
  {
   "cell_type": "code",
   "execution_count": null,
   "id": "b90247b5-3fd6-4cda-b3e0-e2deaf45a685",
   "metadata": {},
   "outputs": [],
   "source": [
    "# # download data database and some additional metadata\n",
    "# !gdown 1ZKZhmjVDO2U2cYRmCvu_phGgQAFY7__R\n",
    "# !gdown 1BkIfIxksVjXHeWYj2JM-dYR6Ibprz8SN"
   ]
  },
  {
   "cell_type": "code",
   "execution_count": null,
   "id": "64811882-d23e-4f85-bea6-dcc81feac2af",
   "metadata": {},
   "outputs": [],
   "source": [
    "# # unzip archive with vector database\n",
    "# !unzip -qq ce_comms_db.zip"
   ]
  },
  {
   "cell_type": "code",
   "execution_count": 1,
   "id": "bbfcaada-a067-49eb-8a45-3558dabbffc8",
   "metadata": {},
   "outputs": [
    {
     "ename": "ModuleNotFoundError",
     "evalue": "No module named 'heritageweaver'",
     "output_type": "error",
     "traceback": [
      "\u001b[0;31m---------------------------------------------------------------------------\u001b[0m",
      "\u001b[0;31mModuleNotFoundError\u001b[0m                       Traceback (most recent call last)",
      "Cell \u001b[0;32mIn[1], line 8\u001b[0m\n\u001b[1;32m      6\u001b[0m \u001b[38;5;28;01mimport\u001b[39;00m \u001b[38;5;21;01mnumpy\u001b[39;00m \u001b[38;5;28;01mas\u001b[39;00m \u001b[38;5;21;01mnp\u001b[39;00m\n\u001b[1;32m      7\u001b[0m \u001b[38;5;28;01mfrom\u001b[39;00m \u001b[38;5;21;01mPIL\u001b[39;00m \u001b[38;5;28;01mimport\u001b[39;00m Image\n\u001b[0;32m----> 8\u001b[0m \u001b[38;5;28;01mfrom\u001b[39;00m \u001b[38;5;21;01mheritageweaver\u001b[39;00m\u001b[38;5;21;01m.\u001b[39;00m\u001b[38;5;21;01mweavingtools\u001b[39;00m\u001b[38;5;21;01m.\u001b[39;00m\u001b[38;5;21;01mannotation_tools\u001b[39;00m \u001b[38;5;28;01mimport\u001b[39;00m \u001b[38;5;241m*\u001b[39m\n\u001b[1;32m      9\u001b[0m \u001b[38;5;28;01mfrom\u001b[39;00m \u001b[38;5;21;01mheritageweaver\u001b[39;00m\u001b[38;5;21;01m.\u001b[39;00m\u001b[38;5;21;01mweavingtools\u001b[39;00m\u001b[38;5;21;01m.\u001b[39;00m\u001b[38;5;21;01mweaving_tools\u001b[39;00m \u001b[38;5;28;01mimport\u001b[39;00m \u001b[38;5;241m*\u001b[39m\n\u001b[1;32m     10\u001b[0m out_path \u001b[38;5;241m=\u001b[39m Path(\u001b[38;5;124m'\u001b[39m\u001b[38;5;124m/content/annotations\u001b[39m\u001b[38;5;124m'\u001b[39m)\n",
      "\u001b[0;31mModuleNotFoundError\u001b[0m: No module named 'heritageweaver'"
     ]
    }
   ],
   "source": [
    "import chromadb, random, requests\n",
    "import ipyannotations.generic\n",
    "import matplotlib.pyplot as plt\n",
    "import seaborn as sns\n",
    "import numpy as np\n",
    "from PIL import Image\n",
    "from heritageweaver.weavingtools.annotation_tools import *\n",
    "from heritageweaver.weavingtools.weaving_tools import *\n",
    "out_path = Path('/content/annotations')\n",
    "out_path.mkdir(exist_ok=True)\n",
    "sns.set()"
   ]
  },
  {
   "cell_type": "code",
   "execution_count": null,
   "id": "4a8bee58-558a-40d6-b16f-3986209ceacd",
   "metadata": {},
   "outputs": [],
   "source": [
    "#from urllib import request\n",
    "def plot_record_pair(record_pair):\n",
    "    fig, axes = plt.subplots(1, 2, figsize=(15, 7.5))\n",
    "    \n",
    "    for i in range(2):\n",
    "        record = collection_df[collection_df.record_id==record_pair[i]]\n",
    "        img_path = record.img_url.values[0]\n",
    "        description = soft_wrap_text(record.description.values[0])\n",
    "        img = Image.open(requests.get(img_path,  stream=True).raw,).convert('RGB')\n",
    "        axes[i].imshow(img)\n",
    "        axes[i].set_title(description, fontsize = 18)\n",
    "        axes[i].axis('off')\n",
    "         \n",
    "    plt.show()"
   ]
  },
  {
   "cell_type": "code",
   "execution_count": null,
   "id": "ebbde559-e442-49bf-893a-d9b5f9118427",
   "metadata": {},
   "outputs": [],
   "source": [
    "annotator = 'KB'\n",
    "num_annotations = 10\n",
    "coll1, coll2 = 'smg','nms'\n",
    "modality1, modality2 = 'image', 'image'\n",
    "percentile = 99.5\n",
    "randomize = True"
   ]
  },
  {
   "cell_type": "code",
   "execution_count": null,
   "id": "ea60e2f5-77e8-4d37-8c6c-e605ce9a1876",
   "metadata": {},
   "outputs": [],
   "source": [
    "collection_df = load_db(\"ce_comms_db\",'google/siglip-base-patch16-224')\n",
    "collection_df = pd.read_csv('communications_data.csv')\n",
    "edges, image_similarities, inputs = get_edges(collection_db,coll1,coll2, modality1, modality2, percentile); len(edges)"
   ]
  },
  {
   "cell_type": "code",
   "execution_count": null,
   "id": "052cb386-d570-4590-b9d7-b1ac32e81a7c",
   "metadata": {},
   "outputs": [],
   "source": [
    "if randomize:\n",
    "    random.shuffle(edges)\n",
    "img_pairs = edges[:num_annotations]\n",
    "\n",
    "labels = []\n",
    "\n",
    "widget = ipyannotations.generic.ClassLabeller(\n",
    "        options=['link', 'no link'], allow_freetext=True,\n",
    "        display_function=plot_record_pair)\n",
    "\n",
    "\n",
    "def store_annotations(entity_annotation):\n",
    "    labels.append(entity_annotation)\n",
    "    try:\n",
    "        widget.display(img_pairs.pop(0))\n",
    "    except IndexError:\n",
    "        print(\"Finished.\")\n",
    "widget.on_submit(store_annotations)\n",
    "widget.display(img_pairs.pop(0))\n",
    "widget\n"
   ]
  },
  {
   "cell_type": "code",
   "execution_count": null,
   "id": "0b660a6d-0c68-4129-b5f1-003fe4120ee5",
   "metadata": {},
   "outputs": [],
   "source": [
    "filter_smg = {\n",
    "    \"$and\": [\n",
    "        {\n",
    "            \"input_modality\": {\n",
    "                \"$eq\": modality1\n",
    "            }\n",
    "        },\n",
    "        {\n",
    "            \"collection\": {\n",
    "                \"$eq\" : coll1\n",
    "            }\n",
    "        }\n",
    "    ]\n",
    "}\n",
    "\n",
    "\n",
    "smg_data = collection_db.get(\n",
    "                where=filter_smg,\n",
    "                include=['embeddings','metadatas']\n",
    "\n",
    "                    )\n",
    "\n",
    "filter_nms = {\n",
    "    \"$and\": [\n",
    "        {\n",
    "            \"input_modality\": {\n",
    "                \"$eq\": modality2\n",
    "            }\n",
    "        },\n",
    "        {\n",
    "            \"collection\": {\n",
    "                \"$eq\" : coll2\n",
    "            }\n",
    "        }\n",
    "    ]\n",
    "}\n",
    "\n",
    "nms_data = collection_db.get(\n",
    "                where=filter_nms,\n",
    "                include=['embeddings','metadatas']\n",
    "            )"
   ]
  },
  {
   "cell_type": "code",
   "execution_count": null,
   "id": "1adc79cb-50a0-4f7f-8960-c72461a67947",
   "metadata": {},
   "outputs": [],
   "source": [
    "smg_ids = smg_data['ids']\n",
    "nms_ids = nms_data['ids']\n",
    "\n",
    "smg_rids = [record['record_id'] for record in smg_data['metadatas']]\n",
    "nms_rids = [record['record_id'] for record in nms_data['metadatas']]\n",
    "\n",
    "smg_emb = np.matrix(smg_data['embeddings'])\n",
    "nms_emb = np.matrix(nms_data['embeddings'])\n",
    "image_similarities = 1 - sp.distance.cdist(smg_emb,nms_emb, 'cosine')\n",
    "\n",
    "threshold = np.percentile(image_similarities.reshape(-1), percentile) ; threshold\n",
    "\n",
    "image_similarities[image_similarities >= threshold] = 1\n",
    "image_similarities[image_similarities < threshold] = 0\n",
    "\n",
    "sns.set(rc={'figure.figsize':(15.7,12.27)})\n",
    "\n",
    "sns.heatmap(image_similarities, cmap= sns.cm.rocket_r)"
   ]
  },
  {
   "cell_type": "code",
   "execution_count": null,
   "id": "a9cd445f-0366-4e98-8887-ecde4efcc1f3",
   "metadata": {},
   "outputs": [],
   "source": [
    "smg_node_ids = list(np.where(image_similarities.sum(axis=1) > 0)[0])\n",
    "nms_node_ids = list(np.where(image_similarities.sum(axis=0) > 0)[0])\n",
    "\n",
    "smg_mapping = {i:j for i,j in zip(range(len(smg_data['embeddings'])),smg_rids)}\n",
    "nms_mapping = {i:j for i,j in zip(range(len(nms_data['embeddings'])),nms_rids)}"
   ]
  },
  {
   "cell_type": "code",
   "execution_count": null,
   "id": "17c39476-5a03-4cb6-87bf-10be860bd42f",
   "metadata": {},
   "outputs": [],
   "source": [
    "edges = [(smg_mapping[i],nms_mapping[j]) for i,j in zip(*np.where(image_similarities > 0))]"
   ]
  },
  {
   "cell_type": "code",
   "execution_count": null,
   "id": "a431fd8d-c573-4658-a657-336d4090632a",
   "metadata": {},
   "outputs": [],
   "source": [
    "to_annotate = edges[:num_annotations]"
   ]
  },
  {
   "cell_type": "code",
   "execution_count": null,
   "id": "b9d6a8d3-9315-4d47-862a-ca9a20482440",
   "metadata": {},
   "outputs": [],
   "source": [
    "if randomize:\n",
    "    random.shuffle(edges)\n",
    "img_pairs = edges[:num_annotations]"
   ]
  },
  {
   "cell_type": "code",
   "execution_count": null,
   "id": "e05ecd4b-529b-4fb5-9148-2c729401b91f",
   "metadata": {},
   "outputs": [],
   "source": [
    "labels = []\n",
    "\n",
    "widget = ipyannotations.generic.ClassLabeller(\n",
    "        options=['link', 'no link'], allow_freetext=True,\n",
    "        display_function=plot_record_pair)\n",
    "\n",
    "\n",
    "def store_annotations(entity_annotation):\n",
    "    labels.append(entity_annotation)\n",
    "    try:\n",
    "        widget.display(img_pairs.pop(0))\n",
    "    except IndexError:\n",
    "        print(\"Finished.\")\n",
    "widget.on_submit(store_annotations)\n",
    "widget.display(img_pairs.pop(0))\n",
    "widget\n"
   ]
  },
  {
   "cell_type": "code",
   "execution_count": null,
   "id": "eb950768-dfc6-41bb-a7e3-179954ed9b9d",
   "metadata": {},
   "outputs": [],
   "source": [
    "annotations_df = pd.DataFrame(to_annotate, columns=['coll1','coll2'])\n",
    "annotations_df['labels'] = labels[:num_annotations]"
   ]
  }
 ],
 "metadata": {
  "kernelspec": {
   "display_name": "heritageweaverv",
   "language": "python",
   "name": "heritageweaverv"
  },
  "language_info": {
   "codemirror_mode": {
    "name": "ipython",
    "version": 3
   },
   "file_extension": ".py",
   "mimetype": "text/x-python",
   "name": "python",
   "nbconvert_exporter": "python",
   "pygments_lexer": "ipython3",
   "version": "3.9.18"
  }
 },
 "nbformat": 4,
 "nbformat_minor": 5
}
