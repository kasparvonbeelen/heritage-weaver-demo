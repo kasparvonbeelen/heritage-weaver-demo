{
 "cells": [
  {
   "cell_type": "code",
   "execution_count": null,
   "id": "09dee98c-294d-4d9a-a7e1-a21e39b3433d",
   "metadata": {},
   "outputs": [],
   "source": [
    "# We clone all the code and tools from GitHub to this Notebook\n",
    "!git clone -b 2-vdb https://github.com/kasparvonbeelen/heritageweaver.git\n",
    "!sh /content/heritageweaver/create_env.sh"
   ]
  },
  {
   "cell_type": "code",
   "execution_count": null,
   "id": "cb16d3da-a83f-43f9-84e6-81a12df48dbb",
   "metadata": {},
   "outputs": [],
   "source": [
    "# # we need to restart the session\n",
    "# # to load the updated Pillow version\n",
    "import os\n",
    "os.kill(os.getpid(), 9)"
   ]
  },
  {
   "cell_type": "code",
   "execution_count": 2,
   "id": "bbfcaada-a067-49eb-8a45-3558dabbffc8",
   "metadata": {},
   "outputs": [
    {
     "name": "stderr",
     "output_type": "stream",
     "text": [
      "/Users/kasparbeelen/anaconda3/envs/heritageweaver/lib/python3.9/site-packages/torch/_utils.py:776: UserWarning: TypedStorage is deprecated. It will be removed in the future and UntypedStorage will be the only storage class. This should only matter to you if you are using storages directly.  To access UntypedStorage directly, use tensor.untyped_storage() instead of tensor.storage()\n",
      "  return self.fget.__get__(instance, owner)()\n"
     ]
    }
   ],
   "source": [
    "import chromadb\n",
    "import json\n",
    "import time\n",
    "import pandas as pd\n",
    "import ipyannotations.generic\n",
    "from chromadb.utils.data_loaders import ImageLoader\n",
    "from heritageweaver.weavingtools.annotation_tools import *\n",
    "from heritageweaver.weavingtools.weaving_tools import *\n",
    "from pathlib import Path"
   ]
  },
  {
   "cell_type": "code",
   "execution_count": 3,
   "id": "d2294865-8cda-4c79-9f22-7fd8f6d9d394",
   "metadata": {},
   "outputs": [
    {
     "data": {
      "text/plain": [
       "(6020, 22026)"
      ]
     },
     "execution_count": 3,
     "metadata": {},
     "output_type": "execute_result"
    }
   ],
   "source": [
    "collection_db = load_db(\"ce_comms_db\",'google/siglip-base-patch16-224')\n",
    "collection_df = pd.read_csv('/content/heritageweaver/data/communications_data.csv')\n",
    "out_path = Path('/content/annotations')\n",
    "out_path.mkdir(exist_ok=True)"
   ]
  },
  {
   "cell_type": "code",
   "execution_count": null,
   "id": "0a853187-0eb5-4c4a-a3cf-4b24acb5479a",
   "metadata": {},
   "outputs": [],
   "source": [
    "annotator = 'KB'\n",
    "top_n = 10"
   ]
  },
  {
   "cell_type": "markdown",
   "id": "2ecb3cfb",
   "metadata": {},
   "source": [
    "# Retrieve records\n"
   ]
  },
  {
   "cell_type": "markdown",
   "id": "38dd6af4",
   "metadata": {},
   "source": [
    "## Experiment 1\n",
    "- Modality prompt: Text\n",
    "- Modality search: Image and Text embedding"
   ]
  },
  {
   "cell_type": "code",
   "execution_count": null,
   "id": "a94d8430",
   "metadata": {},
   "outputs": [],
   "source": [
    "query = 'blue telephone'\n",
    "experiment_id = '1'"
   ]
  },
  {
   "cell_type": "code",
   "execution_count": null,
   "id": "17470749",
   "metadata": {},
   "outputs": [],
   "source": [
    "# retrieve records\n",
    "results = collection_db.query(query_texts=[query], n_results=top_n)\n",
    "query_df = get_query_results(results, collection_df, source='img_url')\n",
    "inputs = list(query_df.to_records())\n",
    "print(f'Please go to the Annotations section of the Notebook to label the {len(inputs)} retrieved records...')"
   ]
  },
  {
   "cell_type": "markdown",
   "id": "1a463672",
   "metadata": {},
   "source": [
    "## Experiment 2\n",
    "- Modality prompt: Text\n",
    "- Modality search: Image embedding"
   ]
  },
  {
   "cell_type": "code",
   "execution_count": null,
   "id": "127e1831",
   "metadata": {},
   "outputs": [],
   "source": [
    "# define your query\n",
    "query = 'blue telephone'\n",
    "experiment_id = '2'"
   ]
  },
  {
   "cell_type": "code",
   "execution_count": null,
   "id": "2141413a",
   "metadata": {},
   "outputs": [],
   "source": [
    "# retrieve records\n",
    "results = collection_db.query(query_texts=[query],where={'input_modality':'image'}, n_results=top_n)\n",
    "query_df = get_query_results(results, collection_df, source='img_url')\n",
    "inputs = list(query_df.to_records())\n",
    "print(f'Please go to the Annotations section of the Notebook to label the {len(inputs)} retrieved records...')"
   ]
  },
  {
   "cell_type": "markdown",
   "id": "a2ad2a3c",
   "metadata": {},
   "source": [
    "# Experiment 3\n",
    "- Modality prompt: Text\n",
    "- Modality search: Text embedding"
   ]
  },
  {
   "cell_type": "code",
   "execution_count": null,
   "id": "34174fe9",
   "metadata": {},
   "outputs": [],
   "source": [
    "# define your query\n",
    "query = 'blue telephone'\n",
    "experiment_id = '3'"
   ]
  },
  {
   "cell_type": "code",
   "execution_count": null,
   "id": "fbc4b11e",
   "metadata": {},
   "outputs": [],
   "source": [
    "# retrieve records\n",
    "results = collection_db.query(query_texts=[query],where={'input_modality':'text'}, n_results=top_n)\n",
    "query_df = get_query_results(results, collection_df, source='img_url')\n",
    "inputs = list(query_df.to_records())\n",
    "print(f'Please go to the Annotations section of the Notebook to label the {len(inputs)} retrieved records...')"
   ]
  },
  {
   "cell_type": "markdown",
   "id": "022c9af9",
   "metadata": {},
   "source": [
    "# Experiment 4\n",
    "- Modality prompt: Image\n",
    "- Modality search: Image embedding"
   ]
  },
  {
   "cell_type": "code",
   "execution_count": 2,
   "id": "17dc67b7",
   "metadata": {},
   "outputs": [],
   "source": [
    "query = 'https://framemark.vam.ac.uk/collections/2016HY8905/full/1400,/0/default.jpg'\n",
    "experiment_id = '4'\n",
    "query_img = Image.open(requests.get(query, stream=True).raw).convert(\"RGB\")\n",
    "query_img "
   ]
  },
  {
   "cell_type": "code",
   "execution_count": null,
   "id": "c8c7889d",
   "metadata": {},
   "outputs": [],
   "source": [
    "# retrieve records\n",
    "results = collection_db.query(query_images=[np.array(query_img)],where={'input_modality':'image'}, n_results=top_n)\n",
    "query_df = get_query_results(results, collection_df, source='img_url')\n",
    "inputs = list(query_df.to_records())\n",
    "print(f'Please go to the Annotations section of the Notebook to label the {len(inputs)} retrieved records...')"
   ]
  },
  {
   "cell_type": "markdown",
   "id": "1f0fbdad",
   "metadata": {},
   "source": [
    "## Experiment 5\n",
    "- Modality prompt: Text\n",
    "- Modality search: Text string"
   ]
  },
  {
   "cell_type": "code",
   "execution_count": null,
   "id": "a4053018",
   "metadata": {},
   "outputs": [],
   "source": [
    "# formulate query\n",
    "query = 'blue telephone'\n",
    "\n",
    "document_filter = {\n",
    "    \"$and\": [\n",
    "        {\"$contains\": 'blue'},\n",
    "        {\"$contains\": 'telephone'},\n",
    "\n",
    "    ]\n",
    "}\n",
    "experiment_id = '5'"
   ]
  },
  {
   "cell_type": "code",
   "execution_count": null,
   "id": "886fb6bc",
   "metadata": {},
   "outputs": [],
   "source": [
    "# retrieve records\n",
    "results = collection_db.query(query_texts=[query],where_document=document_filter, n_results=top_n)\n",
    "query_df = get_query_results(results, collection_df, source='img_url')\n",
    "inputs = list(query_df.to_records())\n",
    "print(f'Please go to the Annotations section of the Notebook to label the {len(inputs)} retrieved records...')"
   ]
  },
  {
   "cell_type": "markdown",
   "id": "3f9fd02d",
   "metadata": {},
   "source": [
    "# Annotate"
   ]
  },
  {
   "cell_type": "code",
   "execution_count": null,
   "id": "5f2c26d3",
   "metadata": {},
   "outputs": [],
   "source": [
    "labels = []\n",
    "\n",
    "widget = ipyannotations.generic.ClassLabeller(\n",
    "        options=['relevant', 'not relevant'], allow_freetext=False,\n",
    "        display_function=plot_by_record)\n",
    "\n",
    "\n",
    "def store_annotations(entity_annotation):\n",
    "    labels.append(entity_annotation)\n",
    "    try:\n",
    "        widget.display(inputs.pop(0))\n",
    "    except IndexError:\n",
    "        print(\"Finished.\")\n",
    "        \n",
    "widget.on_submit(store_annotations)\n",
    "widget.display(inputs.pop(0))\n",
    "widget"
   ]
  },
  {
   "cell_type": "markdown",
   "id": "2ff70de5",
   "metadata": {},
   "source": [
    "# Save Annotations"
   ]
  },
  {
   "cell_type": "code",
   "execution_count": null,
   "id": "af88d8ed-9414-42fe-96bf-75ca3299fe88",
   "metadata": {},
   "outputs": [],
   "source": [
    "query_df['labels'] = labels[:top_n]\n",
    "query_df['query'] = query\n",
    "query_df['modality'] = experiment_id\n",
    "query_df['annotator'] = annotator\n",
    "query_df.to_csv(out_path / f'{experiment_id}_{annotator}_{time.time()}.csv')"
   ]
  },
  {
   "cell_type": "markdown",
   "id": "aea030b7",
   "metadata": {},
   "source": [
    "# Fin."
   ]
  }
 ],
 "metadata": {
  "kernelspec": {
   "display_name": "heritageweaverv",
   "language": "python",
   "name": "heritageweaverv"
  },
  "language_info": {
   "codemirror_mode": {
    "name": "ipython",
    "version": 3
   },
   "file_extension": ".py",
   "mimetype": "text/x-python",
   "name": "python",
   "nbconvert_exporter": "python",
   "pygments_lexer": "ipython3",
   "version": "3.9.18"
  }
 },
 "nbformat": 4,
 "nbformat_minor": 5
}
