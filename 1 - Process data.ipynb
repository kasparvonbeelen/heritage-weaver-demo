{
 "cells": [
  {
   "cell_type": "markdown",
   "id": "1062ad1f",
   "metadata": {},
   "source": [
    "# Ingest and process data\n",
    "\n",
    "This notebook loads the data that was stored on Box, and converts it to dataframe and dataset with a common format across all collections.\n",
    "\n",
    "It provides functionality for downlaoding images."
   ]
  },
  {
   "cell_type": "code",
   "execution_count": 2,
   "id": "5bcf4755",
   "metadata": {},
   "outputs": [],
   "source": [
    "# ignore warnings\n",
    "import warnings\n",
    "warnings.filterwarnings(\"ignore\")"
   ]
  },
  {
   "cell_type": "code",
   "execution_count": 3,
   "id": "d0846e53",
   "metadata": {},
   "outputs": [],
   "source": [
    "%load_ext autoreload\n",
    "%autoreload 2"
   ]
  },
  {
   "cell_type": "code",
   "execution_count": 4,
   "id": "4390a967",
   "metadata": {},
   "outputs": [],
   "source": [
    "import pandas as pd\n",
    "import matplotlib.pyplot as plt\n",
    "from weavingtools.collection_tools import SMGCollection, NMSCollection\n",
    "from pathlib import Path\n",
    "from tqdm.notebook import tqdm\n",
    "from PIL import Image\n",
    "import chromadb"
   ]
  },
  {
   "cell_type": "code",
   "execution_count": 5,
   "id": "dd5bdcdd",
   "metadata": {},
   "outputs": [],
   "source": [
    "nms = NMSCollection(img_folder='nms_imgs')\n",
    "nms.load_original_csvs(files=list(Path('data').glob('NMS_Metadata*.*')))\n",
    "nms.save_csv('data/NMS.csv')"
   ]
  },
  {
   "cell_type": "code",
   "execution_count": 7,
   "id": "05276258",
   "metadata": {},
   "outputs": [
    {
     "data": {
      "text/html": [
       "<div>\n",
       "<style scoped>\n",
       "    .dataframe tbody tr th:only-of-type {\n",
       "        vertical-align: middle;\n",
       "    }\n",
       "\n",
       "    .dataframe tbody tr th {\n",
       "        vertical-align: top;\n",
       "    }\n",
       "\n",
       "    .dataframe thead th {\n",
       "        text-align: right;\n",
       "    }\n",
       "</style>\n",
       "<table border=\"1\" class=\"dataframe\">\n",
       "  <thead>\n",
       "    <tr style=\"text-align: right;\">\n",
       "      <th></th>\n",
       "      <th>record_id</th>\n",
       "      <th>name</th>\n",
       "      <th>description</th>\n",
       "      <th>category</th>\n",
       "      <th>taxonomy</th>\n",
       "      <th>img_loc</th>\n",
       "      <th>img_name</th>\n",
       "      <th>img_path</th>\n",
       "      <th>img_url</th>\n",
       "      <th>downloaded</th>\n",
       "    </tr>\n",
       "  </thead>\n",
       "  <tbody>\n",
       "    <tr>\n",
       "      <th>0</th>\n",
       "      <td>D.2015.17</td>\n",
       "      <td>Cable, fibre optic</td>\n",
       "      <td>Sample of fibre optic cable for use as</td>\n",
       "      <td>Science and Technology : Technology</td>\n",
       "      <td>7. TELECOMMUNICATIONS, Communication</td>\n",
       "      <td>PF1028716</td>\n",
       "      <td>PF1028716.jpg</td>\n",
       "      <td>nms_imgs/PF1028716.jpg</td>\n",
       "      <td>https://www.nms.ac.uk/api/axiell?command=getco...</td>\n",
       "      <td>True</td>\n",
       "    </tr>\n",
       "    <tr>\n",
       "      <th>1</th>\n",
       "      <td>D.2015.18</td>\n",
       "      <td>Portable telephone</td>\n",
       "      <td>Portable style early mobile phone, 1990 - 1995...</td>\n",
       "      <td>Science and Technology : Technology</td>\n",
       "      <td>7. TELECOMMUNICATIONS, Telephony, Mobile</td>\n",
       "      <td>PF1027676</td>\n",
       "      <td>PF1027676.jpg</td>\n",
       "      <td>nms_imgs/PF1027676.jpg</td>\n",
       "      <td>https://www.nms.ac.uk/api/axiell?command=getco...</td>\n",
       "      <td>True</td>\n",
       "    </tr>\n",
       "    <tr>\n",
       "      <th>1</th>\n",
       "      <td>D.2015.18</td>\n",
       "      <td>Portable telephone</td>\n",
       "      <td>Portable style early mobile phone, 1990 - 1995...</td>\n",
       "      <td>Science and Technology : Technology</td>\n",
       "      <td>7. TELECOMMUNICATIONS, Telephony, Mobile</td>\n",
       "      <td>PF1028723</td>\n",
       "      <td>PF1028723.jpg</td>\n",
       "      <td>nms_imgs/PF1028723.jpg</td>\n",
       "      <td>https://www.nms.ac.uk/api/axiell?command=getco...</td>\n",
       "      <td>True</td>\n",
       "    </tr>\n",
       "    <tr>\n",
       "      <th>2</th>\n",
       "      <td>D.2015.19</td>\n",
       "      <td>Telephone, candlestick</td>\n",
       "      <td>Candlestick telephone, 1910 - 1930;  for use a...</td>\n",
       "      <td>Science and Technology : Technology</td>\n",
       "      <td>7. TELECOMMUNICATIONS, Communication</td>\n",
       "      <td>PF1027677</td>\n",
       "      <td>PF1027677.jpg</td>\n",
       "      <td>nms_imgs/PF1027677.jpg</td>\n",
       "      <td>https://www.nms.ac.uk/api/axiell?command=getco...</td>\n",
       "      <td>True</td>\n",
       "    </tr>\n",
       "    <tr>\n",
       "      <th>3</th>\n",
       "      <td>D.2015.20</td>\n",
       "      <td>Telephone, dial</td>\n",
       "      <td>Dial telephone, 1930 - 1940;  for use as TOUCH...</td>\n",
       "      <td>Science and Technology : Technology</td>\n",
       "      <td>7. TELECOMMUNICATIONS, Communication</td>\n",
       "      <td>PF1027185</td>\n",
       "      <td>PF1027185.jpg</td>\n",
       "      <td>nms_imgs/PF1027185.jpg</td>\n",
       "      <td>https://www.nms.ac.uk/api/axiell?command=getco...</td>\n",
       "      <td>True</td>\n",
       "    </tr>\n",
       "  </tbody>\n",
       "</table>\n",
       "</div>"
      ],
      "text/plain": [
       "   record_id                    name  \\\n",
       "0  D.2015.17      Cable, fibre optic   \n",
       "1  D.2015.18      Portable telephone   \n",
       "1  D.2015.18      Portable telephone   \n",
       "2  D.2015.19  Telephone, candlestick   \n",
       "3  D.2015.20         Telephone, dial   \n",
       "\n",
       "                                         description  \\\n",
       "0             Sample of fibre optic cable for use as   \n",
       "1  Portable style early mobile phone, 1990 - 1995...   \n",
       "1  Portable style early mobile phone, 1990 - 1995...   \n",
       "2  Candlestick telephone, 1910 - 1930;  for use a...   \n",
       "3  Dial telephone, 1930 - 1940;  for use as TOUCH...   \n",
       "\n",
       "                              category  \\\n",
       "0  Science and Technology : Technology   \n",
       "1  Science and Technology : Technology   \n",
       "1  Science and Technology : Technology   \n",
       "2  Science and Technology : Technology   \n",
       "3  Science and Technology : Technology   \n",
       "\n",
       "                                   taxonomy    img_loc       img_name  \\\n",
       "0      7. TELECOMMUNICATIONS, Communication  PF1028716  PF1028716.jpg   \n",
       "1  7. TELECOMMUNICATIONS, Telephony, Mobile  PF1027676  PF1027676.jpg   \n",
       "1  7. TELECOMMUNICATIONS, Telephony, Mobile  PF1028723  PF1028723.jpg   \n",
       "2      7. TELECOMMUNICATIONS, Communication  PF1027677  PF1027677.jpg   \n",
       "3      7. TELECOMMUNICATIONS, Communication  PF1027185  PF1027185.jpg   \n",
       "\n",
       "                 img_path                                            img_url  \\\n",
       "0  nms_imgs/PF1028716.jpg  https://www.nms.ac.uk/api/axiell?command=getco...   \n",
       "1  nms_imgs/PF1027676.jpg  https://www.nms.ac.uk/api/axiell?command=getco...   \n",
       "1  nms_imgs/PF1028723.jpg  https://www.nms.ac.uk/api/axiell?command=getco...   \n",
       "2  nms_imgs/PF1027677.jpg  https://www.nms.ac.uk/api/axiell?command=getco...   \n",
       "3  nms_imgs/PF1027185.jpg  https://www.nms.ac.uk/api/axiell?command=getco...   \n",
       "\n",
       "   downloaded  \n",
       "0        True  \n",
       "1        True  \n",
       "1        True  \n",
       "2        True  \n",
       "3        True  "
      ]
     },
     "execution_count": 7,
     "metadata": {},
     "output_type": "execute_result"
    }
   ],
   "source": [
    "nms.df.head()"
   ]
  },
  {
   "cell_type": "code",
   "execution_count": 8,
   "id": "123d6039",
   "metadata": {},
   "outputs": [
    {
     "data": {
      "application/vnd.jupyter.widget-view+json": {
       "model_id": "9b13aa759aac4184acb78f6a5ecbae9b",
       "version_major": 2,
       "version_minor": 0
      },
      "text/plain": [
       "0it [00:00, ?it/s]"
      ]
     },
     "metadata": {},
     "output_type": "display_data"
    }
   ],
   "source": [
    "smg = SMGCollection( img_folder='smg_imgs')\n",
    "smg.load_from_json('data/smg_objects_06_06_2022.json')\n",
    "smg.save_csv('data/SMG.csv')"
   ]
  },
  {
   "cell_type": "markdown",
   "id": "8583207e",
   "metadata": {},
   "source": [
    "#   Download images"
   ]
  },
  {
   "cell_type": "code",
   "execution_count": 9,
   "id": "6662cac6",
   "metadata": {},
   "outputs": [],
   "source": [
    "collection = SMGCollection(img_folder=Path('smg_imgs'))\n",
    "collection.load_from_csv('data/SMG.csv')\n"
   ]
  },
  {
   "cell_type": "code",
   "execution_count": 10,
   "id": "281a9a19",
   "metadata": {},
   "outputs": [
    {
     "name": "stdout",
     "output_type": "stream",
     "text": [
      "before downloading 69667\n",
      "remaining images to download 129541\n"
     ]
    },
    {
     "data": {
      "application/vnd.jupyter.widget-view+json": {
       "model_id": "3cbdc07cd1804c7596713842b0643b94",
       "version_major": 2,
       "version_minor": 0
      },
      "text/plain": [
       "  0%|          | 0/10 [00:00<?, ?it/s]"
      ]
     },
     "metadata": {},
     "output_type": "display_data"
    },
    {
     "name": "stdout",
     "output_type": "stream",
     "text": [
      "after downloading 69677\n"
     ]
    }
   ],
   "source": [
    "collection.fetch_images(n=10)"
   ]
  },
  {
   "cell_type": "code",
   "execution_count": 11,
   "id": "374e9c29",
   "metadata": {},
   "outputs": [
    {
     "name": "stdout",
     "output_type": "stream",
     "text": [
      "(21640, 6)\n",
      "before downloading 69677\n",
      "['486/219/medium_SMG00307832_0.jpg', '420/724/medium_1964_330_53__0006_.jpg', '420/725/medium_1964_330_53__0005_.jpg', '460/430/medium_SMG00078652_0.jpg', '439/271/medium_SMG00174226_0.jpg', '536/526/medium_2019_0497__0001_.jpg', '536/527/medium_2019_0497__0002_.jpg', '536/528/medium_2019_0497__0004_.jpg', '536/529/medium_2019_0497__0003_.jpg', '420/724/medium_1964_330_53__0006_.jpg', '420/725/medium_1964_330_53__0005_.jpg', '439/277/medium_SMG00174255_0.jpg', '439/278/medium_SMG00174256_0.jpg', '494/324/medium_1994_7263_0001_0.jpg', '494/325/medium_1994_7263_0002_0.jpg', '439/274/medium_SMG00174252_0.jpg', '462/952/medium_SMG00020107_0.jpg', '536/535/medium_2019_0501__0001_.jpg', '536/536/medium_2019_0501__0003_.jpg', '536/537/medium_2019_0501__0004_.jpg', '536/538/medium_2019_0501__0005_.jpg', '536/539/medium_2019_0501__0006_.jpg', '460/426/medium_SMG00078648_0.jpg', '460/429/medium_SMG00078651_0.jpg', '460/425/medium_SMG00078647_0.jpg', '439/276/medium_SMG00174254_0.jpg', '439/272/medium_SMG00174230_0.jpg', '303/414/medium_SMG00022645.jpg', '302/805/medium_SMG00022220.jpg', '312/717/medium_SMG00067000_0.jpg', '306/489/medium_SMG00067710.jpg', '306/487/medium_SMG00067708.jpg', '459/693/medium_SMG00271243.jpg', '377/283/medium_SMG00096003.jpg', '253/479/medium_Y2000_0045__0001_.jpg', '310/845/medium_1999_7326__0001_.jpg', '494/480/medium_1987_8201_0001_0.jpg', '494/481/medium_1987_8201_0009_0.jpg', '310/285/medium_SMG00030370_0.jpg', '323/542/medium_SMG00044117_0.jpg', '305/287/medium_SMG00022698_0.jpg', '436/226/medium_SMG00078605.jpg', '436/240/medium_SMG00078632.jpg', '461/119/medium_SMG00267680.jpg', '439/281/medium_SMG00180657_0.jpg', '436/233/medium_SMG00078618.jpg', '406/970/medium_SMG00094359.jpg', '435/407/medium_SMG00055615.jpg', '306/411/medium_SMG00067292.jpg', '332/496/medium_SMG00179850.jpg', '306/420/medium_SMG00067301.jpg', '306/413/medium_SMG00067294.jpg', '480/347/medium_SMG00251582.jpg', '476/982/medium_SMG00246127.jpg', '320/192/medium_Y1996_0010_1115_0002__0001_.jpg', '320/193/medium_Y1996_0010_1115_0002__0002_.jpg', '320/194/medium_Y1996_0010_1115_0002__0003_.jpg', '461/434/medium_SMG00303059.jpg', '461/101/medium_SMG00267658.jpg', '435/445/medium_SMG00067288.jpg', '300/899/medium_SMG00064515.jpg', '300/917/medium_SMG00064536.jpg', '300/898/medium_SMG00064514.jpg', '301/186/medium_SMG00064530.jpg', '300/906/medium_SMG00064522.jpg', '300/897/medium_SMG00064513.jpg', '300/896/medium_SMG00064512.jpg', '300/895/medium_SMG00064511.jpg', '431/859/medium_SMG00154334.jpg', '439/279/medium_SMG00174257_0.jpg', '377/550/medium_SMG00101002.jpg', '377/437/medium_SMG00099938.jpg', '437/486/medium_SMG00153456.jpg', '437/482/medium_SMG00153452.jpg', '437/484/medium_SMG00153454.jpg', '432/688/medium_SMG00153927.jpg', '431/825/medium_SMG00154300.jpg', '431/830/medium_SMG00154305.jpg', '432/771/medium_SMG00154276.jpg', '431/726/medium_SMG00153154.jpg', '436/251/medium_SMG00078643.jpg', '436/243/medium_SMG00078635.jpg', '437/464/medium_SMG00153434.jpg', '437/470/medium_SMG00153440.jpg', '437/469/medium_SMG00153439.jpg', '460/431/medium_SMG00078655_0.jpg', '442/696/medium_SMG00174054.jpg', '442/698/medium_SMG00174059.jpg', '338/49/medium_SMG00082196.jpg', '435/459/medium_SMG00078598.jpg', '435/468/medium_SMG00078610.jpg', '480/348/medium_SMG00251583.jpg', '461/108/medium_SMG00267669.jpg', '461/106/medium_SMG00267667.jpg', '253/550/medium_Y7001_0783__0001_.jpg', '432/729/medium_SMG00154190.jpg', '476/563/medium_SMG00245623.jpg', '253/547/medium_Y1972_0041__0001_.jpg', '282/939/medium_1980_0676_0023_0021__0001_.jpg', '536/541/medium_2019_0502__0002_.jpg', '536/542/medium_2019_0502__0003_.jpg', '536/543/medium_2019_0502__0004_.jpg', '536/544/medium_2019_0502__0005_.jpg', '536/545/medium_2019_0502__0006_.jpg', '459/690/medium_SMG00271240.jpg', '459/688/medium_SMG00271238.jpg', '319/49/medium_SMG00030210.jpg', '495/608/medium_1987_8441_0006_0.jpg', '436/250/medium_SMG00078642.jpg', '435/463/medium_SMG00078602.jpg', '409/27/medium_SMG00239899.jpg', '435/409/medium_SMG00055617.jpg', '338/190/medium_SMG00180251.jpg', '306/417/medium_SMG00067298.jpg', '480/349/medium_SMG00251584.jpg', '306/414/medium_SMG00067295.jpg', '476/979/medium_SMG00246122.jpg', '435/411/medium_SMG00055619.jpg', '253/553/medium_Y1986_0166__0001_.jpg', '460/470/medium_SMG00092048.jpg', '301/184/medium_SMG00064525.jpg', '300/911/medium_SMG00064529.jpg', '300/894/medium_SMG00064510.jpg', '300/904/medium_SMG00064520.jpg', '300/908/medium_SMG00064524.jpg', '300/905/medium_SMG00064521.jpg', '300/891/medium_SMG00064507.jpg', '299/382/medium_SMG00065131.jpg', '299/383/medium_SMG00065132.jpg', '306/399/medium_SMG00067280.jpg', '432/766/medium_SMG00154271.jpg', '431/824/medium_SMG00154299.jpg', '432/794/medium_SMG00154371.jpg', '431/826/medium_SMG00154301.jpg', '437/485/medium_SMG00153455.jpg', '437/471/medium_SMG00153441.jpg', '432/687/medium_SMG00153926.jpg', '282/941/medium_1980_0676_0023_0010__0001_.jpg', '338/54/medium_SMG00082203.jpg', '462/455/medium_SMG00267660.jpg', '431/817/medium_SMG00154292.jpg', '431/816/medium_SMG00154291.jpg', '253/476/medium_Y1994_0072_0011__0001_.jpg', '460/469/medium_SMG00092047.jpg', '437/555/medium_SMG00153532.jpg', '429/328/medium_SMG00101848.jpg', '431/811/medium_SMG00154286.jpg', '437/475/medium_SMG00153445.jpg', '377/483/medium_SMG00099984.jpg', '431/724/medium_SMG00153151.jpg', '435/466/medium_SMG00078607.jpg', '436/244/medium_SMG00078636.jpg', '436/242/medium_SMG00078634.jpg', '302/370/medium_SMG00065786.jpg', '460/468/medium_SMG00092046.jpg', '429/330/medium_SMG00101850.jpg', '461/659/medium_SMG00069584_0.jpg', '432/744/medium_SMG00154205.jpg', '306/488/medium_SMG00067709.jpg', '306/485/medium_SMG00067706.jpg', '432/745/medium_SMG00154206.jpg', '459/684/medium_SMG00271234.jpg', '252/934/medium_Y1996_0010_0626__0002_.jpg', '253/548/medium_Y1988_0264__0001_.jpg', '253/480/medium_Y7001_0549__0001_.jpg', '253/481/medium_Y7001_0549__0002_.jpg', '253/482/medium_Y2001__111__0001_.jpg', '460/472/medium_SMG00092050.jpg', '407/108/medium_SMG00118877.jpg', '436/230/medium_SMG00078614.jpg', '436/234/medium_SMG00078619.jpg', '435/461/medium_SMG00078600.jpg', '476/568/medium_SMG00245628.jpg', '436/248/medium_SMG00078640.jpg', '461/112/medium_SMG00267673.jpg', '461/118/medium_SMG00267679.jpg', '306/402/medium_SMG00067283.jpg', '438/598/medium_SMG00024780.jpg', '422/395/medium_1964_330_46_Pt1__0002_.jpg', '422/396/medium_1964_330_46_Pt1__0008_.jpg', '422/397/medium_1964_330_46_Pt1__0001_.jpg', '422/399/medium_1964_330_46_pt2__0002_.jpg', '422/400/medium_1964_330_46_pt2__0005_.jpg', '422/401/medium_1964_330_46_pt2__0006_.jpg', '460/477/medium_SMG00092056.jpg', '462/457/medium_SMG00267663.jpg', '461/102/medium_SMG00267662.jpg', '462/456/medium_SMG00267661.jpg', '461/99/medium_SMG00267656.jpg', '461/97/medium_SMG00267654.jpg', '472/653/medium_SMG00048814.jpg', '435/410/medium_SMG00055618.jpg', '461/111/medium_SMG00267672.jpg', '435/413/medium_SMG00055621.jpg', '435/412/medium_SMG00055620.jpg', '461/120/medium_SMG00267681.jpg', '300/900/medium_SMG00064516.jpg', '300/888/medium_SMG00064504.jpg', '435/469/medium_SMG00078613.jpg', '435/458/medium_SMG00078597.jpg', '435/462/medium_SMG00078601.jpg', '432/718/medium_SMG00154179.jpg', '437/468/medium_SMG00153438.jpg', '431/815/medium_SMG00154290.jpg', '377/551/medium_SMG00101003.jpg', '432/737/medium_SMG00154198.jpg', '435/456/medium_SMG00078594.jpg', '436/249/medium_SMG00078641.jpg', '436/241/medium_SMG00078633.jpg', '435/460/medium_SMG00078599.jpg', '435/455/medium_SMG00078591.jpg', '436/236/medium_SMG00078626.jpg', '436/239/medium_SMG00078631.jpg', '431/822/medium_SMG00154297.jpg', '437/483/medium_SMG00153453.jpg', '432/730/medium_SMG00154191.jpg', '299/377/medium_SMG00065095.jpg', '299/378/medium_SMG00065096.jpg', '474/935/medium_SMG00243254.jpg', '377/482/medium_SMG00099983.jpg', '305/282/medium_SMG00020102.jpg', '309/131/medium_SMG00066938_0.jpg', '459/686/medium_SMG00271236.jpg', '459/689/medium_SMG00271239.jpg', '459/692/medium_SMG00271242.jpg', '432/689/medium_SMG00153928.jpg', '497/622/medium_SMG00189900_0.jpg', '537/584/medium_1926_1040__0004_.jpg', '537/585/medium_1926_1040__0005_.jpg', '537/586/medium_1926_1040__0006_.jpg', '237/582/medium_cd0177_020_051013_CS1_2002_19_163_4_Pit_prop.jpg', '475/711/medium_SMG00244425.jpg']\n"
     ]
    },
    {
     "data": {
      "application/vnd.jupyter.widget-view+json": {
       "model_id": "8526f5df363c4c2da77716dbc61c55b0",
       "version_major": 2,
       "version_minor": 0
      },
      "text/plain": [
       "  0%|          | 0/232 [00:00<?, ?it/s]"
      ]
     },
     "metadata": {},
     "output_type": "display_data"
    },
    {
     "name": "stdout",
     "output_type": "stream",
     "text": [
      "after downloading 69677\n"
     ]
    }
   ],
   "source": [
    "# download images by category\n",
    "smg_img_overview = pd.read_csv('data/smgimagelookup.csv')\n",
    "categories = ['Telecommunications', 'Radio Communication','Signalling & Telecommunications',#'Photography','Photographic Technology',\n",
    "            'Plastics and Modern Materials', 'Modern Materials', 'Textile Industry', 'Textiles Machinery',\n",
    "            'Water Supply & Sanitation', 'Heat Engines (non steam)', 'Metallurgy', 'Hand and Machine Tools', 'Electricity Supply', 'Domestic Appliances', \n",
    "            'Tools of the Trade & Personal Accessories', 'Lighting', 'Motive Power', 'Coal Mining', 'Mining & Ore Dressing', 'Gas Industry', 'Heat', 'Nuclear Physics', \n",
    "            'Pumping Machinery', \"Marine Engines\", 'Industrial Metrology', 'Nuclear Energy', 'Environmental Science & Technology', 'Civil Engineering', 'Mechanical Power Transmission'\n",
    " ]\n",
    "comms = smg_img_overview[smg_img_overview.category.isin(categories)]\n",
    "print(comms.shape)\n",
    "\n",
    "record_ids = set(comms.record_url.apply(lambda x: x.split('/')[-1]))\n",
    "collection.fetch_images(record_ids=record_ids)"
   ]
  },
  {
   "cell_type": "code",
   "execution_count": 12,
   "id": "7e7dee09",
   "metadata": {},
   "outputs": [
    {
     "data": {
      "application/vnd.jupyter.widget-view+json": {
       "model_id": "5811bfa84e6c41c99727b08098e9dae6",
       "version_major": 2,
       "version_minor": 0
      },
      "text/plain": [
       "  0%|          | 0/1444 [00:00<?, ?it/s]"
      ]
     },
     "metadata": {},
     "output_type": "display_data"
    }
   ],
   "source": [
    "collection = NMSCollection(img_folder=Path('nms_imgs'))\n",
    "collection.load_from_csv('data/NMS.csv')\n",
    "collection.fetch_images(n=5)"
   ]
  },
  {
   "cell_type": "code",
   "execution_count": 13,
   "id": "0be0ec12",
   "metadata": {},
   "outputs": [
    {
     "data": {
      "application/vnd.jupyter.widget-view+json": {
       "model_id": "9acc06b45e594216b6f7820c37710a57",
       "version_major": 2,
       "version_minor": 0
      },
      "text/plain": [
       "  0%|          | 0/1642 [00:00<?, ?it/s]"
      ]
     },
     "metadata": {},
     "output_type": "display_data"
    }
   ],
   "source": [
    "img_ids = [p for p in collection.df.img_loc.to_list() if isinstance(p,str)]\n",
    "collection.fetch_images(imgs_ids=img_ids)"
   ]
  },
  {
   "cell_type": "markdown",
   "id": "7626b30e",
   "metadata": {},
   "source": [
    "# Filter communications data"
   ]
  },
  {
   "cell_type": "code",
   "execution_count": 14,
   "id": "6bd29b1f",
   "metadata": {},
   "outputs": [
    {
     "name": "stdout",
     "output_type": "stream",
     "text": [
      "['Modern Materials']\n",
      "Collected 21640 object ids\n"
     ]
    },
    {
     "data": {
      "text/plain": [
       "((29666, 10), (21640, 6))"
      ]
     },
     "execution_count": 14,
     "metadata": {},
     "output_type": "execute_result"
    }
   ],
   "source": [
    "# open the spreadsheet with image lookup\n",
    "smg_img_overview = pd.read_csv('data/smgimagelookup.csv')\n",
    "# select the categories we want to include in the communications collections\n",
    "categories = ['Telecommunications', 'Radio Communication','Signalling & Telecommunications',#'Photography','Photographic Technology',\n",
    "            'Plastics and Modern Materials', 'Modern Materials', 'Textile Industry', 'Textiles Machinery',\n",
    "            'Water Supply & Sanitation', 'Heat Engines (non steam)', 'Metallurgy', 'Hand and Machine Tools', 'Electricity Supply', 'Domestic Appliances', \n",
    "            'Tools of the Trade & Personal Accessories', 'Lighting', 'Motive Power', 'Coal Mining', 'Mining & Ore Dressing', 'Gas Industry', 'Heat', 'Nuclear Physics', \n",
    "            'Pumping Machinery', \"Marine Engines\", 'Industrial Metrology', 'Nuclear Energy', 'Environmental Science & Technology', 'Civil Engineering', 'Mechanical Power Transmission'\n",
    " ]\n",
    "# select objects from based on these categories\n",
    "df_comms = smg_img_overview[smg_img_overview.category.isin(categories)]\n",
    "#print(df_comms.category.value_counts())\n",
    "print([w for w in categories if w not in df_comms.category.value_counts().index])\n",
    "# # get object ids for communication object\n",
    "object_ids = df_comms.record_url.apply(lambda x: x.split('/')[-1])\n",
    "print(f'Collected {len(object_ids)} object ids')\n",
    "smg.df.img_path = smg.df.img_path.apply(lambda x: Path(x)) \n",
    "smg.df = smg.df[smg.df.record_id.isin(object_ids)]\n",
    "smg.df = smg.df[smg.df.img_path.apply(lambda x: x.is_file() and not x.is_dir())].reset_index(drop=True)\n",
    "smg.df.shape,df_comms.shape"
   ]
  },
  {
   "cell_type": "code",
   "execution_count": 15,
   "id": "048bbe8e",
   "metadata": {},
   "outputs": [
    {
     "data": {
      "text/plain": [
       "(1478, 10)"
      ]
     },
     "execution_count": 15,
     "metadata": {},
     "output_type": "execute_result"
    }
   ],
   "source": [
    "nms.df = nms.df[nms.df.img_name.str.endswith('.jpg').fillna(False).astype(bool) &  \n",
    "                nms.df.img_name.str.startswith(('PF','MP')).fillna(False).astype(bool)\n",
    "                ].reset_index(drop=True)\n",
    "nms.df.downloaded = True\n",
    "nms.df.shape"
   ]
  },
  {
   "cell_type": "markdown",
   "id": "18fe3566",
   "metadata": {},
   "source": [
    "# Create dataframe for collection"
   ]
  },
  {
   "cell_type": "code",
   "execution_count": 16,
   "id": "be4d8513",
   "metadata": {},
   "outputs": [
    {
     "name": "stdout",
     "output_type": "stream",
     "text": [
      "Collections has 31144 rows\n"
     ]
    }
   ],
   "source": [
    "# add collection name to the dataframes to later we can filter by collection\n",
    "smg.df['collection'] = smg.collection_name; nms.df['collection'] = nms.collection_name\n",
    "# concatenate the dataframes\n",
    "collection_df = pd.concat([smg.df,nms.df],axis=0); \n",
    "# remove rows for which we don't hvae an image stored locally\n",
    "collection_df = collection_df[~collection_df.img_path.apply(lambda x: Path(x).is_dir())]\n",
    "# reset index so we can use it later in the database as ids\n",
    "collection_df.reset_index(drop=True,inplace=True)\n",
    "# convert image path to string to aoivd issues with the database\n",
    "collection_df['img_path'] = collection_df.img_path.apply(lambda x: str(x))\n",
    "print('Collections has',collection_df.shape[0],'rows')\n",
    "# save the data to a csv file\n",
    "collection_df.to_csv('data/heritage_weaver_data.csv')"
   ]
  },
  {
   "cell_type": "markdown",
   "id": "0e6a2db7",
   "metadata": {},
   "source": [
    "## Describe Data"
   ]
  },
  {
   "cell_type": "code",
   "execution_count": null,
   "id": "f7ba372e",
   "metadata": {},
   "outputs": [],
   "source": [
    "import seaborn as sns\n",
    "sns.set_theme(style=\"whitegrid\")\n",
    "collection_df = pd.read_csv('data/heritage_weaver_data.csv')"
   ]
  },
  {
   "cell_type": "code",
   "execution_count": null,
   "id": "d79e7bd5",
   "metadata": {},
   "outputs": [],
   "source": [
    "collection_df.collection.value_counts().plot(kind='bar')"
   ]
  },
  {
   "cell_type": "code",
   "execution_count": null,
   "id": "b21973a2",
   "metadata": {},
   "outputs": [],
   "source": [
    "nms.df.category.value_counts().plot(kind='bar')"
   ]
  },
  {
   "cell_type": "code",
   "execution_count": null,
   "id": "8a03de14",
   "metadata": {},
   "outputs": [],
   "source": [
    "collection_df.collection.value_counts().plot(kind='bar')"
   ]
  },
  {
   "cell_type": "code",
   "execution_count": null,
   "id": "848a1bd9",
   "metadata": {},
   "outputs": [],
   "source": [
    "collection_df.groupby(['collection', 'category'])['record_id'].count().reset_index().to_csv('data/collection_category_counts.csv')"
   ]
  },
  {
   "cell_type": "markdown",
   "id": "aabadbe9",
   "metadata": {},
   "source": [
    "# Create Vector Database"
   ]
  },
  {
   "cell_type": "code",
   "execution_count": 6,
   "id": "cb0dd745",
   "metadata": {},
   "outputs": [],
   "source": [
    "import pandas as pd\n",
    "import chromadb\n",
    "import json\n",
    "from weavingtools.embedding_tools import SigLIPEmbedder, ImageLoaderRGB, index_data\n",
    "from weavingtools.linkage_tools import plot_query_results"
   ]
  },
  {
   "cell_type": "code",
   "execution_count": 7,
   "id": "4c0543d0",
   "metadata": {},
   "outputs": [
    {
     "name": "stdout",
     "output_type": "stream",
     "text": [
      "Collections has 31144 rows\n"
     ]
    }
   ],
   "source": [
    "collection_df = pd.read_csv('data/heritage_weaver_data.csv')\n",
    "print('Collections has',collection_df.shape[0],'rows')"
   ]
  },
  {
   "cell_type": "code",
   "execution_count": 8,
   "id": "4069f6c9",
   "metadata": {},
   "outputs": [
    {
     "data": {
      "application/vnd.jupyter.widget-view+json": {
       "model_id": "30678fd1748c4fa4bc40dde45d124f6d",
       "version_major": 2,
       "version_minor": 0
      },
      "text/plain": [
       "config.json:   0%|          | 0.00/347 [00:00<?, ?B/s]"
      ]
     },
     "metadata": {},
     "output_type": "display_data"
    },
    {
     "data": {
      "application/vnd.jupyter.widget-view+json": {
       "model_id": "59bc6a12120443a48ab97ec99db03047",
       "version_major": 2,
       "version_minor": 0
      },
      "text/plain": [
       "model.safetensors:   0%|          | 0.00/813M [00:00<?, ?B/s]"
      ]
     },
     "metadata": {},
     "output_type": "display_data"
    },
    {
     "data": {
      "application/vnd.jupyter.widget-view+json": {
       "model_id": "49a8135630b346e6a55dfdfb88de81ca",
       "version_major": 2,
       "version_minor": 0
      },
      "text/plain": [
       "preprocessor_config.json:   0%|          | 0.00/394 [00:00<?, ?B/s]"
      ]
     },
     "metadata": {},
     "output_type": "display_data"
    },
    {
     "data": {
      "application/vnd.jupyter.widget-view+json": {
       "model_id": "68a11a6eff37451f84c28c5dde61841e",
       "version_major": 2,
       "version_minor": 0
      },
      "text/plain": [
       "tokenizer_config.json:   0%|          | 0.00/711 [00:00<?, ?B/s]"
      ]
     },
     "metadata": {},
     "output_type": "display_data"
    },
    {
     "data": {
      "application/vnd.jupyter.widget-view+json": {
       "model_id": "22c7d28116ea45c8b36414cecb337dce",
       "version_major": 2,
       "version_minor": 0
      },
      "text/plain": [
       "spiece.model:   0%|          | 0.00/798k [00:00<?, ?B/s]"
      ]
     },
     "metadata": {},
     "output_type": "display_data"
    },
    {
     "data": {
      "application/vnd.jupyter.widget-view+json": {
       "model_id": "7d77ffd166b4410a9678b5ac5b06de8d",
       "version_major": 2,
       "version_minor": 0
      },
      "text/plain": [
       "special_tokens_map.json:   0%|          | 0.00/409 [00:00<?, ?B/s]"
      ]
     },
     "metadata": {},
     "output_type": "display_data"
    }
   ],
   "source": [
    "# select model to use for embedding both text and images\n",
    "checkpoint = 'Kaspar/siglip-heritage-weaver-text-best' #'google/siglip-base-patch16-224' #'Kaspar/siglip-heritage-weaver-text' #'google/siglip-base-patch16-224'  'Kaspar/siglip-heritage-weaver-name'\n",
    "# initialise the embedder which we will attach to the database\n",
    "siglip_embedder = SigLIPEmbedder(checkpoint)\n",
    "# initate the image loader\n",
    "data_loader = ImageLoaderRGB()\n",
    "# initiate the client\n",
    "client = chromadb.PersistentClient(path=\"hw-16-08\")"
   ]
  },
  {
   "cell_type": "code",
   "execution_count": 9,
   "id": "ecc64c1f",
   "metadata": {},
   "outputs": [
    {
     "name": "stdout",
     "output_type": "stream",
     "text": [
      "Collection heritage-weaver-ft-best does not exist.\n"
     ]
    }
   ],
   "source": [
    "collection_name = 'heritage-weaver-ft-best'\n",
    "try:\n",
    "    client.delete_collection(name=collection_name)\n",
    "except Exception as e:\n",
    "    print(e)"
   ]
  },
  {
   "cell_type": "code",
   "execution_count": 10,
   "id": "2b993c31",
   "metadata": {},
   "outputs": [],
   "source": [
    "# initiate the collection in the database\n",
    "collection_db = client.get_or_create_collection(\n",
    "                                            name=collection_name, \n",
    "                                            metadata={\"hnsw:space\": \"cosine\"}, # we will use cosine distance for similarity search\n",
    "                                            embedding_function=siglip_embedder, # the embedder for the collection (text and images)\n",
    "                                            data_loader=data_loader # procedure for loading the image data\n",
    "                                            )"
   ]
  },
  {
   "cell_type": "code",
   "execution_count": 11,
   "id": "121e7a7c",
   "metadata": {},
   "outputs": [
    {
     "data": {
      "text/plain": [
       "0"
      ]
     },
     "execution_count": 11,
     "metadata": {},
     "output_type": "execute_result"
    }
   ],
   "source": [
    "collection_db.count()"
   ]
  },
  {
   "cell_type": "code",
   "execution_count": 12,
   "id": "fbe9bd30",
   "metadata": {},
   "outputs": [
    {
     "name": "stdout",
     "output_type": "stream",
     "text": [
      "indexing images...\n"
     ]
    },
    {
     "data": {
      "application/vnd.jupyter.widget-view+json": {
       "model_id": "3c596abc94e14782a726da7f9ff6df28",
       "version_major": 2,
       "version_minor": 0
      },
      "text/plain": [
       "  0%|          | 0/973 [00:00<?, ?it/s]"
      ]
     },
     "metadata": {},
     "output_type": "display_data"
    },
    {
     "name": "stdout",
     "output_type": "stream",
     "text": [
      "indexing text...\n"
     ]
    },
    {
     "data": {
      "application/vnd.jupyter.widget-view+json": {
       "model_id": "101749a136fc4392822fc4290be46914",
       "version_major": 2,
       "version_minor": 0
      },
      "text/plain": [
       "  0%|          | 0/663 [00:00<?, ?it/s]"
      ]
     },
     "metadata": {},
     "output_type": "display_data"
    }
   ],
   "source": [
    "index_data(collection_db, collection_df, batch_size=32)"
   ]
  },
  {
   "cell_type": "code",
   "execution_count": 38,
   "id": "551fb7dd",
   "metadata": {},
   "outputs": [
    {
     "data": {
      "text/plain": [
       "107222"
      ]
     },
     "execution_count": 38,
     "metadata": {},
     "output_type": "execute_result"
    }
   ],
   "source": [
    "collection_db.count()"
   ]
  },
  {
   "cell_type": "code",
   "execution_count": null,
   "id": "c821fdac",
   "metadata": {},
   "outputs": [],
   "source": [
    "# 107222"
   ]
  },
  {
   "cell_type": "code",
   "execution_count": null,
   "id": "2886f837",
   "metadata": {},
   "outputs": [],
   "source": [
    "\n",
    "idx = 323\n",
    "query_img = smg.df[smg.df.downloaded==True].img_path.iloc[idx]\n",
    "print(smg.df[smg.df.downloaded==True].description.iloc[idx])\n",
    "Image.open(query_img)"
   ]
  },
  {
   "cell_type": "code",
   "execution_count": null,
   "id": "839a2226",
   "metadata": {},
   "outputs": [],
   "source": [
    "filters = {\n",
    "    \"$and\": [\n",
    "        {\n",
    "            \"modality\": {\n",
    "                \"$eq\": \"image\"\n",
    "            }\n",
    "        },\n",
    "        {\n",
    "            \"collection\": {\n",
    "                \"$eq\" : \"smg\"\n",
    "            }\n",
    "        }\n",
    "    ]\n",
    "}\n",
    "\n",
    "results = collection_db.query(query_uris=[query_img],where=filters, n_results=25)\n",
    "query_df = plot_query_results(results, source='img_path')"
   ]
  },
  {
   "cell_type": "code",
   "execution_count": null,
   "id": "98e4b733",
   "metadata": {},
   "outputs": [],
   "source": [
    "filters = {\n",
    "    \"$and\": [\n",
    "        {\n",
    "            \"modality\": {\n",
    "                \"$eq\": \"text\"\n",
    "            }\n",
    "        },\n",
    "        {\n",
    "            \"collection\": {\n",
    "                \"$eq\" : \"smg\"\n",
    "            }\n",
    "        }\n",
    "    ]\n",
    "}\n",
    "\n",
    "\n",
    "results = collection_db.query(\n",
    "                query_texts=[\n",
    "                        \"\"\"BTH valve, type A.T.26, serial No. 575, (RMW/J89 - McVitie Weston number), by British Thomson-Houston Company Limited.\"\"\"\n",
    "                    ],\n",
    "                where=filters,n_results=100\n",
    "        )\n",
    "query_df = plot_query_results(results, source='img_path')"
   ]
  },
  {
   "cell_type": "code",
   "execution_count": null,
   "id": "68155d8b",
   "metadata": {},
   "outputs": [],
   "source": [
    "query_df.description.values[:10]"
   ]
  },
  {
   "cell_type": "code",
   "execution_count": null,
   "id": "0f85a86f",
   "metadata": {},
   "outputs": [],
   "source": [
    "filters = {\n",
    "    \"$and\": [\n",
    "        {\n",
    "            \"modality\": {\n",
    "                \"$eq\": \"image\"\n",
    "            }\n",
    "        },\n",
    "        {\n",
    "            \"collection\": {\n",
    "                \"$eq\" : \"smg\"\n",
    "            }\n",
    "        }\n",
    "    ]\n",
    "}\n",
    "results = collection_db.query(query_texts=[\"television\"],\n",
    "                             where=filters,#{\"modality\": \"text\"},\n",
    "                             n_results=10)\n",
    "\n",
    "query_df = plot_query_results(results, collection_df)"
   ]
  },
  {
   "cell_type": "code",
   "execution_count": null,
   "id": "28b07467",
   "metadata": {},
   "outputs": [],
   "source": [
    "query_df.description.values[:10]"
   ]
  },
  {
   "cell_type": "code",
   "execution_count": null,
   "id": "141a85ab",
   "metadata": {},
   "outputs": [],
   "source": [
    "\n",
    "results = collection_db.query(query_texts=[\"red telephone\"],\n",
    "                             where={\"modality\": \"image\"},\n",
    "                             n_results=10)\n",
    "\n",
    "query_df = plot_query_results(results, collection_df)"
   ]
  },
  {
   "cell_type": "markdown",
   "id": "8413d217",
   "metadata": {},
   "source": [
    "## Fin."
   ]
  }
 ],
 "metadata": {
  "kernelspec": {
   "display_name": "heritageweaverv",
   "language": "python",
   "name": "heritageweaverv"
  },
  "language_info": {
   "codemirror_mode": {
    "name": "ipython",
    "version": 3
   },
   "file_extension": ".py",
   "mimetype": "text/x-python",
   "name": "python",
   "nbconvert_exporter": "python",
   "pygments_lexer": "ipython3",
   "version": "3.9.18"
  }
 },
 "nbformat": 4,
 "nbformat_minor": 5
}
