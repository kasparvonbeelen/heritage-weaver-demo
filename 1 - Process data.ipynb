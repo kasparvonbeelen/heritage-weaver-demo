{
 "cells": [
  {
   "cell_type": "markdown",
   "id": "1062ad1f",
   "metadata": {},
   "source": [
    "# Ingest and process data\n",
    "\n",
    "This notebook loads the data that was stored on Box, and converts it to dataframe and dataset with a common format across all collections.\n",
    "\n",
    "It provides functionality for downlaoding images."
   ]
  },
  {
   "cell_type": "code",
   "execution_count": 12,
   "id": "d0846e53",
   "metadata": {},
   "outputs": [],
   "source": [
    "%load_ext autoreload\n",
    "%autoreload 2"
   ]
  },
  {
   "cell_type": "code",
   "execution_count": 13,
   "id": "4390a967",
   "metadata": {},
   "outputs": [],
   "source": [
    "from tools.weaving_tools import NMSCollection, SMGCollection, BTCollection\n",
    "from pathlib import Path"
   ]
  },
  {
   "cell_type": "code",
   "execution_count": null,
   "id": "dd5bdcdd",
   "metadata": {},
   "outputs": [],
   "source": [
    "nms = NMSCollection(device='mps',img_folder='nms_imgs')\n",
    "nms.load_original_csvs(files=list(Path('data').glob('NMS_*.*')))\n",
    "nms.save_csv('data/NMS.csv')"
   ]
  },
  {
   "cell_type": "code",
   "execution_count": null,
   "id": "123d6039",
   "metadata": {},
   "outputs": [],
   "source": [
    "smg = SMGCollection(device='mps', img_folder='smg_imgs')\n",
    "smg.load_from_json('data/smg_objects_06_06_2022.json')\n",
    "smg.save_csv('data/SMG.csv')"
   ]
  },
  {
   "cell_type": "code",
   "execution_count": null,
   "id": "47850e7b",
   "metadata": {},
   "outputs": [],
   "source": [
    "bt = BTCollection(device='mps', img_folder='bt_imgs')\n",
    "bt.load_from_xml('data/bt_catalogue.xml')\n",
    "bt.save_csv('data/BT.csv')"
   ]
  },
  {
   "cell_type": "markdown",
   "id": "8583207e",
   "metadata": {},
   "source": [
    "# Download images"
   ]
  },
  {
   "cell_type": "code",
   "execution_count": null,
   "id": "6662cac6",
   "metadata": {},
   "outputs": [],
   "source": [
    "collection = SMGCollection(img_folder=Path('smg_imgs'))\n",
    "collection.load_from_csv('data/SMG.csv')\n",
    "collection.fetch_images(n=5)\n",
    "#collection.save_csv('data/SMG.csv')"
   ]
  },
  {
   "cell_type": "code",
   "execution_count": null,
   "id": "ce570b6e",
   "metadata": {},
   "outputs": [],
   "source": [
    "collection = BTCollection(img_folder=Path('bt_imgs'))\n",
    "collection.load_from_csv('data/BT.csv')\n",
    "collection.fetch_images(n=5)\n"
   ]
  },
  {
   "cell_type": "code",
   "execution_count": null,
   "id": "7e7dee09",
   "metadata": {},
   "outputs": [],
   "source": [
    "collection = NMSCollection(img_folder=Path('nms_imgs'))\n",
    "collection.load_from_csv('data/NMS.csv')\n",
    "collection.fetch_images(n=5)\n"
   ]
  },
  {
   "cell_type": "markdown",
   "id": "f0799d64",
   "metadata": {},
   "source": [
    "# Create vector database\n",
    "\n",
    "## Vectorize image and text in each collection"
   ]
  },
  {
   "cell_type": "code",
   "execution_count": 14,
   "id": "18683950",
   "metadata": {},
   "outputs": [],
   "source": [
    "clip_ckpt = 'clip-ViT-B-32'#'openai/clip-vit-base-patch32'"
   ]
  },
  {
   "cell_type": "code",
   "execution_count": 16,
   "id": "551e1bab",
   "metadata": {},
   "outputs": [
    {
     "name": "stdout",
     "output_type": "stream",
     "text": [
      "Vectorizing image\n"
     ]
    },
    {
     "data": {
      "application/vnd.jupyter.widget-view+json": {
       "model_id": "6ef74abde70e450ab8221f04497a1980",
       "version_major": 2,
       "version_minor": 0
      },
      "text/plain": [
       "  0%|          | 0/4794 [00:00<?, ?ex/s]"
      ]
     },
     "metadata": {},
     "output_type": "display_data"
    },
    {
     "data": {
      "application/vnd.jupyter.widget-view+json": {
       "model_id": "d08c7a007321443c99b8f52137131bdc",
       "version_major": 2,
       "version_minor": 0
      },
      "text/plain": [
       "  0%|          | 0/4794 [00:00<?, ?ex/s]"
      ]
     },
     "metadata": {},
     "output_type": "display_data"
    }
   ],
   "source": [
    "nms = NMSCollection(device='mps',img_folder='nms_imgs')\n",
    "nms.load_from_csv('data/NMS.csv')\n",
    "nms.vectorize_collection(clip_ckpt, modalities= [('img_path','image')])"
   ]
  },
  {
   "cell_type": "code",
   "execution_count": 18,
   "id": "f9b9557a",
   "metadata": {},
   "outputs": [
    {
     "name": "stdout",
     "output_type": "stream",
     "text": [
      "Vectorizing image\n"
     ]
    },
    {
     "data": {
      "application/vnd.jupyter.widget-view+json": {
       "model_id": "97ee07acefb242ed87e4e4b9a07930be",
       "version_major": 2,
       "version_minor": 0
      },
      "text/plain": [
       "  0%|          | 0/2284 [00:00<?, ?ex/s]"
      ]
     },
     "metadata": {},
     "output_type": "display_data"
    },
    {
     "data": {
      "application/vnd.jupyter.widget-view+json": {
       "model_id": "9e6a4d490f6147a7b003b561744bd3ef",
       "version_major": 2,
       "version_minor": 0
      },
      "text/plain": [
       "  0%|          | 0/2284 [00:00<?, ?ex/s]"
      ]
     },
     "metadata": {},
     "output_type": "display_data"
    }
   ],
   "source": [
    "smg = SMGCollection(device='mps',img_folder='smg_imgs')\n",
    "smg.load_from_csv('data/SMG.csv')\n",
    "# temp to for testing purposes remove later\n",
    "smg.df = smg.df.sample(frac=0.05).reset_index()\n",
    "smg.vectorize_collection(clip_ckpt, modalities= [('img_path','image')])"
   ]
  },
  {
   "cell_type": "code",
   "execution_count": 20,
   "id": "1ad6eb92",
   "metadata": {},
   "outputs": [
    {
     "name": "stdout",
     "output_type": "stream",
     "text": [
      "Vectorizing image\n"
     ]
    },
    {
     "data": {
      "application/vnd.jupyter.widget-view+json": {
       "model_id": "21852346da1443f8a738bd77860df06b",
       "version_major": 2,
       "version_minor": 0
      },
      "text/plain": [
       "  0%|          | 0/1106 [00:00<?, ?ex/s]"
      ]
     },
     "metadata": {},
     "output_type": "display_data"
    },
    {
     "data": {
      "application/vnd.jupyter.widget-view+json": {
       "model_id": "19d75890ab3e4f189c00c37a86f6d51e",
       "version_major": 2,
       "version_minor": 0
      },
      "text/plain": [
       "  0%|          | 0/1106 [00:00<?, ?ex/s]"
      ]
     },
     "metadata": {},
     "output_type": "display_data"
    }
   ],
   "source": [
    "bt = BTCollection(device='mps', img_folder='bt_imgs')\n",
    "bt.load_from_csv('data/BT.csv')\n",
    "bt.vectorize_collection(clip_ckpt, modalities= [('img_path','image')])"
   ]
  },
  {
   "cell_type": "code",
   "execution_count": 23,
   "id": "2a2f2b6d",
   "metadata": {},
   "outputs": [
    {
     "name": "stdout",
     "output_type": "stream",
     "text": [
      "(5877, 9)\n",
      "Vectorizing image\n"
     ]
    },
    {
     "data": {
      "application/vnd.jupyter.widget-view+json": {
       "model_id": "dd07734d0d3149b19bc37a34617a001f",
       "version_major": 2,
       "version_minor": 0
      },
      "text/plain": [
       "  0%|          | 0/3679 [00:00<?, ?ex/s]"
      ]
     },
     "metadata": {},
     "output_type": "display_data"
    },
    {
     "data": {
      "application/vnd.jupyter.widget-view+json": {
       "model_id": "205641b6467b4c1cb0dd090d48da9d4b",
       "version_major": 2,
       "version_minor": 0
      },
      "text/plain": [
       "  0%|          | 0/3679 [00:00<?, ?ex/s]"
      ]
     },
     "metadata": {},
     "output_type": "display_data"
    }
   ],
   "source": [
    "va = VACollection(device='mps', img_folder='va_imgs')\n",
    "va.load_from_csv('data/VA.csv')\n",
    "# temp to for testing purposes remove later\n",
    "va.df = va.df.sample(frac=0.3).reset_index()\n",
    "va.vectorize_collection(clip_ckpt, modalities= [('img_path','image')])"
   ]
  },
  {
   "cell_type": "markdown",
   "id": "9d043383",
   "metadata": {},
   "source": [
    "## add URLs"
   ]
  },
  {
   "cell_type": "code",
   "execution_count": 24,
   "id": "012cfca4",
   "metadata": {},
   "outputs": [],
   "source": [
    "base_url = 'https://framemark.vam.ac.uk/collections/'\n",
    "postfix = '/full/600,/0/default.jpg'\n",
    "va.df['img_url'] = va.df.apply(lambda x: f'{base_url}{x.img_loc}{postfix}', axis=1)"
   ]
  },
  {
   "cell_type": "code",
   "execution_count": 26,
   "id": "5b269280",
   "metadata": {},
   "outputs": [
    {
     "data": {
      "text/plain": [
       "'https://framemark.vam.ac.uk/collections/2021MY1152/full/600,/0/default.jpg'"
      ]
     },
     "execution_count": 26,
     "metadata": {},
     "output_type": "execute_result"
    }
   ],
   "source": [
    "va.df['img_url'].iloc[0] "
   ]
  },
  {
   "cell_type": "code",
   "execution_count": 27,
   "id": "abe564e8",
   "metadata": {},
   "outputs": [],
   "source": [
    "smg.df['base_url'] = 'https://coimages.sciencemuseumgroup.org.uk/images/'\n",
    "smg.df['img_url'] = smg.df.apply(lambda x: f'{x.base_url}{x.img_loc}', axis=1)"
   ]
  },
  {
   "cell_type": "code",
   "execution_count": 29,
   "id": "a9085034",
   "metadata": {},
   "outputs": [
    {
     "data": {
      "text/plain": [
       "'https://coimages.sciencemuseumgroup.org.uk/images/395/653/medium_SMG00158262.jpg'"
      ]
     },
     "execution_count": 29,
     "metadata": {},
     "output_type": "execute_result"
    }
   ],
   "source": [
    "smg.df['img_url'].iloc[0] "
   ]
  },
  {
   "cell_type": "code",
   "execution_count": 32,
   "id": "18a97095",
   "metadata": {},
   "outputs": [],
   "source": [
    "nms.df['base_url'] = 'https://www.nms.ac.uk/search.axd?command=getcontent&server=Detail&value='\n",
    "nms.df['img_url'] = nms.df.apply(lambda x: f'{x.base_url}{x.img_loc}'.strip(), axis=1)"
   ]
  },
  {
   "cell_type": "code",
   "execution_count": 33,
   "id": "9b5c8ef7",
   "metadata": {},
   "outputs": [
    {
     "data": {
      "text/plain": [
       "'https://www.nms.ac.uk/search.axd?command=getcontent&server=Detail&value=PF1047791'"
      ]
     },
     "execution_count": 33,
     "metadata": {},
     "output_type": "execute_result"
    }
   ],
   "source": [
    "nms.df['img_url'].iloc[0] "
   ]
  },
  {
   "cell_type": "code",
   "execution_count": 34,
   "id": "69dd6480",
   "metadata": {},
   "outputs": [],
   "source": [
    "bt.df['base_url'] = 'http://www.digitalarchives.bt.com/CalmView/GetImage.ashx?db=Catalog&type=default&fname='\n",
    "bt.df['img_url'] = bt.df.apply(lambda x: f'{x.base_url}{x.img_loc}', axis=1)"
   ]
  },
  {
   "cell_type": "code",
   "execution_count": 36,
   "id": "137e02d3",
   "metadata": {},
   "outputs": [
    {
     "data": {
      "text/plain": [
       "'http://www.digitalarchives.bt.com/CalmView/GetImage.ashx?db=Catalog&type=default&fname=TCB_473_P07760.jpg'"
      ]
     },
     "execution_count": 36,
     "metadata": {},
     "output_type": "execute_result"
    }
   ],
   "source": [
    "bt.df['img_url'].iloc[0] "
   ]
  },
  {
   "cell_type": "markdown",
   "id": "18fe3566",
   "metadata": {},
   "source": [
    "# Create Vector Database"
   ]
  },
  {
   "cell_type": "code",
   "execution_count": 37,
   "id": "cb0dd745",
   "metadata": {},
   "outputs": [],
   "source": [
    "import chromadb"
   ]
  },
  {
   "cell_type": "code",
   "execution_count": 38,
   "id": "c326d742",
   "metadata": {},
   "outputs": [],
   "source": [
    "client = chromadb.PersistentClient(path=\"ce_vector_db\")"
   ]
  },
  {
   "cell_type": "code",
   "execution_count": 49,
   "id": "ecc64c1f",
   "metadata": {},
   "outputs": [
    {
     "name": "stdout",
     "output_type": "stream",
     "text": [
      "Collection congruence_engine does not exist.\n"
     ]
    }
   ],
   "source": [
    "try:\n",
    "    client.delete_collection(name=\"congruence_engine\")\n",
    "except Exception as e:\n",
    "    print(e)\n",
    "    "
   ]
  },
  {
   "cell_type": "code",
   "execution_count": 50,
   "id": "2b993c31",
   "metadata": {},
   "outputs": [],
   "source": [
    "collection = client.get_or_create_collection(name=\"congruence_engine\", metadata={\"hnsw:space\": \"cosine\"} )"
   ]
  },
  {
   "cell_type": "code",
   "execution_count": 51,
   "id": "07d73e83",
   "metadata": {},
   "outputs": [],
   "source": [
    "for coll in [nms,bt,smg,va]:\n",
    "    for mod in ['image']:\n",
    "        coll.add_embeddings_to_database(collection,mod)"
   ]
  },
  {
   "cell_type": "code",
   "execution_count": 52,
   "id": "cee2a959",
   "metadata": {},
   "outputs": [
    {
     "data": {
      "text/plain": [
       "11863"
      ]
     },
     "execution_count": 52,
     "metadata": {},
     "output_type": "execute_result"
    }
   ],
   "source": [
    "collection.count()"
   ]
  },
  {
   "cell_type": "markdown",
   "id": "8413d217",
   "metadata": {},
   "source": [
    "## Fin."
   ]
  },
  {
   "cell_type": "code",
   "execution_count": null,
   "id": "3f4136ed",
   "metadata": {},
   "outputs": [],
   "source": []
  },
  {
   "cell_type": "code",
   "execution_count": null,
   "id": "46903889",
   "metadata": {},
   "outputs": [],
   "source": []
  },
  {
   "cell_type": "code",
   "execution_count": null,
   "id": "dcf0a4a0",
   "metadata": {},
   "outputs": [],
   "source": []
  },
  {
   "cell_type": "code",
   "execution_count": null,
   "id": "6c98143f",
   "metadata": {},
   "outputs": [],
   "source": []
  }
 ],
 "metadata": {
  "kernelspec": {
   "display_name": "ner-al",
   "language": "python",
   "name": "ner-al"
  },
  "language_info": {
   "codemirror_mode": {
    "name": "ipython",
    "version": 3
   },
   "file_extension": ".py",
   "mimetype": "text/x-python",
   "name": "python",
   "nbconvert_exporter": "python",
   "pygments_lexer": "ipython3",
   "version": "3.9.16"
  }
 },
 "nbformat": 4,
 "nbformat_minor": 5
}
