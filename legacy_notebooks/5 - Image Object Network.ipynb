{
 "cells": [
  {
   "cell_type": "markdown",
   "id": "1062ad1f",
   "metadata": {},
   "source": [
    "# Creating a Network of Images"
   ]
  },
  {
   "cell_type": "markdown",
   "id": "35be7dbb",
   "metadata": {},
   "source": [
    "## Load database"
   ]
  },
  {
   "cell_type": "code",
   "execution_count": 268,
   "id": "d0846e53",
   "metadata": {},
   "outputs": [
    {
     "name": "stdout",
     "output_type": "stream",
     "text": [
      "The autoreload extension is already loaded. To reload it, use:\n",
      "  %reload_ext autoreload\n"
     ]
    }
   ],
   "source": [
    "%load_ext autoreload\n",
    "%autoreload 2"
   ]
  },
  {
   "cell_type": "code",
   "execution_count": 269,
   "id": "de4b1901",
   "metadata": {},
   "outputs": [],
   "source": [
    "import chromadb\n",
    "from tqdm.notebook import tqdm\n",
    "from pyvis.network import Network\n",
    "from random import shuffle"
   ]
  },
  {
   "cell_type": "code",
   "execution_count": 270,
   "id": "ac917a1f",
   "metadata": {},
   "outputs": [],
   "source": [
    "client = chromadb.PersistentClient(path=\"ce_vector_db\")\n",
    "db = client.get_or_create_collection(name=\"congruence_engine\")"
   ]
  },
  {
   "cell_type": "code",
   "execution_count": 271,
   "id": "79f335e2",
   "metadata": {},
   "outputs": [
    {
     "data": {
      "text/plain": [
       "11863"
      ]
     },
     "execution_count": 271,
     "metadata": {},
     "output_type": "execute_result"
    }
   ],
   "source": [
    "db.count()"
   ]
  },
  {
   "cell_type": "code",
   "execution_count": 272,
   "id": "1bf51ddf",
   "metadata": {},
   "outputs": [],
   "source": [
    "from itertools import combinations"
   ]
  },
  {
   "cell_type": "code",
   "execution_count": 311,
   "id": "897c7719",
   "metadata": {},
   "outputs": [],
   "source": [
    "data = db.get()\n",
    "ids = data['ids']\n",
    "shuffle(ids)\n",
    "ids = ids[:5000]\n",
    "#dbid2netid = {idx: i for i, idx in enumerate(ids)}"
   ]
  },
  {
   "cell_type": "code",
   "execution_count": 312,
   "id": "238fa09d",
   "metadata": {},
   "outputs": [],
   "source": [
    "threshold = .1"
   ]
  },
  {
   "cell_type": "code",
   "execution_count": 313,
   "id": "eb31551c",
   "metadata": {},
   "outputs": [
    {
     "data": {
      "text/plain": [
       "(5000, 6120)"
      ]
     },
     "execution_count": 313,
     "metadata": {},
     "output_type": "execute_result"
    }
   ],
   "source": [
    "dbid2netid = {e: i+1 for i,e in enumerate(ids)}\n",
    "\n",
    "net = Network(height=\"750px\", \n",
    "              width=\"100%\", \n",
    "              bgcolor=\"#222222\", \n",
    "              font_color=\"white\", \n",
    "              cdn_resources='remote', \n",
    "              #filter_menu=True, \n",
    "              #select_menu=True,\n",
    "              notebook=True)\n",
    "\n",
    "for idx in ids:\n",
    "    el = db.get(ids=[idx], include=['embeddings','metadatas','documents'])\n",
    "\n",
    "    net.add_node(dbid2netid[idx], shape='image', \n",
    "                     label=el['ids'][0], \n",
    "                     image = el['metadatas'][0]['img_url'],\n",
    "                     title = el['documents'][0])\n",
    "    \n",
    "for idx in ids: \n",
    "    el = db.get(ids=[idx], include=['embeddings','metadatas','documents'])\n",
    "    nn = db.query(\n",
    "    query_embeddings = el['embeddings'],\n",
    "             n_results=100\n",
    "             )\n",
    "\n",
    "    for i,neighbour in enumerate(nn['ids'][0]):\n",
    "        if idx == neighbour: continue\n",
    "        if nn['distances'][0][i] < threshold:\n",
    "            if idx in dbid2netid and neighbour in dbid2netid:\n",
    "                net.add_edge(dbid2netid[idx], \n",
    "                             dbid2netid[neighbour], \n",
    "                             weight=nn['distances'][0][i])\n",
    "\n",
    "len(net.nodes),len(net.edges)"
   ]
  },
  {
   "cell_type": "code",
   "execution_count": 315,
   "id": "e3c9a03c",
   "metadata": {},
   "outputs": [],
   "source": [
    "#net.show(\"object_network.html\",) # show_buttons(filter_=['physics'])"
   ]
  },
  {
   "cell_type": "markdown",
   "id": "7ae706bd",
   "metadata": {},
   "source": [
    "# Fin."
   ]
  }
 ],
 "metadata": {
  "kernelspec": {
   "display_name": "ner-al",
   "language": "python",
   "name": "ner-al"
  },
  "language_info": {
   "codemirror_mode": {
    "name": "ipython",
    "version": 3
   },
   "file_extension": ".py",
   "mimetype": "text/x-python",
   "name": "python",
   "nbconvert_exporter": "python",
   "pygments_lexer": "ipython3",
   "version": "3.9.18"
  }
 },
 "nbformat": 4,
 "nbformat_minor": 5
}
