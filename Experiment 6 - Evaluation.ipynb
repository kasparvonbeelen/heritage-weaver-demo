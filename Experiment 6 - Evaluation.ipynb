{
 "cells": [
  {
   "cell_type": "markdown",
   "metadata": {},
   "source": [
    "# Evaluation - Prepare Annotations\n",
    "\n",
    "This notebook selects data to evaluate the use of HW for linking. It is mainly used for selecting image pairs for annotation.\n",
    "\n",
    "We aim to evaluate\n",
    "- multimodality (linking by image, text or both)\n",
    "- model fine-tuning (fine-tuned models vs original siglip)\n",
    "\n",
    "We ask people to annotate n image pairs\n",
    "- for each multimodal search strategy we select records pairs using the following criteria:\n",
    "    - Linked by all models\n",
    "    - Linked only by the fine-tuned models\n",
    "    - Linked only by siglip\n",
    "    - Not linked\n",
    "\t\n"
   ]
  },
  {
   "cell_type": "code",
   "execution_count": 1,
   "metadata": {},
   "outputs": [],
   "source": [
    "%load_ext autoreload\n",
    "%autoreload 2"
   ]
  },
  {
   "cell_type": "code",
   "execution_count": 2,
   "metadata": {},
   "outputs": [],
   "source": [
    "import time\n",
    "from pathlib import Path\n",
    "import pandas as pd\n",
    "from PIL import Image\n",
    "from weavingtools.annotation_tools import *\n",
    "from weavingtools.annotation_tools import plot_by_record, open_image\n",
    "from weavingtools.linkage_tools import *\n",
    "from weavingtools.embedding_tools import *\n",
    "import scipy.spatial as sp\n",
    "import ipyannotations.generic\n",
    "import matplotlib.pyplot as plt\n",
    "import seaborn as sns\n",
    "import numpy as np\n",
    "import random\n",
    "sns.set()"
   ]
  },
  {
   "cell_type": "code",
   "execution_count": 3,
   "metadata": {},
   "outputs": [],
   "source": [
    "collection_db = load_db(\"hw-16-08\",'heritage-weaver-base','google/siglip-base-patch16-224')\n",
    "collection_db_ft = load_db(\"hw-16-08\",'heritage-weaver-ft','Kaspar/siglip-heritage-weaver-text-last')\n",
    "collection_db_ft_best = load_db(\"hw-16-08\",'heritage-weaver-ft-best','Kaspar/siglip-heritage-weaver-text-best')\n",
    "collection_df = pd.read_csv('data/heritage_weaver_data.csv')\n"
   ]
  },
  {
   "cell_type": "code",
   "execution_count": 4,
   "metadata": {},
   "outputs": [
    {
     "data": {
      "text/plain": [
       "(107222, 107222, 107222)"
      ]
     },
     "execution_count": 4,
     "metadata": {},
     "output_type": "execute_result"
    }
   ],
   "source": [
    "collection_db.count(),collection_db_ft.count(),collection_db_ft_best.count()"
   ]
  },
  {
   "cell_type": "markdown",
   "metadata": {},
   "source": [
    "# Create image pairs"
   ]
  },
  {
   "cell_type": "code",
   "execution_count": 5,
   "metadata": {},
   "outputs": [],
   "source": [
    "#annotator = 'NK'\n",
    "coll1, coll2 = 'smg','nms'\n",
    "percentile = 99.0 \n",
    "#randomize = True\n"
   ]
  },
  {
   "cell_type": "code",
   "execution_count": 6,
   "metadata": {},
   "outputs": [
    {
     "name": "stdout",
     "output_type": "stream",
     "text": [
      "Get inputs...\n",
      "Compute similarities...\n",
      "--- Get similarities ---\n",
      "--- Using 0.7563818202361199 as threshold ---\n",
      "--- Aggregate similarities by record ---\n",
      "--- Threshold similarities and binarize ---\n",
      "Retrieve edges...\n",
      "Get inputs...\n",
      "Compute similarities...\n",
      "--- Get similarities ---\n",
      "--- Using 0.7661070561655263 as threshold ---\n",
      "--- Aggregate similarities by record ---\n",
      "--- Threshold similarities and binarize ---\n",
      "Retrieve edges...\n",
      "Get inputs...\n",
      "Compute similarities...\n",
      "--- Get similarities ---\n",
      "--- Using 0.8216554902540544 as threshold ---\n",
      "--- Aggregate similarities by record ---\n",
      "--- Threshold similarities and binarize ---\n",
      "Retrieve edges...\n"
     ]
    }
   ],
   "source": [
    "edges_img_sigl, _, _ = get_edges(collection_db,coll1,coll2, 'image','image', 'max',percentile )\n",
    "edges_img_sigl_ft, _, _ = get_edges(collection_db_ft,coll1,coll2, 'image','image', 'max',percentile )\n",
    "edges_img_sigl_ft_best, _, _ = get_edges(collection_db_ft_best,coll1,coll2, 'image','image', 'max',percentile )"
   ]
  },
  {
   "cell_type": "code",
   "execution_count": 7,
   "metadata": {},
   "outputs": [],
   "source": [
    "# agreement between the three methods\n",
    "img_common_links = set(edges_img_sigl).intersection(edges_img_sigl_ft,edges_img_sigl_ft_best)\n",
    "# only in siglip not an edge returned by fine-tuned models\n",
    "img_only_siglip = set(edges_img_sigl).difference(edges_img_sigl_ft,edges_img_sigl_ft_best)\n",
    "# agreement among fine-tuned models but not by siglip\n",
    "img_agreement_only_ft = set(edges_img_sigl_ft).intersection(edges_img_sigl_ft_best).difference(edges_img_sigl)\n",
    "# only siglip ft \n",
    "only_siglip_ft = set(edges_img_sigl_ft).difference(edges_img_sigl_ft_best,edges_img_sigl)\n",
    "# only siglip ft best\n",
    "img_only_siglip_ft_best = set(edges_img_sigl_ft_best).difference(edges_img_sigl_ft,edges_img_sigl)"
   ]
  },
  {
   "cell_type": "code",
   "execution_count": 8,
   "metadata": {},
   "outputs": [
    {
     "name": "stdout",
     "output_type": "stream",
     "text": [
      "Get inputs...\n",
      "Compute similarities...\n",
      "--- Get similarities ---\n",
      "--- Using 0.7896803665751463 as threshold ---\n",
      "--- Aggregate similarities by record ---\n",
      "--- Threshold similarities and binarize ---\n",
      "Retrieve edges...\n",
      "Get inputs...\n",
      "Compute similarities...\n",
      "--- Get similarities ---\n",
      "--- Using 0.8599656041694197 as threshold ---\n",
      "--- Aggregate similarities by record ---\n",
      "--- Threshold similarities and binarize ---\n",
      "Retrieve edges...\n",
      "Get inputs...\n",
      "Compute similarities...\n",
      "--- Get similarities ---\n",
      "--- Using 0.8868009537004167 as threshold ---\n",
      "--- Aggregate similarities by record ---\n",
      "--- Threshold similarities and binarize ---\n",
      "Retrieve edges...\n"
     ]
    }
   ],
   "source": [
    "edges_txt_sigl, _, _ = get_edges(collection_db,coll1,coll2, 'text','text', 'mean',percentile )\n",
    "edges_txt_sigl_ft, _, _ = get_edges(collection_db_ft,coll1,coll2, 'text','text', 'mean',percentile )\n",
    "edges_txt_sigl_ft_best, _, _ = get_edges(collection_db_ft_best,coll1,coll2, 'text','text', 'mean',percentile )"
   ]
  },
  {
   "cell_type": "code",
   "execution_count": 9,
   "metadata": {},
   "outputs": [],
   "source": [
    "# agreement between the three methods\n",
    "txt_common_links = set(edges_txt_sigl).intersection(edges_txt_sigl_ft,edges_txt_sigl_ft_best)\n",
    "# only in siglip not an edge returned by fine-tuned models\n",
    "txt_only_siglip = set(edges_txt_sigl).difference(edges_txt_sigl_ft,edges_txt_sigl_ft_best)\n",
    "# agreement among fine-tuned models but not by siglip\n",
    "txt_agreement_only_ft = set(edges_txt_sigl_ft).intersection(edges_txt_sigl_ft_best).difference(edges_txt_sigl)\n",
    "# only siglip ft \n",
    "txt_only_siglip_ft = set(edges_txt_sigl_ft).difference(edges_txt_sigl_ft_best,edges_txt_sigl)\n",
    "# only siglip ft best\n",
    "txt_only_siglip_ft_best = set(edges_txt_sigl_ft_best).difference(edges_txt_sigl_ft,edges_txt_sigl)"
   ]
  },
  {
   "cell_type": "code",
   "execution_count": 10,
   "metadata": {},
   "outputs": [
    {
     "name": "stdout",
     "output_type": "stream",
     "text": [
      "Get inputs...\n",
      "Compute similarities...\n",
      "--- Get similarities ---\n",
      "--- Using 0.09570732179132528 as threshold ---\n",
      "--- Aggregate similarities by record ---\n",
      "--- Threshold similarities and binarize ---\n",
      "Retrieve edges...\n",
      "Get inputs...\n",
      "Compute similarities...\n",
      "--- Get similarities ---\n",
      "--- Using 0.09827218164253193 as threshold ---\n",
      "--- Aggregate similarities by record ---\n",
      "--- Threshold similarities and binarize ---\n",
      "Retrieve edges...\n",
      "Get inputs...\n",
      "Compute similarities...\n",
      "--- Get similarities ---\n",
      "--- Using 0.10449278490318314 as threshold ---\n",
      "--- Aggregate similarities by record ---\n",
      "--- Threshold similarities and binarize ---\n",
      "Retrieve edges...\n"
     ]
    }
   ],
   "source": [
    "edges_txt_img_sigl, _, _ = get_edges(collection_db,coll1,coll2, 'text','image', 'max',percentile )\n",
    "edges_txt_img_sigl_ft, _, _ = get_edges(collection_db_ft,coll1,coll2, 'text','image', 'max',percentile )\n",
    "edges_txt_img_sigl_ft_best, _, _ = get_edges(collection_db_ft_best,coll1,coll2, 'text','image', 'max',percentile )"
   ]
  },
  {
   "cell_type": "code",
   "execution_count": 11,
   "metadata": {},
   "outputs": [],
   "source": [
    "# agreement between the three methods\n",
    "txt_img_common_links = set(edges_txt_img_sigl).intersection(edges_txt_img_sigl_ft,edges_txt_img_sigl_ft_best)\n",
    "# only in siglip not an edge returned by fine-tuned models\n",
    "txt_img_only_siglip = set(edges_txt_img_sigl).difference(edges_txt_img_sigl_ft,edges_txt_img_sigl_ft_best)\n",
    "# agreement among fine-tuned models but not by siglip\n",
    "txt_img_agreement_only_ft = set(edges_txt_img_sigl_ft).intersection(edges_txt_img_sigl_ft_best).difference(edges_txt_img_sigl)\n",
    "# only siglip ft \n",
    "txt_img_only_siglip_ft = set(edges_txt_img_sigl_ft).difference(edges_txt_img_sigl_ft_best,edges_txt_img_sigl)\n",
    "# only siglip ft best\n",
    "txt_img_only_siglip_ft_best = set(edges_txt_img_sigl_ft_best).difference(edges_txt_img_sigl_ft,edges_txt_img_sigl)"
   ]
  },
  {
   "cell_type": "code",
   "execution_count": 12,
   "metadata": {},
   "outputs": [],
   "source": [
    "# # agreement between the three methods\n",
    "# mult_common_links = set(txt_common_links).intersection(img_common_links)\n",
    "# # only in siglip not an edge returned by fine-tuned models\n",
    "# mult_only_siglip = set(txt_only_siglip).intersection(img_only_siglip)\n",
    "# # agreement among fine-tuned models but not by siglip\n",
    "# mult_agreement_only_ft = set(txt_agreement_only_ft).intersection(img_agreement_only_ft)\n",
    "# # only siglip ft \n",
    "# mult_only_siglip_ft = set(txt_only_siglip_ft).intersection(only_siglip_ft)\n",
    "# # only siglip ft text\n",
    "# mult_only_siglip_ft_text = set(txt_only_siglip_ft_text).intersection(oimg_nly_siglip_ft_text)\n"
   ]
  },
  {
   "cell_type": "code",
   "execution_count": 13,
   "metadata": {},
   "outputs": [],
   "source": [
    "all_links = [\n",
    "   ('img_common_links', img_common_links), \n",
    "    ('img_only_siglip', img_only_siglip), \n",
    "    ('img_agreement_only_ft', img_agreement_only_ft), \n",
    "    ('only_siglip_ft', only_siglip_ft), \n",
    "    ('img_only_siglip_ft_text', img_only_siglip_ft_best),\n",
    "    ('txt_common_links', txt_common_links), \n",
    "    ('txt_only_siglip', txt_only_siglip), \n",
    "    ('txt_agreement_only_ft', txt_agreement_only_ft), \n",
    "    ('txt_only_siglip_ft', txt_only_siglip_ft), \n",
    "    ('txt_only_siglip_ft_text', txt_only_siglip_ft_best),\n",
    "    ('txt_img_common_links', txt_img_common_links), \n",
    "    ('txt_img_only_siglip', txt_img_only_siglip), \n",
    "    ('txt_img_agreement_only_ft', txt_img_agreement_only_ft), \n",
    "    ('txt_img_only_siglip_ft', txt_img_only_siglip_ft), \n",
    "    ('txt_img_only_siglip_ft_text', txt_img_only_siglip_ft_best),\n",
    "    # ('mult_common_links', mult_common_links), \n",
    "    # ('mult_only_siglip', mult_only_siglip), \n",
    "    # ('mult_agreement_only_ft', mult_agreement_only_ft), \n",
    "    # ('mult_only_siglip_ft', mult_only_siglip_ft), \n",
    "    # ('mult_only_siglip_ft_text', mult_only_siglip_ft_text)\n",
    "]\n",
    "    "
   ]
  },
  {
   "cell_type": "markdown",
   "metadata": {},
   "source": [
    "# Export links and images"
   ]
  },
  {
   "cell_type": "code",
   "execution_count": 259,
   "metadata": {},
   "outputs": [
    {
     "data": {
      "text/plain": [
       "(105, 3)"
      ]
     },
     "execution_count": 259,
     "metadata": {},
     "output_type": "execute_result"
    }
   ],
   "source": [
    "annotator = 'GrG'\n",
    "\n",
    "from random import shuffle\n",
    "to_annotate = []\n",
    "top_n = 7\n",
    "for name, links in all_links:\n",
    "    links = list(links)\n",
    "    random.shuffle(links)\n",
    "    to_annotate.extend([(name, *link) for link in links[:top_n]])\n",
    "\n",
    "df_annotation = pd.DataFrame(to_annotate, columns=['link_type','source','target'])\n",
    "df_annotation.shape"
   ]
  },
  {
   "cell_type": "code",
   "execution_count": 260,
   "metadata": {},
   "outputs": [
    {
     "data": {
      "text/plain": [
       "(105, 13)"
      ]
     },
     "execution_count": 260,
     "metadata": {},
     "output_type": "execute_result"
    }
   ],
   "source": [
    "df_imgs = collection_df[['record_id','img_url','img_path','description','name']].drop_duplicates().reset_index(drop=True)\n",
    "df_annotation_with_img = df_annotation.merge(\n",
    "    df_imgs, \n",
    "    left_on='source', right_on='record_id', how='left'\n",
    "        ).merge(df_imgs, left_on='target', right_on='record_id', how='left', suffixes=('_source','_target'))\n",
    "df_annotation_with_img.drop_duplicates(subset=['source','target'], inplace=True)\n",
    "df_annotation_with_img.shape"
   ]
  },
  {
   "cell_type": "code",
   "execution_count": 261,
   "metadata": {},
   "outputs": [],
   "source": [
    "df_annotation_with_img.to_csv('data/heritage_weaver_annotations.csv', index=False)"
   ]
  },
  {
   "cell_type": "code",
   "execution_count": 262,
   "metadata": {},
   "outputs": [],
   "source": [
    "def record_pair_image(record_description_pair):\n",
    "    fig, axes = plt.subplots(1, 2, figsize=(15, 7.5))\n",
    "    \n",
    "    for i,pair in enumerate(record_description_pair):\n",
    "        #i+=1\n",
    "        img_path = pair[0]\n",
    "        description = soft_wrap_text(pair[1][:200])\n",
    "        \n",
    "        img = Image.open(img_path).convert(\"RGB\")\n",
    "        img.thumbnail((224, 224))\n",
    "        axes[i].imshow(img)\n",
    "        axes[i].set_title(description, fontsize = 18)\n",
    "        axes[i].axis('off')\n",
    "         \n",
    "    #plt.show()\n",
    "    return fig"
   ]
  },
  {
   "cell_type": "code",
   "execution_count": 263,
   "metadata": {},
   "outputs": [],
   "source": [
    "df_annotation_with_img = df_annotation_with_img.sample(frac=1).reset_index(drop=True)"
   ]
  },
  {
   "cell_type": "code",
   "execution_count": 264,
   "metadata": {},
   "outputs": [
    {
     "data": {
      "text/plain": [
       "105"
      ]
     },
     "execution_count": 264,
     "metadata": {},
     "output_type": "execute_result"
    }
   ],
   "source": [
    "image_source = list(df_annotation_with_img[['img_path_source','description_source']].values)\n",
    "image_target = list(df_annotation_with_img[['img_path_target','description_target']].values)\n",
    "image_pairs = list(zip(image_source, image_target))\n",
    "len(image_pairs)"
   ]
  },
  {
   "cell_type": "code",
   "execution_count": 265,
   "metadata": {},
   "outputs": [],
   "source": [
    "#data = [[i,record_pair_image(p)] for i,p in enumerate(image_pairs[:3])]"
   ]
  },
  {
   "cell_type": "code",
   "execution_count": 266,
   "metadata": {},
   "outputs": [],
   "source": [
    "# pd.DataFrame(data).to_excel('data/heritage_weaver_annotations.xlsx', index=False)"
   ]
  },
  {
   "cell_type": "code",
   "execution_count": 267,
   "metadata": {},
   "outputs": [],
   "source": [
    "import pandas as pd\n",
    "import matplotlib.pyplot as plt\n",
    "from io import BytesIO\n",
    "\n",
    "def save_images_for_annoation(image_pairs, output_path):\n",
    " \n",
    "    \"\"\"\n",
    "    Save a DataFrame to Excel with matplotlib-generated images in specific cells.\n",
    "    \n",
    "    Parameters:\n",
    "    - image pairs:\n",
    "    - output: Output image.\n",
    "    \"\"\"\n",
    "    #df = pd.DataFrame()\n",
    "    # Create a Pandas Excel writer object using XlsxWriter as the engine\n",
    "    #with pd.ExcelWriter(output_excel, engine='xlsxwriter') as writer:\n",
    "        # Convert the DataFrame to an Excel object\n",
    "    output_path = Path(output_path)\n",
    "    output_path.mkdir(exist_ok=True, parents=True)\n",
    "    for idx, img_pair in enumerate(image_pairs):\n",
    "            # Create a BytesIO object to hold the image data in memory\n",
    "            #image_data = BytesIO()\n",
    "\n",
    "            # Generate the matplotlib figure and save it to the BytesIO object\n",
    "            fig = record_pair_image(img_pair)  # Assume the function generates and returns a figure\n",
    "            fig.savefig(output_path / f'{idx}.jpg', format='jpg')\n",
    "            plt.close(fig)  # Close the figure to free up memory\n",
    "\n",
    "            # Seek to the beginning of the BytesIO object so it can be read from\n",
    "    print('done')\n",
    "\n",
    "\n"
   ]
  },
  {
   "cell_type": "code",
   "execution_count": 268,
   "metadata": {},
   "outputs": [
    {
     "name": "stdout",
     "output_type": "stream",
     "text": [
      "done\n"
     ]
    }
   ],
   "source": [
    "# Output Excel file path\n",
    "output = f'data/linkage_annotations_{annotator}'\n",
    "\n",
    "# Save DataFrame with matplotlib-generated images\n",
    "save_images_for_annoation(image_pairs, output)\n",
    "df_annotation_with_img.to_csv(f'{output}/{annotator}_metdata.csv', index=True)"
   ]
  },
  {
   "cell_type": "markdown",
   "metadata": {},
   "source": [
    "# Analyse Annotations\n",
    "\n",
    "## Retrieval"
   ]
  },
  {
   "cell_type": "code",
   "execution_count": 3,
   "metadata": {},
   "outputs": [
    {
     "data": {
      "text/plain": [
       "(72, 13)"
      ]
     },
     "execution_count": 3,
     "metadata": {},
     "output_type": "execute_result"
    }
   ],
   "source": [
    "from pathlib import Path\n",
    "import pandas as pd\n",
    "\n",
    "descriptions = pd.read_csv('./data/retrieval_annotations/retrieval_annotations.csv')\n",
    "descriptions['Row_number'] = [f'Row {i}' for i in range(1, 4) for _ in range(4)] * (descriptions.experiment_id.max() + 1)\n",
    "descriptions.drop_duplicates(subset=['Row_number','experiment_id'], inplace=True)\n",
    "descriptions['key'] = descriptions.apply(lambda x: f'{x.Row_number}_{x.experiment_id}', axis=1)\n",
    "descriptions.shape"
   ]
  },
  {
   "cell_type": "code",
   "execution_count": 4,
   "metadata": {},
   "outputs": [
    {
     "name": "stdout",
     "output_type": "stream",
     "text": [
      "6\n"
     ]
    }
   ],
   "source": [
    "annot_csv_files_1 =  list(Path('annotations/csv').glob('1_*.csv'))\n",
    "print(len(annot_csv_files_1))"
   ]
  },
  {
   "cell_type": "code",
   "execution_count": 5,
   "metadata": {},
   "outputs": [],
   "source": [
    "merged_df = []\n",
    "\n",
    "for anno_file in annot_csv_files_1:\n",
    "    df = pd.read_csv(anno_file)\n",
    "    annotated = descriptions[descriptions.experiment_id <= df.index.max()]\n",
    "    #print(annotated.shape)\n",
    "    df = df[~df.choice.isnull()]\n",
    "    df['key'] = df.apply(lambda x: f'{x.choice}_{x.name}', axis=1)\n",
    "    merged = annotated.merge(df, on='key', how='left')\n",
    "    merged['selected'] = merged['choice'].fillna(False).astype(bool)\n",
    "    merged_df.append(merged)\n",
    "    \n",
    "merged_df = pd.concat(merged_df, axis=0)"
   ]
  },
  {
   "cell_type": "code",
   "execution_count": 6,
   "metadata": {},
   "outputs": [],
   "source": [
    "merged_df['model'] = merged_df.model.map({'ft':'ft-last', 'ft-best':'ft-best', 'base':'base'})"
   ]
  },
  {
   "cell_type": "code",
   "execution_count": 7,
   "metadata": {},
   "outputs": [
    {
     "data": {
      "text/html": [
       "<div>\n",
       "<style scoped>\n",
       "    .dataframe tbody tr th:only-of-type {\n",
       "        vertical-align: middle;\n",
       "    }\n",
       "\n",
       "    .dataframe tbody tr th {\n",
       "        vertical-align: top;\n",
       "    }\n",
       "\n",
       "    .dataframe thead th {\n",
       "        text-align: right;\n",
       "    }\n",
       "</style>\n",
       "<table border=\"1\" class=\"dataframe\">\n",
       "  <thead>\n",
       "    <tr style=\"text-align: right;\">\n",
       "      <th></th>\n",
       "      <th>selected</th>\n",
       "      <th>experiment_id</th>\n",
       "      <th>annotator</th>\n",
       "      <th>model</th>\n",
       "    </tr>\n",
       "  </thead>\n",
       "  <tbody>\n",
       "    <tr>\n",
       "      <th>0</th>\n",
       "      <td>True</td>\n",
       "      <td>0</td>\n",
       "      <td>2.0</td>\n",
       "      <td>ft-best</td>\n",
       "    </tr>\n",
       "    <tr>\n",
       "      <th>1</th>\n",
       "      <td>False</td>\n",
       "      <td>0</td>\n",
       "      <td>NaN</td>\n",
       "      <td>base</td>\n",
       "    </tr>\n",
       "    <tr>\n",
       "      <th>2</th>\n",
       "      <td>False</td>\n",
       "      <td>0</td>\n",
       "      <td>NaN</td>\n",
       "      <td>ft-last</td>\n",
       "    </tr>\n",
       "    <tr>\n",
       "      <th>3</th>\n",
       "      <td>False</td>\n",
       "      <td>1</td>\n",
       "      <td>NaN</td>\n",
       "      <td>ft-last</td>\n",
       "    </tr>\n",
       "    <tr>\n",
       "      <th>4</th>\n",
       "      <td>True</td>\n",
       "      <td>1</td>\n",
       "      <td>2.0</td>\n",
       "      <td>base</td>\n",
       "    </tr>\n",
       "    <tr>\n",
       "      <th>...</th>\n",
       "      <td>...</td>\n",
       "      <td>...</td>\n",
       "      <td>...</td>\n",
       "      <td>...</td>\n",
       "    </tr>\n",
       "    <tr>\n",
       "      <th>424</th>\n",
       "      <td>False</td>\n",
       "      <td>22</td>\n",
       "      <td>NaN</td>\n",
       "      <td>ft-last</td>\n",
       "    </tr>\n",
       "    <tr>\n",
       "      <th>425</th>\n",
       "      <td>True</td>\n",
       "      <td>22</td>\n",
       "      <td>7.0</td>\n",
       "      <td>ft-best</td>\n",
       "    </tr>\n",
       "    <tr>\n",
       "      <th>426</th>\n",
       "      <td>False</td>\n",
       "      <td>23</td>\n",
       "      <td>NaN</td>\n",
       "      <td>ft-last</td>\n",
       "    </tr>\n",
       "    <tr>\n",
       "      <th>427</th>\n",
       "      <td>False</td>\n",
       "      <td>23</td>\n",
       "      <td>NaN</td>\n",
       "      <td>base</td>\n",
       "    </tr>\n",
       "    <tr>\n",
       "      <th>428</th>\n",
       "      <td>True</td>\n",
       "      <td>23</td>\n",
       "      <td>7.0</td>\n",
       "      <td>ft-best</td>\n",
       "    </tr>\n",
       "  </tbody>\n",
       "</table>\n",
       "<p>429 rows × 4 columns</p>\n",
       "</div>"
      ],
      "text/plain": [
       "     selected  experiment_id  annotator    model\n",
       "0        True              0        2.0  ft-best\n",
       "1       False              0        NaN     base\n",
       "2       False              0        NaN  ft-last\n",
       "3       False              1        NaN  ft-last\n",
       "4        True              1        2.0     base\n",
       "..        ...            ...        ...      ...\n",
       "424     False             22        NaN  ft-last\n",
       "425      True             22        7.0  ft-best\n",
       "426     False             23        NaN  ft-last\n",
       "427     False             23        NaN     base\n",
       "428      True             23        7.0  ft-best\n",
       "\n",
       "[429 rows x 4 columns]"
      ]
     },
     "execution_count": 7,
     "metadata": {},
     "output_type": "execute_result"
    }
   ],
   "source": [
    "merged_df[['selected','experiment_id','annotator','model']].reset_index(drop=True)"
   ]
  },
  {
   "cell_type": "code",
   "execution_count": 8,
   "metadata": {},
   "outputs": [],
   "source": [
    "merged_df['experiment_start_from'] = merged_df.experiment_start_from.map({0:'1. top 4', 5:'2. top 5 to 9', 25:'3. top 25 to 29'})\n"
   ]
  },
  {
   "cell_type": "code",
   "execution_count": 9,
   "metadata": {},
   "outputs": [
    {
     "data": {
      "text/plain": [
       "47.666666666666664"
      ]
     },
     "execution_count": 9,
     "metadata": {},
     "output_type": "execute_result"
    }
   ],
   "source": [
    "merged_df.shape[0] / 9"
   ]
  },
  {
   "cell_type": "code",
   "execution_count": 10,
   "metadata": {},
   "outputs": [
    {
     "data": {
      "text/plain": [
       "<AxesSubplot:xlabel='model'>"
      ]
     },
     "execution_count": 10,
     "metadata": {},
     "output_type": "execute_result"
    },
    {
     "data": {
      "image/png": "[encoded data removed]",
      "text/plain": [
       "<Figure size 1500x750 with 1 Axes>"
      ]
     },
     "metadata": {},
     "output_type": "display_data"
    }
   ],
   "source": [
    "merged_df[['selected','model']].groupby('model').sum().plot(kind='bar', figsize=(15, 7.5))"
   ]
  },
  {
   "cell_type": "code",
   "execution_count": 11,
   "metadata": {},
   "outputs": [
    {
     "data": {
      "text/plain": [
       "<AxesSubplot:xlabel='experiment_start_from'>"
      ]
     },
     "execution_count": 11,
     "metadata": {},
     "output_type": "execute_result"
    },
    {
     "data": {
      "image/png": "[encoded data removed]",
      "text/plain": [
       "<Figure size 750x750 with 1 Axes>"
      ]
     },
     "metadata": {},
     "output_type": "display_data"
    }
   ],
   "source": [
    "merged_df[merged_df.experiment_start_from=='1. top 4'].groupby(\n",
    "    ['experiment_start_from','model'])['selected'].sum().unstack().plot(\n",
    "            kind='bar', figsize=(7.5, 7.5))"
   ]
  },
  {
   "cell_type": "code",
   "execution_count": 12,
   "metadata": {},
   "outputs": [
    {
     "data": {
      "text/plain": [
       "<AxesSubplot:xlabel='experiment_start_from'>"
      ]
     },
     "execution_count": 12,
     "metadata": {},
     "output_type": "execute_result"
    },
    {
     "data": {
      "image/png": "[encoded data removed]",
      "text/plain": [
       "<Figure size 1500x750 with 1 Axes>"
      ]
     },
     "metadata": {},
     "output_type": "display_data"
    }
   ],
   "source": [
    "merged_df.groupby(['experiment_start_from','model'])['selected'].sum().unstack().plot(kind='bar', figsize=(15, 7.5))"
   ]
  },
  {
   "cell_type": "markdown",
   "metadata": {},
   "source": [
    "## Linking"
   ]
  },
  {
   "cell_type": "code",
   "execution_count": 13,
   "metadata": {},
   "outputs": [
    {
     "data": {
      "text/plain": [
       "{3: PosixPath('data/linkage_annotations_ML_3/ML_3_metdata.csv'),\n",
       " 7: PosixPath('data/linkage_annotations_DB_7/DB_7_metdata.csv'),\n",
       " 6: PosixPath('data/linkage_annotations_GB_6/GB_6_metdata.csv'),\n",
       " 8: PosixPath('data/linkage_annotations_TK_8/TK_8_metdata.csv'),\n",
       " 10: PosixPath('data/linkage_annotations_JA_10/JA_10_metdata.csv'),\n",
       " 2: PosixPath('data/linkage_annotations_GG_2/GG_2_metdata.csv')}"
      ]
     },
     "execution_count": 13,
     "metadata": {},
     "output_type": "execute_result"
    }
   ],
   "source": [
    "descriptions_dict = {int(p.stem.split('_')[1]):p for p in list(Path('./data').glob('linkage_annotations_*/*_*_*.csv'))}\n",
    "descriptions_dict\n"
   ]
  },
  {
   "cell_type": "code",
   "execution_count": 14,
   "metadata": {},
   "outputs": [
    {
     "data": {
      "text/plain": [
       "(551, 21)"
      ]
     },
     "execution_count": 14,
     "metadata": {},
     "output_type": "execute_result"
    }
   ],
   "source": [
    "annot_csv_files_2 =  list(Path('annotations/csv').glob('2_*.csv'))\n",
    "\n",
    "dfs = []\n",
    "for p in annot_csv_files_2:\n",
    "    df = pd.read_csv(p)\n",
    "    annotator_id = df.annotator.unique()[0]\n",
    "    description = pd.read_csv(descriptions_dict[annotator_id],index_col=0)\n",
    "    dfs.append(df.merge(description, left_index=True, right_index=True, how='left'))\n",
    "\n",
    "df_all = pd.concat(dfs, axis=0, ignore_index=True)\n",
    "df_all.shape"
   ]
  },
  {
   "cell_type": "code",
   "execution_count": 15,
   "metadata": {},
   "outputs": [
    {
     "data": {
      "text/plain": [
       "(551, 21)"
      ]
     },
     "execution_count": 15,
     "metadata": {},
     "output_type": "execute_result"
    }
   ],
   "source": [
    "df_all.shape"
   ]
  },
  {
   "cell_type": "code",
   "execution_count": 16,
   "metadata": {},
   "outputs": [
    {
     "data": {
      "text/plain": [
       "<AxesSubplot:>"
      ]
     },
     "execution_count": 16,
     "metadata": {},
     "output_type": "execute_result"
    },
    {
     "data": {
      "image/png": "[encoded data removed]",
      "text/plain": [
       "<Figure size 600x550 with 1 Axes>"
      ]
     },
     "metadata": {},
     "output_type": "display_data"
    }
   ],
   "source": [
    "df_all.choice.value_counts().plot(kind='bar', figsize=(6, 5.5))"
   ]
  },
  {
   "cell_type": "code",
   "execution_count": 17,
   "metadata": {},
   "outputs": [
    {
     "data": {
      "text/plain": [
       "img_common_links               39\n",
       "txt_common_links               39\n",
       "txt_img_agreement_only_ft      39\n",
       "txt_only_siglip                39\n",
       "txt_img_only_siglip_ft         38\n",
       "txt_only_siglip_ft_text        38\n",
       "only_siglip_ft                 37\n",
       "txt_only_siglip_ft             37\n",
       "img_only_siglip                36\n",
       "img_agreement_only_ft          36\n",
       "txt_img_common_links           36\n",
       "txt_img_only_siglip            36\n",
       "txt_img_only_siglip_ft_text    34\n",
       "img_only_siglip_ft_text        34\n",
       "txt_agreement_only_ft          33\n",
       "Name: link_type, dtype: int64"
      ]
     },
     "execution_count": 17,
     "metadata": {},
     "output_type": "execute_result"
    }
   ],
   "source": [
    "df_all.link_type.value_counts()"
   ]
  },
  {
   "cell_type": "code",
   "execution_count": 18,
   "metadata": {},
   "outputs": [
    {
     "data": {
      "text/plain": [
       "link_type\n",
       "img_agreement_only_ft          36\n",
       "img_common_links               39\n",
       "img_only_siglip                36\n",
       "img_only_siglip_ft_text        34\n",
       "only_siglip_ft                 37\n",
       "txt_agreement_only_ft          33\n",
       "txt_common_links               39\n",
       "txt_img_agreement_only_ft      39\n",
       "txt_img_common_links           36\n",
       "txt_img_only_siglip            36\n",
       "txt_img_only_siglip_ft         38\n",
       "txt_img_only_siglip_ft_text    34\n",
       "txt_only_siglip                39\n",
       "txt_only_siglip_ft             37\n",
       "txt_only_siglip_ft_text        38\n",
       "Name: choice, dtype: int64"
      ]
     },
     "execution_count": 18,
     "metadata": {},
     "output_type": "execute_result"
    }
   ],
   "source": [
    "df_all.groupby('link_type')['choice'].size()"
   ]
  },
  {
   "cell_type": "code",
   "execution_count": 19,
   "metadata": {},
   "outputs": [
    {
     "data": {
      "text/html": [
       "<div>\n",
       "<style scoped>\n",
       "    .dataframe tbody tr th:only-of-type {\n",
       "        vertical-align: middle;\n",
       "    }\n",
       "\n",
       "    .dataframe tbody tr th {\n",
       "        vertical-align: top;\n",
       "    }\n",
       "\n",
       "    .dataframe thead th {\n",
       "        text-align: right;\n",
       "    }\n",
       "</style>\n",
       "<table border=\"1\" class=\"dataframe\">\n",
       "  <thead>\n",
       "    <tr style=\"text-align: right;\">\n",
       "      <th></th>\n",
       "      <th>link_type</th>\n",
       "      <th>model</th>\n",
       "    </tr>\n",
       "  </thead>\n",
       "  <tbody>\n",
       "    <tr>\n",
       "      <th>0</th>\n",
       "      <td>txt_img_only_siglip_ft_text</td>\n",
       "      <td>[0, 0, 1]</td>\n",
       "    </tr>\n",
       "    <tr>\n",
       "      <th>1</th>\n",
       "      <td>img_only_siglip</td>\n",
       "      <td>[1, 0, 0]</td>\n",
       "    </tr>\n",
       "    <tr>\n",
       "      <th>2</th>\n",
       "      <td>img_common_links</td>\n",
       "      <td>[1, 1, 1]</td>\n",
       "    </tr>\n",
       "    <tr>\n",
       "      <th>3</th>\n",
       "      <td>txt_img_only_siglip_ft</td>\n",
       "      <td>[0, 1, 0]</td>\n",
       "    </tr>\n",
       "    <tr>\n",
       "      <th>4</th>\n",
       "      <td>img_agreement_only_ft</td>\n",
       "      <td>[0, 1, 1]</td>\n",
       "    </tr>\n",
       "    <tr>\n",
       "      <th>...</th>\n",
       "      <td>...</td>\n",
       "      <td>...</td>\n",
       "    </tr>\n",
       "    <tr>\n",
       "      <th>546</th>\n",
       "      <td>txt_common_links</td>\n",
       "      <td>[1, 1, 1]</td>\n",
       "    </tr>\n",
       "    <tr>\n",
       "      <th>547</th>\n",
       "      <td>img_only_siglip_ft_text</td>\n",
       "      <td>[0, 0, 1]</td>\n",
       "    </tr>\n",
       "    <tr>\n",
       "      <th>548</th>\n",
       "      <td>txt_img_common_links</td>\n",
       "      <td>[1, 1, 1]</td>\n",
       "    </tr>\n",
       "    <tr>\n",
       "      <th>549</th>\n",
       "      <td>txt_img_common_links</td>\n",
       "      <td>[1, 1, 1]</td>\n",
       "    </tr>\n",
       "    <tr>\n",
       "      <th>550</th>\n",
       "      <td>txt_img_only_siglip</td>\n",
       "      <td>[1, 0, 0]</td>\n",
       "    </tr>\n",
       "  </tbody>\n",
       "</table>\n",
       "<p>551 rows × 2 columns</p>\n",
       "</div>"
      ],
      "text/plain": [
       "                       link_type      model\n",
       "0    txt_img_only_siglip_ft_text  [0, 0, 1]\n",
       "1                img_only_siglip  [1, 0, 0]\n",
       "2               img_common_links  [1, 1, 1]\n",
       "3         txt_img_only_siglip_ft  [0, 1, 0]\n",
       "4          img_agreement_only_ft  [0, 1, 1]\n",
       "..                           ...        ...\n",
       "546             txt_common_links  [1, 1, 1]\n",
       "547      img_only_siglip_ft_text  [0, 0, 1]\n",
       "548         txt_img_common_links  [1, 1, 1]\n",
       "549         txt_img_common_links  [1, 1, 1]\n",
       "550          txt_img_only_siglip  [1, 0, 0]\n",
       "\n",
       "[551 rows x 2 columns]"
      ]
     },
     "execution_count": 19,
     "metadata": {},
     "output_type": "execute_result"
    }
   ],
   "source": [
    "model_type = {'img_agreement_only_ft' : [0,1,1],       \n",
    "'img_common_links' :  [1,1,1],                \n",
    "'img_only_siglip' :  [1,0,0],             \n",
    "'img_only_siglip_ft_text' : [0,0,1],\n",
    "'only_siglip_ft' : [0,1,0], \n",
    "'txt_agreement_only_ft' : [0,1,1],      \n",
    "'txt_common_links' : [1,1,1],              \n",
    "'txt_img_agreement_only_ft': [0,1,1],     \n",
    "'txt_img_common_links' : [1,1,1],         \n",
    "'txt_img_only_siglip' : [1,0,0],        \n",
    "'txt_img_only_siglip_ft' : [0,1,0],     \n",
    "'txt_img_only_siglip_ft_text'  : [0,0,1],  \n",
    "'txt_only_siglip'   : [1,0,0],             \n",
    "'txt_only_siglip_ft' : [0,1,0],            \n",
    "'txt_only_siglip_ft_text' : [0,0,1]}\n",
    "df_all['model'] = df_all.link_type.map(model_type)\n",
    "df_all[['link_type','model']]"
   ]
  },
  {
   "cell_type": "code",
   "execution_count": 20,
   "metadata": {},
   "outputs": [
    {
     "data": {
      "text/plain": [
       "Unrelated         257\n",
       "Similar object    163\n",
       "Same category     127\n",
       "Same object         3\n",
       "Name: choice, dtype: int64"
      ]
     },
     "execution_count": 20,
     "metadata": {},
     "output_type": "execute_result"
    }
   ],
   "source": [
    "df_all.choice.value_counts()"
   ]
  },
  {
   "cell_type": "code",
   "execution_count": 21,
   "metadata": {},
   "outputs": [],
   "source": [
    "label_dict = {'Unrelated' : 0,\n",
    "'Similar object' : 2,\n",
    "'Same category' : 1,\n",
    "'Same object' : 3,}\n",
    "df_all['label'] = df_all['choice'].map(label_dict)"
   ]
  },
  {
   "cell_type": "code",
   "execution_count": 22,
   "metadata": {},
   "outputs": [],
   "source": [
    "df_all['label_binary'] = df_all['label'].apply(lambda x: 1 if x > 0 else 0) \n"
   ]
  },
  {
   "cell_type": "code",
   "execution_count": 23,
   "metadata": {},
   "outputs": [],
   "source": [
    "df_model = pd.DataFrame(df_all[\"model\"].to_list(), columns=['siglio','siglip-ft', 'siglip-text'])\n",
    "df_model['label'] = df_all['label_binary'].astype(int)"
   ]
  },
  {
   "cell_type": "code",
   "execution_count": 25,
   "metadata": {},
   "outputs": [
    {
     "name": "stderr",
     "output_type": "stream",
     "text": [
      "100%|██████████| 101/101 [00:00<00:00, 1000.59it/s]\n"
     ]
    }
   ],
   "source": [
    "from tqdm import tqdm\n",
    "from sklearn.linear_model import LogisticRegression\n",
    "randomize = True\n",
    "\n",
    "\n",
    "X_train = df_model[['siglio','siglip-ft', 'siglip-text']]\n",
    "y_train = df_model['label']\n",
    "model = LogisticRegression()\n",
    "model.fit(X_train, y_train)\n",
    "coefficients = list(model.coef_[0])\n",
    "coefficients_random = []\n",
    "for _ in tqdm(range(101)):\n",
    "    y_train = y_train.sample(frac=1)\n",
    "    model = LogisticRegression()\n",
    "    model.fit(X_train, y_train)\n",
    "    coefficients_random.append(list(model.coef_[0]))\n"
   ]
  },
  {
   "cell_type": "code",
   "execution_count": 26,
   "metadata": {},
   "outputs": [
    {
     "data": {
      "text/plain": [
       "[-0.09849299967196773, 0.32786230389137716, 0.5122743553636917]"
      ]
     },
     "execution_count": 26,
     "metadata": {},
     "output_type": "execute_result"
    }
   ],
   "source": [
    "coefficients"
   ]
  },
  {
   "cell_type": "code",
   "execution_count": 30,
   "metadata": {},
   "outputs": [
    {
     "data": {
      "text/plain": [
       "<AxesSubplot:>"
      ]
     },
     "execution_count": 30,
     "metadata": {},
     "output_type": "execute_result"
    },
    {
     "data": {
      "image/png": "[encoded data removed]",
      "text/plain": [
       "<Figure size 640x480 with 1 Axes>"
      ]
     },
     "metadata": {},
     "output_type": "display_data"
    }
   ],
   "source": [
    "coeffs_df = pd.DataFrame([coefficients], columns=['base','ft-last', 'ft-best'])\n",
    "coeffs_df.plot(kind='bar')"
   ]
  },
  {
   "cell_type": "code",
   "execution_count": 31,
   "metadata": {},
   "outputs": [
    {
     "data": {
      "text/plain": [
       "<AxesSubplot:>"
      ]
     },
     "execution_count": 31,
     "metadata": {},
     "output_type": "execute_result"
    },
    {
     "data": {
      "image/png": "[encoded data removed]",
      "text/plain": [
       "<Figure size 640x480 with 1 Axes>"
      ]
     },
     "metadata": {},
     "output_type": "display_data"
    }
   ],
   "source": [
    "import seaborn as sns\n",
    "sns.set()\n",
    "coefficients_random_df = pd.DataFrame(coefficients_random,columns=['base','ft-last', 'ft-best'])\n",
    "sns.barplot(coefficients_random_df)\n"
   ]
  },
  {
   "cell_type": "code",
   "execution_count": 51,
   "metadata": {},
   "outputs": [
    {
     "data": {
      "text/plain": [
       "<matplotlib.lines.Line2D at 0x2b620c880>"
      ]
     },
     "execution_count": 51,
     "metadata": {},
     "output_type": "execute_result"
    },
    {
     "data": {
      "image/png": "[encoded data removed]",
      "text/plain": [
       "<Figure size 640x480 with 1 Axes>"
      ]
     },
     "metadata": {},
     "output_type": "display_data"
    }
   ],
   "source": [
    "\n",
    "model = 'ft-last'\n",
    "color = 'orange'\n",
    "ax  = coefficients_random_df[model].plot(kind='density', color=color)\n",
    "# you can add here as many lines as you want\n",
    "ax.axvline(coeffs_df[model].values[0], color=\"red\", linestyle=\"--\" )"
   ]
  },
  {
   "cell_type": "code",
   "execution_count": 52,
   "metadata": {},
   "outputs": [],
   "source": [
    "modality_type = {'img_agreement_only_ft' : [1,0,0],       \n",
    "'img_common_links' :  [1,0,0],             \n",
    "'img_only_siglip' : [1,0,0],          \n",
    "'img_only_siglip_ft_text' : [1,0,0],   \n",
    "'only_siglip_ft' : [1,0,0],   \n",
    "'txt_agreement_only_ft' : [0,1,0],      \n",
    "'txt_common_links' : [0,1,0],      \n",
    "'txt_img_agreement_only_ft': [0,1,0],     \n",
    "'txt_img_common_links' : [0,1,0],        \n",
    "'txt_img_only_siglip' : [0,0,1],        \n",
    "'txt_img_only_siglip_ft' :[0,0,1],\n",
    "'txt_img_only_siglip_ft_text'  :[0,0,1],\n",
    "'txt_only_siglip'   : [0,0,1],            \n",
    "'txt_only_siglip_ft' : [0,0,1],           \n",
    "'txt_only_siglip_ft_text' : [0,0,1],}\n",
    "df_all['modality'] = df_all.link_type.map(modality_type)\n",
    "#df_all[['link_type','modality']]"
   ]
  },
  {
   "cell_type": "code",
   "execution_count": 54,
   "metadata": {},
   "outputs": [],
   "source": [
    "df_modality = pd.DataFrame(df_all[\"modality\"].to_list(), columns=['img','text', 'txt_img'])\n",
    "df_modality['label'] = df_all['label_binary'].astype(int)"
   ]
  },
  {
   "cell_type": "code",
   "execution_count": 55,
   "metadata": {},
   "outputs": [
    {
     "name": "stderr",
     "output_type": "stream",
     "text": [
      "100%|██████████| 101/101 [00:00<00:00, 1261.07it/s]\n"
     ]
    }
   ],
   "source": [
    "from tqdm import tqdm\n",
    "from sklearn.linear_model import LogisticRegression\n",
    "randomize = True\n",
    "\n",
    "\n",
    "X_train = df_modality[['img','text', 'txt_img']]\n",
    "y_train = df_modality['label']\n",
    "model = LogisticRegression()\n",
    "model.fit(X_train, y_train)\n",
    "coefficients = list(model.coef_[0])\n",
    "coefficients_random = []\n",
    "for _ in tqdm(range(101)):\n",
    "    y_train = y_train.sample(frac=1)\n",
    "    model = LogisticRegression()\n",
    "    model.fit(X_train, y_train)\n",
    "    coefficients_random.append(list(model.coef_[0]))\n"
   ]
  },
  {
   "cell_type": "code",
   "execution_count": 56,
   "metadata": {},
   "outputs": [
    {
     "data": {
      "text/plain": [
       "<AxesSubplot:>"
      ]
     },
     "execution_count": 56,
     "metadata": {},
     "output_type": "execute_result"
    },
    {
     "data": {
      "image/png": "[encoded data removed]",
      "text/plain": [
       "<Figure size 640x480 with 1 Axes>"
      ]
     },
     "metadata": {},
     "output_type": "display_data"
    }
   ],
   "source": [
    "coeffs_df = pd.DataFrame([coefficients], columns=['img','text', 'txt_img'])\n",
    "coeffs_df.plot(kind='bar')"
   ]
  },
  {
   "cell_type": "code",
   "execution_count": 57,
   "metadata": {},
   "outputs": [],
   "source": [
    "X_train = pd.concat([df_modality[['img','text', 'txt_img']], df_model[['siglio','siglip-ft', 'siglip-text']]], axis=1)\n",
    "y_train = df_modality['label']\n"
   ]
  },
  {
   "cell_type": "code",
   "execution_count": 59,
   "metadata": {},
   "outputs": [
    {
     "name": "stderr",
     "output_type": "stream",
     "text": [
      "100%|██████████| 101/101 [00:00<00:00, 872.46it/s]\n"
     ]
    }
   ],
   "source": [
    "X_trainmodel = LogisticRegression()\n",
    "model.fit(X_train, y_train)\n",
    "coefficients = list(model.coef_[0])\n",
    "coefficients_random = []\n",
    "for _ in tqdm(range(101)):\n",
    "    y_train = y_train.sample(frac=1)\n",
    "    model = LogisticRegression()\n",
    "    model.fit(X_train, y_train)\n",
    "    coefficients_random.append(list(model.coef_[0]))"
   ]
  },
  {
   "cell_type": "code",
   "execution_count": 61,
   "metadata": {},
   "outputs": [
    {
     "data": {
      "text/plain": [
       "<AxesSubplot:>"
      ]
     },
     "execution_count": 61,
     "metadata": {},
     "output_type": "execute_result"
    },
    {
     "data": {
      "image/png": "[encoded data removed]",
      "text/plain": [
       "<Figure size 640x480 with 1 Axes>"
      ]
     },
     "metadata": {},
     "output_type": "display_data"
    }
   ],
   "source": [
    "coeffs_df = pd.DataFrame([coefficients], columns=['img','text', 'txt_img','base','ft-last', 'ft-best'])\n",
    "coeffs_df.plot(kind='bar')"
   ]
  },
  {
   "cell_type": "code",
   "execution_count": null,
   "metadata": {},
   "outputs": [],
   "source": []
  }
 ],
 "metadata": {
  "kernelspec": {
   "display_name": "heritageweaver",
   "language": "python",
   "name": "python3"
  },
  "language_info": {
   "codemirror_mode": {
    "name": "ipython",
    "version": 3
   },
   "file_extension": ".py",
   "mimetype": "text/x-python",
   "name": "python",
   "nbconvert_exporter": "python",
   "pygments_lexer": "ipython3",
   "version": "3.9.18"
  }
 },
 "nbformat": 4,
 "nbformat_minor": 2
}
